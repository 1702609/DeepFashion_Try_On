{
 "cells": [
  {
   "cell_type": "code",
   "execution_count": 1,
   "id": "f682ea70",
   "metadata": {},
   "outputs": [
    {
     "name": "stdout",
     "output_type": "stream",
     "text": [
      "?\n"
     ]
    }
   ],
   "source": [
    "from models import networks\n",
    "from options.test_options import TestOptions\n",
    "from models.models import create_model\n",
    "import util.util as util\n",
    "import os\n",
    "import numpy as np\n",
    "import torch\n",
    "import torch.nn as nn\n",
    "from torch.autograd import Variable\n",
    "import cv2\n",
    "from PIL import Image\n",
    "import torch.utils.data as data\n",
    "from torch.autograd import Variable\n",
    "import os.path as osp\n",
    "import torchvision.transforms as transforms\n",
    "import json\n",
    "from PIL import ImageDraw\n",
    "import itertools\n",
    "import torch.nn.functional as F\n",
    "import matplotlib.pyplot as plt\n",
    "from util.image_pool import ImagePool"
   ]
  },
  {
   "cell_type": "code",
   "execution_count": 2,
   "id": "7994edb8",
   "metadata": {},
   "outputs": [],
   "source": [
    "class Args:\n",
    "    name = 'label2city'\n",
    "    gpu_ids = [0, 1, 2, 3]\n",
    "    checkpoints_dir = './checkpoints'\n",
    "    model = 'pix2pixHD'\n",
    "    norm = 'instance'\n",
    "    use_dropout = True\n",
    "    verbose = True\n",
    "    batchSize = 1\n",
    "    loadSize = 512\n",
    "    fineSize = 512\n",
    "    label_nc = 20\n",
    "    input_nc = 3\n",
    "    output_nc = 3\n",
    "    dataroot = '../../after_vton_difficult_v2/'\n",
    "    datapairs = 'single_person2.txt'\n",
    "    resize_or_crop = 'scale_width'\n",
    "    serial_batches = True\n",
    "    no_flip = True\n",
    "    nThreads = 2\n",
    "    max_dataset_size = float(\"inf\")\n",
    "    display_winsize = 512\n",
    "    tf_log = True\n",
    "    netG = 'global'\n",
    "    ngf = 64\n",
    "    n_downsample_global = 4\n",
    "    n_blocks_global = 4\n",
    "    n_blocks_local = 3\n",
    "    n_local_enhancers = 1\n",
    "    niter_fix_global = 0\n",
    "    continue_train = True\n",
    "    display_freq = 100\n",
    "    print_freq = 100\n",
    "    save_latest_freq = 1000\n",
    "    save_epoch_freq = 10 \n",
    "    no_html = True\n",
    "    debug = True\n",
    "    load_pretrain = '../label2city'\n",
    "    which_epoch = 'latest'\n",
    "    phase = 'test'\n",
    "    niter = 100\n",
    "    niter_decay = 100\n",
    "    beta1 = 0.5\n",
    "    lr = 0.0002\n",
    "    num_D = 2\n",
    "    n_layers_D = 3\n",
    "    ndf = 64\n",
    "    lambda_feat = 10.0\n",
    "    no_ganFeat_loss = True\n",
    "    no_vgg_loss = False\n",
    "    no_lsgan = True\n",
    "    pool_size = 0\n",
    "    isTrain = True\n",
    "\n",
    "opt = Args"
   ]
  },
  {
   "cell_type": "code",
   "execution_count": 3,
   "id": "0c72b67a",
   "metadata": {},
   "outputs": [],
   "source": [
    "class Refine(nn.Module):\n",
    "    def __init__(self, input_nc, output_nc=3):\n",
    "        super(Refine, self).__init__()\n",
    "        nl = nn.InstanceNorm2d\n",
    "        self.conv1 = nn.Sequential(*[nn.Conv2d(input_nc, 64, kernel_size=3, stride=1, padding=1), nl(64), nn.ReLU(),\n",
    "                                     nn.Conv2d(64, 64, kernel_size=3, stride=1, padding=1), nl(64), nn.ReLU()])\n",
    "        self.pool1 = nn.MaxPool2d(kernel_size=(2, 2))\n",
    "\n",
    "        self.conv2 = nn.Sequential(*[nn.Conv2d(64, 128, kernel_size=3, stride=1, padding=1), nl(128), nn.ReLU(),\n",
    "                                     nn.Conv2d(128, 128, kernel_size=3, stride=1, padding=1), nl(128), nn.ReLU()])\n",
    "        self.pool2 = nn.MaxPool2d(kernel_size=(2, 2))\n",
    "\n",
    "        self.conv3 = nn.Sequential(*[nn.Conv2d(128, 256, kernel_size=3, stride=1, padding=1), nl(256), nn.ReLU(),\n",
    "                                     nn.Conv2d(256, 256, kernel_size=3, stride=1, padding=1), nl(256), nn.ReLU()])\n",
    "        self.pool3 = nn.MaxPool2d(kernel_size=(2, 2))\n",
    "\n",
    "        self.conv4 = nn.Sequential(*[nn.Conv2d(256, 512, kernel_size=3, stride=1, padding=1), nl(512), nn.ReLU(),\n",
    "                                     nn.Conv2d(512, 512, kernel_size=3, stride=1, padding=1), nl(512), nn.ReLU()])\n",
    "        self.drop4 = nn.Dropout(0.5)\n",
    "        self.pool4 = nn.MaxPool2d(kernel_size=(2, 2))\n",
    "\n",
    "        self.conv5 = nn.Sequential(*[nn.Conv2d(512, 1024, kernel_size=3, stride=1, padding=1), nl(1024), nn.ReLU(),\n",
    "                                     nn.Conv2d(1024, 1024, kernel_size=3, stride=1, padding=1), nl(1024), nn.ReLU()])\n",
    "        self.drop5 = nn.Dropout(0.5)\n",
    "\n",
    "        self.up6 = nn.Sequential(\n",
    "            *[nn.UpsamplingNearest2d(scale_factor=2), nn.Conv2d(1024, 512, kernel_size=3, stride=1, padding=1), nl(512),\n",
    "              nn.ReLU()])\n",
    "\n",
    "        self.conv6 = nn.Sequential(*[nn.Conv2d(1024, 512, kernel_size=3, stride=1, padding=1), nl(512), nn.ReLU(),\n",
    "                                     nn.Conv2d(512, 512, kernel_size=3, stride=1, padding=1), nl(512), nn.ReLU()])\n",
    "        self.up7 = nn.Sequential(\n",
    "            *[nn.UpsamplingNearest2d(scale_factor=2), nn.Conv2d(512, 256, kernel_size=3, stride=1, padding=1), nl(256),\n",
    "              nn.ReLU()])\n",
    "        self.conv7 = nn.Sequential(*[nn.Conv2d(512, 256, kernel_size=3, stride=1, padding=1), nl(256), nn.ReLU(),\n",
    "                                     nn.Conv2d(256, 256, kernel_size=3, stride=1, padding=1), nl(256), nn.ReLU()])\n",
    "\n",
    "        self.up8 = nn.Sequential(\n",
    "            *[nn.UpsamplingNearest2d(scale_factor=2), nn.Conv2d(256, 128, kernel_size=3, stride=1, padding=1), nl(128),\n",
    "              nn.ReLU()])\n",
    "\n",
    "        self.conv8 = nn.Sequential(*[nn.Conv2d(256, 128, kernel_size=3, stride=1, padding=1), nl(128), nn.ReLU(),\n",
    "                                     nn.Conv2d(128, 128, kernel_size=3, stride=1, padding=1), nl(128), nn.ReLU()])\n",
    "\n",
    "        self.up9 = nn.Sequential(\n",
    "            *[nn.UpsamplingNearest2d(scale_factor=2), nn.Conv2d(128, 64, kernel_size=3, stride=1, padding=1), nl(64),\n",
    "              nn.ReLU()])\n",
    "\n",
    "        self.conv9 = nn.Sequential(*[nn.Conv2d(128, 64, kernel_size=3, stride=1, padding=1), nl(64), nn.ReLU(),\n",
    "                                     nn.Conv2d(64, 64, kernel_size=3, stride=1, padding=1), nl(\n",
    "                                         64), nn.ReLU(),\n",
    "                                     nn.Conv2d(\n",
    "                                         64, output_nc, kernel_size=3, stride=1, padding=1)\n",
    "                                     ])\n",
    "\n",
    "    def refine(self, input):\n",
    "        conv1 = self.conv1(input)\n",
    "        pool1 = self.pool1(conv1)\n",
    "\n",
    "        conv2 = self.conv2(pool1)\n",
    "        pool2 = self.pool2(conv2)\n",
    "\n",
    "        conv3 = self.conv3(pool2)\n",
    "        pool3 = self.pool3(conv3)\n",
    "\n",
    "        conv4 = self.conv4(pool3)\n",
    "        drop4 = self.drop4(conv4)\n",
    "        pool4 = self.pool4(drop4)\n",
    "\n",
    "        conv5 = self.conv5(pool4)\n",
    "        drop5 = self.drop5(conv5)\n",
    "\n",
    "        up6 = self.up6(drop5)\n",
    "        conv6 = self.conv6(torch.cat([drop4, up6], 1))\n",
    "\n",
    "        up7 = self.up7(conv6)\n",
    "        conv7 = self.conv7(torch.cat([conv3, up7], 1))\n",
    "\n",
    "        up8 = self.up8(conv7)\n",
    "        conv8 = self.conv8(torch.cat([conv2, up8], 1))\n",
    "\n",
    "        up9 = self.up9(conv8)\n",
    "        conv9 = self.conv9(torch.cat([conv1, up9], 1))\n",
    "        return conv9"
   ]
  },
  {
   "cell_type": "code",
   "execution_count": 4,
   "id": "6d25e933",
   "metadata": {},
   "outputs": [],
   "source": [
    "with torch.no_grad():\n",
    "    G3 = Refine(24, 3)\n",
    "    G3.load_state_dict(torch.load('../label2city/latest_net_G.pth'))\n",
    "    G3.cuda()\n",
    "    G3.eval()"
   ]
  },
  {
   "cell_type": "code",
   "execution_count": 5,
   "id": "c61aedce",
   "metadata": {},
   "outputs": [],
   "source": [
    "def make_dataset(dir):\n",
    "    images = []\n",
    "    assert os.path.isdir(dir), '%s is not a valid directory' % dir\n",
    "    f = dir.split('/')[-1].split('_')[-1]\n",
    "    dirs= os.listdir(dir)\n",
    "    for img in dirs:\n",
    "        path = os.path.join(dir, img)\n",
    "        #print(path)\n",
    "        images.append(path)\n",
    "    return images\n",
    "\n",
    "def get_transform(method=Image.BICUBIC, normalize=True):\n",
    "        transform_list = []\n",
    "        transform_list += [transforms.ToTensor()]\n",
    "        if normalize:\n",
    "            transform_list += [transforms.Normalize((0.5, 0.5, 0.5),\n",
    "                                                    (0.5, 0.5, 0.5))]\n",
    "        return transforms.Compose(transform_list)\n",
    "    \n",
    "class BaseDataset(data.Dataset):\n",
    "    def __init__(self, opt):\n",
    "        self.opt = opt\n",
    "        super(BaseDataset, self).__init__()\n",
    "        \n",
    "        human_names = []\n",
    "        cloth_names = []\n",
    "        with open(os.path.join(opt.dataroot, opt.datapairs), 'r') as f:\n",
    "            for line in f.readlines():\n",
    "                h_name, c_name = line.strip().split()\n",
    "                human_names.append(h_name)\n",
    "                cloth_names.append(c_name)\n",
    "        self.human_names = human_names\n",
    "        self.cloth_names = cloth_names\n",
    "        \n",
    "    def image_for_pose(self, pose_name, transform):\n",
    "        with open(osp.join(pose_name), 'r') as f:\n",
    "            pose_label = json.load(f)\n",
    "            pose_data = pose_label['people'][0]['pose_keypoints']\n",
    "            pose_data = np.array(pose_data)\n",
    "            pose_data = pose_data.reshape((-1,3))\n",
    "        point_num = pose_data.shape[0]\n",
    "        fine_height = 256\n",
    "        fine_width = 192\n",
    "        pose_map = torch.zeros(point_num, fine_height, fine_width)\n",
    "        r = 5\n",
    "        im_pose = Image.new('L', (fine_width, fine_height))\n",
    "        pose_draw = ImageDraw.Draw(im_pose)\n",
    "        for i in range(point_num):\n",
    "            one_map = Image.new('L', (fine_width, fine_height))\n",
    "            draw = ImageDraw.Draw(one_map)\n",
    "            pointx = pose_data[i,0]\n",
    "            pointy = pose_data[i,1]\n",
    "            if pointx > 1 and pointy > 1:\n",
    "                draw.rectangle((pointx-r, pointy-r, pointx+r, pointy+r), 'white', 'white')\n",
    "                pose_draw.rectangle((pointx-r, pointy-r, pointx+r, pointy+r), 'white', 'white')\n",
    "            one_map = transform(one_map.convert('RGB'))\n",
    "            pose_map[i] = one_map[0]\n",
    "        return pose_map\n",
    "    \n",
    "    def __getitem__(self, index):        \n",
    "        c_name = self.cloth_names[index]\n",
    "        h_name = self.human_names[index]\n",
    "        A_path = osp.join(self.opt.dataroot, self.opt.phase ,'test' + '_label', h_name.replace(\".jpg\", \".png\"))\n",
    "        label = Image.open(A_path).convert('L')\n",
    "\n",
    "        B_path = osp.join(self.opt.dataroot, self.opt.phase ,'test' + '_img', h_name)\n",
    "        image = Image.open(B_path).convert('RGB') \n",
    "        mask = Image.open(B_path).convert('L')\n",
    "        \n",
    "        E_path = osp.join(self.opt.dataroot, self.opt.phase ,'test' + '_edge', c_name)\n",
    "        edge = Image.open(E_path).convert('L')\n",
    "                \n",
    "        C_path = osp.join(self.opt.dataroot, self.opt.phase ,'test' + '_color', c_name)\n",
    "        color = Image.open(C_path).convert('RGB')\n",
    "    \n",
    "        \n",
    "        transform_A = get_transform(method=Image.NEAREST, normalize=False)\n",
    "        label_tensor = transform_A(label) * 255\n",
    "        transform_B = get_transform()      \n",
    "        image_tensor = transform_B(image)\n",
    "        mask_tensor = transform_A(image)\n",
    "        edge_tensor = transform_A(edge)\n",
    "        color_tensor = transform_B(color)\n",
    "        pose_name = osp.join(self.opt.dataroot, self.opt.phase ,'test' + '_pose', h_name.replace('.jpg', '_keypoints.json'))\n",
    "        pose_map = self.image_for_pose(pose_name, transform_B)\n",
    "        \n",
    "        return {'label': label_tensor, 'image': image_tensor, \n",
    "                             'edge': edge_tensor,'color': color_tensor, \n",
    "                             'mask': mask_tensor, 'name' : c_name,\n",
    "                             'colormask': mask_tensor,'pose':pose_map}\n",
    "    \n",
    "    def __len__(self):\n",
    "        return len(self.human_names)"
   ]
  },
  {
   "cell_type": "code",
   "execution_count": 6,
   "id": "a9159c44",
   "metadata": {},
   "outputs": [],
   "source": [
    "t = BaseDataset(opt)\n",
    "dataloader = torch.utils.data.DataLoader(\n",
    "    t,\n",
    "    batch_size=opt.batchSize,\n",
    "    shuffle=False)"
   ]
  },
  {
   "cell_type": "code",
   "execution_count": 7,
   "id": "3d6ae076",
   "metadata": {},
   "outputs": [
    {
     "name": "stderr",
     "output_type": "stream",
     "text": [
      "C:\\Users\\Tasin\\anaconda3\\envs\\improve\\lib\\site-packages\\ipykernel_launcher.py:10: DeprecationWarning: `np.int` is a deprecated alias for the builtin `int`. To silence this warning, use `int` by itself. Doing this will not modify any behavior and is safe. When replacing `np.int`, you may wish to use e.g. `np.int64` or `np.int32` to specify the precision. If you wish to review your current use, check the release note link for additional information.\n",
      "Deprecated in NumPy 1.20; for more details and guidance: https://numpy.org/devdocs/release/1.20.0-notes.html#deprecations\n",
      "  # Remove the CWD from sys.path while we load stuff.\n",
      "C:\\Users\\Tasin\\anaconda3\\envs\\improve\\lib\\site-packages\\ipykernel_launcher.py:11: DeprecationWarning: `np.int` is a deprecated alias for the builtin `int`. To silence this warning, use `int` by itself. Doing this will not modify any behavior and is safe. When replacing `np.int`, you may wish to use e.g. `np.int64` or `np.int32` to specify the precision. If you wish to review your current use, check the release note link for additional information.\n",
      "Deprecated in NumPy 1.20; for more details and guidance: https://numpy.org/devdocs/release/1.20.0-notes.html#deprecations\n",
      "  # This is added back by InteractiveShellApp.init_path()\n",
      "C:\\Users\\Tasin\\anaconda3\\envs\\improve\\lib\\site-packages\\ipykernel_launcher.py:12: DeprecationWarning: `np.int` is a deprecated alias for the builtin `int`. To silence this warning, use `int` by itself. Doing this will not modify any behavior and is safe. When replacing `np.int`, you may wish to use e.g. `np.int64` or `np.int32` to specify the precision. If you wish to review your current use, check the release note link for additional information.\n",
      "Deprecated in NumPy 1.20; for more details and guidance: https://numpy.org/devdocs/release/1.20.0-notes.html#deprecations\n",
      "  if sys.path[0] == '':\n",
      "C:\\Users\\Tasin\\anaconda3\\envs\\improve\\lib\\site-packages\\ipykernel_launcher.py:102: DeprecationWarning: `np.int` is a deprecated alias for the builtin `int`. To silence this warning, use `int` by itself. Doing this will not modify any behavior and is safe. When replacing `np.int`, you may wish to use e.g. `np.int64` or `np.int32` to specify the precision. If you wish to review your current use, check the release note link for additional information.\n",
      "Deprecated in NumPy 1.20; for more details and guidance: https://numpy.org/devdocs/release/1.20.0-notes.html#deprecations\n",
      "C:\\Users\\Tasin\\anaconda3\\envs\\improve\\lib\\site-packages\\ipykernel_launcher.py:103: DeprecationWarning: `np.int` is a deprecated alias for the builtin `int`. To silence this warning, use `int` by itself. Doing this will not modify any behavior and is safe. When replacing `np.int`, you may wish to use e.g. `np.int64` or `np.int32` to specify the precision. If you wish to review your current use, check the release note link for additional information.\n",
      "Deprecated in NumPy 1.20; for more details and guidance: https://numpy.org/devdocs/release/1.20.0-notes.html#deprecations\n",
      "C:\\Users\\Tasin\\anaconda3\\envs\\improve\\lib\\site-packages\\ipykernel_launcher.py:115: DeprecationWarning: `np.float` is a deprecated alias for the builtin `float`. To silence this warning, use `float` by itself. Doing this will not modify any behavior and is safe. If you specifically wanted the numpy scalar type, use `np.float64` here.\n",
      "Deprecated in NumPy 1.20; for more details and guidance: https://numpy.org/devdocs/release/1.20.0-notes.html#deprecations\n",
      "C:\\Users\\Tasin\\anaconda3\\envs\\improve\\lib\\site-packages\\ipykernel_launcher.py:119: DeprecationWarning: `np.float` is a deprecated alias for the builtin `float`. To silence this warning, use `float` by itself. Doing this will not modify any behavior and is safe. If you specifically wanted the numpy scalar type, use `np.float64` here.\n",
      "Deprecated in NumPy 1.20; for more details and guidance: https://numpy.org/devdocs/release/1.20.0-notes.html#deprecations\n",
      "C:\\Users\\Tasin\\anaconda3\\envs\\improve\\lib\\site-packages\\ipykernel_launcher.py:120: DeprecationWarning: `np.float` is a deprecated alias for the builtin `float`. To silence this warning, use `float` by itself. Doing this will not modify any behavior and is safe. If you specifically wanted the numpy scalar type, use `np.float64` here.\n",
      "Deprecated in NumPy 1.20; for more details and guidance: https://numpy.org/devdocs/release/1.20.0-notes.html#deprecations\n",
      "C:\\Users\\Tasin\\anaconda3\\envs\\improve\\lib\\site-packages\\ipykernel_launcher.py:127: DeprecationWarning: `np.float` is a deprecated alias for the builtin `float`. To silence this warning, use `float` by itself. Doing this will not modify any behavior and is safe. If you specifically wanted the numpy scalar type, use `np.float64` here.\n",
      "Deprecated in NumPy 1.20; for more details and guidance: https://numpy.org/devdocs/release/1.20.0-notes.html#deprecations\n",
      "C:\\Users\\Tasin\\anaconda3\\envs\\improve\\lib\\site-packages\\ipykernel_launcher.py:128: DeprecationWarning: `np.float` is a deprecated alias for the builtin `float`. To silence this warning, use `float` by itself. Doing this will not modify any behavior and is safe. If you specifically wanted the numpy scalar type, use `np.float64` here.\n",
      "Deprecated in NumPy 1.20; for more details and guidance: https://numpy.org/devdocs/release/1.20.0-notes.html#deprecations\n",
      "C:\\Users\\Tasin\\anaconda3\\envs\\improve\\lib\\site-packages\\ipykernel_launcher.py:131: DeprecationWarning: `np.float` is a deprecated alias for the builtin `float`. To silence this warning, use `float` by itself. Doing this will not modify any behavior and is safe. If you specifically wanted the numpy scalar type, use `np.float64` here.\n",
      "Deprecated in NumPy 1.20; for more details and guidance: https://numpy.org/devdocs/release/1.20.0-notes.html#deprecations\n"
     ]
    }
   ],
   "source": [
    "def encode(label_map, size):\n",
    "    label_nc = 14\n",
    "    oneHot_size = (size[0], label_nc, size[2], size[3])\n",
    "    input_label = torch.cuda.FloatTensor(torch.Size(oneHot_size)).zero_()\n",
    "    input_label = input_label.scatter_(1, label_map.data.long().cuda(), 1.0)\n",
    "    return input_label\n",
    "\n",
    "def changearm(old_label):\n",
    "    label=old_label\n",
    "    arm1=torch.FloatTensor((label.cpu().numpy()==11).astype(np.int))\n",
    "    arm2=torch.FloatTensor((label.cpu().numpy()==13).astype(np.int))\n",
    "    noise=torch.FloatTensor((label.cpu().numpy()==7).astype(np.int))\n",
    "    label=label*(1-arm1)+arm1*4\n",
    "    label=label*(1-arm2)+arm2*4\n",
    "    label=label*(1-noise)+noise*4\n",
    "    return label\n",
    "\n",
    "def generate_discrete_label(inputs, label_nc, onehot=True):\n",
    "    pred_batch = []\n",
    "    size = inputs.size()\n",
    "    for input in inputs:\n",
    "        input = input.view(1, label_nc, size[2], size[3])\n",
    "        pred = np.squeeze(input.data.max(1)[1].cpu().numpy(), axis=0)\n",
    "        pred_batch.append(pred)\n",
    "    pred_batch = np.array(pred_batch)\n",
    "    pred_batch = torch.from_numpy(pred_batch)\n",
    "    label_map = []\n",
    "    for p in pred_batch:\n",
    "        p = p.view(1, 256, 192)\n",
    "        label_map.append(p)\n",
    "    label_map = torch.stack(label_map, 0)\n",
    "    if not onehot:\n",
    "        return label_map.float()\n",
    "    size = label_map.size()\n",
    "    oneHot_size = (size[0], label_nc, size[2], size[3])\n",
    "    input_label = torch.FloatTensor(torch.Size(oneHot_size)).zero_()\n",
    "    input_label = input_label.scatter_(1, label_map.data.long(), 1.0)\n",
    "    return input_label\n",
    "\n",
    "def gen_noise(shape):\n",
    "    noise = np.zeros(shape, dtype=np.uint8)\n",
    "    ### noise\n",
    "    noise = cv2.randn(noise, 0, 255)\n",
    "    noise = np.asarray(noise / 255, dtype=np.uint8)\n",
    "    noise = torch.tensor(noise, dtype=torch.float32)\n",
    "    return noise.cuda()\n",
    "\n",
    "def encode_input(label_map, clothes_mask,all_clothes_label):\n",
    "    size = label_map.size()\n",
    "    oneHot_size = (size[0], 14, size[2], size[3])\n",
    "    input_label = torch.cuda.FloatTensor(torch.Size(oneHot_size)).zero_()\n",
    "    input_label = input_label.scatter_(1, label_map.data.long().cuda(), 1.0)\n",
    "\n",
    "    masked_label= torch.cuda.FloatTensor(torch.Size(oneHot_size)).zero_()\n",
    "    masked_label=masked_label.scatter_(1,(label_map*(1-clothes_mask)).data.long().cuda(), 1.0)\n",
    "\n",
    "    c_label=torch.cuda.FloatTensor(torch.Size(oneHot_size)).zero_()\n",
    "    c_label=c_label.scatter_(1,all_clothes_label.data.long().cuda(), 1.0)\n",
    "\n",
    "    input_label = Variable(input_label)\n",
    "\n",
    "    return input_label,masked_label,c_label\n",
    "\n",
    "def ger_average_color(mask, arms):\n",
    "    color = torch.zeros(arms.shape)\n",
    "    for i in range(arms.shape[0]):\n",
    "        count = len(torch.nonzero(mask[i, :, :, :]))\n",
    "        if count < 10:\n",
    "            color[i, 0, :, :] = 0\n",
    "            color[i, 1, :, :] = 0\n",
    "            color[i, 2, :, :] = 0\n",
    "\n",
    "        else:\n",
    "            color[i, 0, :, :] = arms[i, 0, :, :].sum() / count\n",
    "            color[i, 1, :, :] = arms[i, 1, :, :].sum() / count\n",
    "            color[i, 2, :, :] = arms[i, 2, :, :].sum() / count\n",
    "    return color\n",
    "\n",
    "def morpho(mask,iter,bigger=True):\n",
    "    kernel = cv2.getStructuringElement(cv2.MORPH_ELLIPSE, (3, 3))\n",
    "    new=[]\n",
    "    for i in range(len(mask)):\n",
    "        tem=mask[i].cpu().detach().numpy().squeeze().reshape(256,192,1)*255\n",
    "        tem=tem.astype(np.uint8)\n",
    "        if bigger:\n",
    "            tem=cv2.dilate(tem,kernel,iterations=iter)\n",
    "        else:\n",
    "            tem=cv2.erode(tem,kernel,iterations=iter)\n",
    "        tem=tem.astype(np.float64)\n",
    "        tem=tem.reshape(1,256,192)\n",
    "        new.append(tem.astype(np.float64)/255.0)\n",
    "    new=np.stack(new)\n",
    "    new=torch.FloatTensor(new).cuda()\n",
    "    return new\n",
    "\n",
    "\n",
    "sigmoid = nn.Sigmoid()\n",
    "tanh = nn.Tanh()\n",
    "\n",
    "for data in dataloader:\n",
    "    all_clothes_label = changearm(data['label'])\n",
    "    mask_clothes = torch.FloatTensor((data['label'].cpu().numpy() == 4).astype(np.int))\n",
    "    mask_fore = torch.FloatTensor((data['label'].cpu().numpy() > 0).astype(np.int))\n",
    "    img_fore = (data['image'] * mask_fore).cuda()\n",
    "    mask_fore = mask_fore.cuda()\n",
    "    in_label = Variable(data['label'].cuda())\n",
    "    in_edge = Variable(data['edge'].cuda())\n",
    "    in_img_fore = Variable(img_fore.cuda())\n",
    "    in_mask_clothes = Variable(mask_clothes.cuda())\n",
    "    in_color = Variable(data['color'].cuda())\n",
    "    in_all_clothes_label = Variable(all_clothes_label.cuda())\n",
    "    in_image = Variable(data['image'].cuda())\n",
    "    in_pose = Variable(data['pose'].cuda())\n",
    "    in_mask_fore = Variable(mask_fore.cuda()) \n",
    "    pre_clothes_mask = torch.FloatTensor((in_edge.detach().cpu().numpy() > 0.5).astype(np.float)).cuda()\n",
    "    shape = pre_clothes_mask.shape\n",
    "    clothes = in_color*pre_clothes_mask\n",
    "    \n",
    "    arm1_mask = torch.FloatTensor((in_label.cpu().numpy() == 11).astype(np.float)).cuda()\n",
    "    arm2_mask = torch.FloatTensor((in_label.cpu().numpy() == 13).astype(np.float)).cuda()\n",
    "    \n",
    "    input_label,masked_label,all_clothes_label = encode_input(in_label,in_mask_clothes,in_all_clothes_label)\n",
    "    shape = pre_clothes_mask.shape    \n",
    "    armlabel_map = (in_label * (1 - in_mask_clothes)).transpose(0, 1)[0].long()\n",
    "    armlabel_map = armlabel_map.unsqueeze(1)\n",
    "    dis_label=encode(armlabel_map, armlabel_map.shape)\n",
    "    new_arm1_mask = torch.FloatTensor((armlabel_map.cpu().numpy() == 11).astype(np.float)).cuda()\n",
    "    new_arm2_mask = torch.FloatTensor((armlabel_map.cpu().numpy() == 13).astype(np.float)).cuda()\n",
    "    fake_cl = in_mask_clothes\n",
    "    \n",
    "    fake_cl_dis = torch.FloatTensor((fake_cl.detach().cpu().numpy() > 0.5).astype(np.float)).cuda()\n",
    "    fake_cl_dis=morpho(fake_cl_dis,1,True)\n",
    "    fake_cl_dis=(fake_cl_dis*(1- new_arm1_mask)*(1-new_arm2_mask)).cuda()\n",
    "    fake_cl_dis*=mask_fore\n",
    "    \n",
    "    arm1_occ = in_mask_clothes * new_arm1_mask\n",
    "    arm2_occ = in_mask_clothes * new_arm2_mask\n",
    "    bigger_arm1_occ = morpho(arm1_occ, 10)\n",
    "    bigger_arm2_occ = morpho(arm2_occ, 10)\n",
    "    occlude = (1 - bigger_arm1_occ * (arm2_mask + arm1_mask+in_mask_clothes)) * (1 - bigger_arm2_occ * (arm2_mask + arm1_mask+in_mask_clothes))\n",
    "    img_hole_hand = img_fore * (1 - in_mask_clothes) * occlude * (1 - fake_cl_dis)\n",
    "    \n",
    "    skin_color = ger_average_color((arm1_mask + arm2_mask - arm2_mask * arm1_mask),\n",
    "                                            (arm1_mask + arm2_mask - arm2_mask * arm1_mask) * in_image).cuda()\n",
    "    \n",
    "    G_in = torch.cat([img_hole_hand, dis_label, in_image*in_mask_clothes, skin_color, gen_noise(shape)], 1)\n",
    "    fake_image = G3.refine(G_in.detach())\n",
    "    fake_image = tanh(fake_image)\n",
    "    break"
   ]
  },
  {
   "cell_type": "markdown",
   "id": "0bdb731d",
   "metadata": {},
   "source": [
    "# Input\n",
    "This is what dis_label looks like"
   ]
  },
  {
   "cell_type": "code",
   "execution_count": 8,
   "id": "adb7ec2a",
   "metadata": {},
   "outputs": [
    {
     "data": {
      "image/png": "[encoded data removed]",
      "text/plain": [
       "<Figure size 864x864 with 13 Axes>"
      ]
     },
     "metadata": {
      "needs_background": "light"
     },
     "output_type": "display_data"
    }
   ],
   "source": [
    "fig = plt.figure(figsize=(12,12))\n",
    "col = 4 \n",
    "row = 4\n",
    "for i in range(1, 14):\n",
    "    ax = fig.add_subplot(col, row, i)\n",
    "    plt.imshow(dis_label[0][i].detach().cpu().numpy(), cmap='gray')\n",
    "    ax.xaxis.set_visible(False)\n",
    "    ax.yaxis.set_visible(False)"
   ]
  },
  {
   "cell_type": "markdown",
   "id": "90a380a0",
   "metadata": {},
   "source": [
    "This is fake_C"
   ]
  },
  {
   "cell_type": "code",
   "execution_count": 9,
   "id": "8c035333",
   "metadata": {},
   "outputs": [
    {
     "name": "stderr",
     "output_type": "stream",
     "text": [
      "Clipping input data to the valid range for imshow with RGB data ([0..1] for floats or [0..255] for integers).\n"
     ]
    },
    {
     "data": {
      "text/plain": [
       "<matplotlib.image.AxesImage at 0x19e27198288>"
      ]
     },
     "execution_count": 9,
     "metadata": {},
     "output_type": "execute_result"
    },
    {
     "data": {
      "image/png": "[encoded data removed]",
      "text/plain": [
       "<Figure size 432x288 with 1 Axes>"
      ]
     },
     "metadata": {
      "needs_background": "light"
     },
     "output_type": "display_data"
    }
   ],
   "source": [
    "fake_c = in_image*in_mask_clothes\n",
    "plt.imshow(fake_c[0].permute(1,2,0).detach().cpu().numpy()+1)\n"
   ]
  },
  {
   "cell_type": "markdown",
   "id": "4bee60ea",
   "metadata": {},
   "source": [
    "This is img_hole_hand"
   ]
  },
  {
   "cell_type": "code",
   "execution_count": 11,
   "id": "f67fff27",
   "metadata": {},
   "outputs": [
    {
     "data": {
      "text/plain": [
       "<matplotlib.image.AxesImage at 0x19e5f427708>"
      ]
     },
     "execution_count": 11,
     "metadata": {},
     "output_type": "execute_result"
    },
    {
     "data": {
      "image/png": "[encoded data removed]",
      "text/plain": [
       "<Figure size 432x288 with 1 Axes>"
      ]
     },
     "metadata": {
      "needs_background": "light"
     },
     "output_type": "display_data"
    }
   ],
   "source": [
    "plt.imshow(skin_color[0].permute(1,2,0).detach().cpu().numpy()+0.3)"
   ]
  },
  {
   "cell_type": "code",
   "execution_count": 10,
   "id": "f112df64",
   "metadata": {},
   "outputs": [
    {
     "name": "stderr",
     "output_type": "stream",
     "text": [
      "Clipping input data to the valid range for imshow with RGB data ([0..1] for floats or [0..255] for integers).\n"
     ]
    },
    {
     "data": {
      "text/plain": [
       "<matplotlib.image.AxesImage at 0x19e2722f188>"
      ]
     },
     "execution_count": 10,
     "metadata": {},
     "output_type": "execute_result"
    },
    {
     "data": {
      "image/png": "[encoded data removed]",
      "text/plain": [
       "<Figure size 432x288 with 1 Axes>"
      ]
     },
     "metadata": {
      "needs_background": "light"
     },
     "output_type": "display_data"
    }
   ],
   "source": [
    "plt.imshow(img_hole_hand[0].permute(1,2,0).detach().cpu().numpy()+0.3)"
   ]
  },
  {
   "cell_type": "code",
   "execution_count": 12,
   "id": "5fd63187",
   "metadata": {},
   "outputs": [
    {
     "name": "stderr",
     "output_type": "stream",
     "text": [
      "Clipping input data to the valid range for imshow with RGB data ([0..1] for floats or [0..255] for integers).\n"
     ]
    },
    {
     "data": {
      "text/plain": [
       "<matplotlib.image.AxesImage at 0x2798cf56c08>"
      ]
     },
     "execution_count": 12,
     "metadata": {},
     "output_type": "execute_result"
    },
    {
     "data": {
      "image/png": "[encoded data removed]",
      "text/plain": [
       "<Figure size 432x288 with 1 Axes>"
      ]
     },
     "metadata": {
      "needs_background": "light"
     },
     "output_type": "display_data"
    }
   ],
   "source": [
    "plt.imshow(fake_image[0].permute(1,2,0).detach().cpu().numpy()+0.3)"
   ]
  }
 ],
 "metadata": {
  "kernelspec": {
   "display_name": "improve",
   "language": "python",
   "name": "improve"
  },
  "language_info": {
   "codemirror_mode": {
    "name": "ipython",
    "version": 3
   },
   "file_extension": ".py",
   "mimetype": "text/x-python",
   "name": "python",
   "nbconvert_exporter": "python",
   "pygments_lexer": "ipython3",
   "version": "3.7.11"
  }
 },
 "nbformat": 4,
 "nbformat_minor": 5
}