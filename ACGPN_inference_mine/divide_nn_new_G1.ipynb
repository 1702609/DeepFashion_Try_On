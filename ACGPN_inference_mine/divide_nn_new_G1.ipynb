{
 "cells": [
  {
   "cell_type": "code",
   "execution_count": 1,
   "metadata": {
    "pycharm": {
     "is_executing": true
    }
   },
   "outputs": [],
   "source": [
    "import torch\n",
    "import torch.nn as nn\n",
    "import os\n",
    "import os.path as osp\n",
    "from PIL import Image\n",
    "import matplotlib.pyplot as plt\n",
    "import torchvision.transforms as transforms\n",
    "import json\n",
    "import numpy as np\n",
    "from PIL import ImageDraw\n",
    "import torch.utils.data as data\n",
    "import itertools\n",
    "import torch.nn.functional as F\n",
    "import random"
   ]
  },
  {
   "cell_type": "code",
   "execution_count": 2,
   "metadata": {},
   "outputs": [],
   "source": [
    "class Args:\n",
    "    name = 'label2city'\n",
    "    gpu_ids = [0, 1, 2, 3]\n",
    "    checkpoints_dir = './checkpoints'\n",
    "    model = 'pix2pixHD'\n",
    "    norm = 'instance'\n",
    "    use_dropout = True\n",
    "    verbose = True\n",
    "    batchSize = 1\n",
    "    loadSize = 512\n",
    "    fineSize = 512\n",
    "    label_nc = 20\n",
    "    input_nc = 3\n",
    "    output_nc = 3\n",
    "    dataroot = '../acgpn_dataset'\n",
    "    datapairs = 'long_short.txt'\n",
    "    resize_or_crop = 'scale_width'\n",
    "    serial_batches = True\n",
    "    no_flip = True\n",
    "    nThreads = 2\n",
    "    max_dataset_size = float(\"inf\")\n",
    "    display_winsize = 512\n",
    "    tf_log = True\n",
    "    netG = 'global'\n",
    "    ngf = 64\n",
    "    n_downsample_global = 4\n",
    "    n_blocks_global = 4\n",
    "    n_blocks_local = 3\n",
    "    n_local_enhancers = 1\n",
    "    niter_fix_global = 0\n",
    "    continue_train = True\n",
    "    display_freq = 100\n",
    "    print_freq = 100\n",
    "    save_latest_freq = 1000\n",
    "    save_epoch_freq = 10 \n",
    "    no_html = True\n",
    "    debug = True\n",
    "    load_pretrain = '../label2city'\n",
    "    which_epoch = 'latest'\n",
    "    phase = 'test'\n",
    "    niter = 100\n",
    "    niter_decay = 100\n",
    "    beta1 = 0.5\n",
    "    lr = 0.0002\n",
    "    num_D = 2\n",
    "    n_layers_D = 3\n",
    "    ndf = 64\n",
    "    lambda_feat = 10.0\n",
    "    no_ganFeat_loss = True\n",
    "    no_vgg_loss = False\n",
    "    no_lsgan = True\n",
    "    pool_size = 0\n",
    "    isTrain = True\n",
    "\n",
    "opt = Args"
   ]
  },
  {
   "cell_type": "code",
   "execution_count": 3,
   "metadata": {},
   "outputs": [],
   "source": [
    "def make_dataset(dir):\n",
    "    images = []\n",
    "    assert os.path.isdir(dir), '%s is not a valid directory' % dir\n",
    "    f = dir.split('/')[-1].split('_')[-1]\n",
    "    dirs= os.listdir(dir)\n",
    "    for img in dirs:\n",
    "        path = os.path.join(dir, img)\n",
    "        #print(path)\n",
    "        images.append(path)\n",
    "    return images\n",
    "\n",
    "def get_params(opt, size):\n",
    "    w, h = size\n",
    "    new_h = h\n",
    "    new_w = w\n",
    "    if opt.resize_or_crop == 'resize_and_crop':\n",
    "        new_h = new_w = opt.loadSize            \n",
    "    elif opt.resize_or_crop == 'scale_width_and_crop':\n",
    "        new_w = opt.loadSize\n",
    "        new_h = opt.loadSize * h // w\n",
    "\n",
    "    x = random.randint(0, np.maximum(0, new_w - opt.fineSize))\n",
    "    y = random.randint(0, np.maximum(0, new_h - opt.fineSize))\n",
    "\n",
    "def get_transform(method=Image.BICUBIC, normalize=True):\n",
    "        transform_list = []\n",
    "        transform_list += [transforms.ToTensor()]\n",
    "        if normalize:\n",
    "            transform_list += [transforms.Normalize((0.5, 0.5, 0.5),\n",
    "                                                    (0.5, 0.5, 0.5))]\n",
    "        return transforms.Compose(transform_list)\n",
    "    \n",
    "class BaseDataset(data.Dataset):\n",
    "    def __init__(self, opt):\n",
    "        self.opt = opt\n",
    "        super(BaseDataset, self).__init__()\n",
    "        \n",
    "        human_names = []\n",
    "        cloth_names = []\n",
    "        with open(os.path.join(opt.dataroot, opt.datapairs), 'r') as f:\n",
    "            for line in f.readlines():\n",
    "                h_name, c_name = line.strip().split()\n",
    "                human_names.append(h_name)\n",
    "                cloth_names.append(c_name)\n",
    "        self.human_names = human_names\n",
    "        self.cloth_names = cloth_names\n",
    "        \n",
    "    def image_for_pose(self, pose_name, transform):\n",
    "        with open(osp.join(pose_name), 'r') as f:\n",
    "            pose_label = json.load(f)\n",
    "            pose_data = pose_label['people'][0]['pose_keypoints']\n",
    "            pose_data = np.array(pose_data)\n",
    "            pose_data = pose_data.reshape((-1,3))\n",
    "        point_num = pose_data.shape[0]\n",
    "        fine_height = 256\n",
    "        fine_width = 192\n",
    "        pose_map = torch.zeros(point_num, fine_height, fine_width)\n",
    "        r = 5\n",
    "        im_pose = Image.new('L', (fine_width, fine_height))\n",
    "        pose_draw = ImageDraw.Draw(im_pose)\n",
    "        for i in range(point_num):\n",
    "            one_map = Image.new('L', (fine_width, fine_height))\n",
    "            draw = ImageDraw.Draw(one_map)\n",
    "            pointx = pose_data[i,0]\n",
    "            pointy = pose_data[i,1]\n",
    "            if pointx > 1 and pointy > 1:\n",
    "                draw.rectangle((pointx-r, pointy-r, pointx+r, pointy+r), 'white', 'white')\n",
    "                pose_draw.rectangle((pointx-r, pointy-r, pointx+r, pointy+r), 'white', 'white')\n",
    "            one_map = transform(one_map.convert('RGB'))\n",
    "            pose_map[i] = one_map[0]\n",
    "        return pose_map\n",
    "    \n",
    "    def getAgnostic(self, h_name, im_parse, im):\n",
    "        mask = Image.open(\n",
    "            osp.join(self.opt.dataroot, self.opt.phase ,self.opt.phase + '_imgmask', h_name.replace('.jpg', '.png'))).convert('L')       \n",
    "        mask_array  = np.array(mask)\n",
    "        parse_shape = (mask_array > 0).astype(np.float32)\n",
    "        parse_shape_ori = Image.fromarray((parse_shape*255).astype(np.uint8))\n",
    "        parse_shape = parse_shape_ori.resize(\n",
    "            (192//16, 256//16), Image.BILINEAR)\n",
    "        parse_shape = parse_shape.resize(\n",
    "            (192, 256), Image.BILINEAR)\n",
    "\n",
    "        transform = transforms.Compose([\n",
    "            transforms.ToTensor(),\n",
    "            transforms.Normalize((0.5), (0.5))])\n",
    "\n",
    "        shape = transform(parse_shape)  # [-1,1]\n",
    "        parse_array = np.array(im_parse)\n",
    "\n",
    "        parse_head = (parse_array == 1).astype(np.float32) + \\\n",
    "                (parse_array == 4).astype(np.float32) + \\\n",
    "                (parse_array == 13).astype(\n",
    "                    np.float32)\n",
    "\n",
    "        phead = torch.from_numpy(parse_head)  # [0,1]\n",
    "        im = transform(im)  # [-1,1]\n",
    "        im_h = im * phead - (1 - phead)  # [-1,1], fill -1 for other parts\n",
    "        return shape, im_h\n",
    "    \n",
    "    def __getitem__(self, index):        \n",
    "        c_name = self.cloth_names[index]\n",
    "        h_name = self.human_names[index]\n",
    "        A_path = osp.join(self.opt.dataroot, self.opt.phase ,self.opt.phase + '_label', h_name.replace(\".jpg\", \".png\"))\n",
    "        label = Image.open(A_path).convert('L')\n",
    "\n",
    "        B_path = osp.join(self.opt.dataroot, self.opt.phase ,self.opt.phase + '_img', h_name)\n",
    "        image = Image.open(B_path).convert('RGB') \n",
    "        mask = Image.open(B_path).convert('L')\n",
    "        \n",
    "        E_path = osp.join(self.opt.dataroot, self.opt.phase ,self.opt.phase + '_edge', c_name)\n",
    "        edge = Image.open(E_path).convert('L')\n",
    "                \n",
    "        C_path = osp.join(self.opt.dataroot, self.opt.phase ,self.opt.phase + '_color', c_name)\n",
    "        color = Image.open(C_path).convert('RGB')\n",
    "        \n",
    "        S_path = osp.join(self.opt.dataroot, self.opt.phase ,self.opt.phase + '_posergb', h_name)\n",
    "        skeleton = Image.open(S_path).convert('RGB')\n",
    "        \n",
    "        transform_A = get_transform(method=Image.NEAREST, normalize=False)\n",
    "        label_tensor = transform_A(label) * 255\n",
    "        transform_B = get_transform()      \n",
    "        image_tensor = transform_B(image)\n",
    "        mask_tensor = transform_A(image)\n",
    "        edge_tensor = transform_A(edge)\n",
    "        color_tensor = transform_B(color)\n",
    "        skeleton_tensor = transform_B(skeleton)\n",
    "        pose_name = osp.join(self.opt.dataroot, self.opt.phase ,self.opt.phase + '_pose', h_name.replace('.jpg', '_keypoints.json'))\n",
    "        pose_map = self.image_for_pose(pose_name, transform_B)\n",
    "        shape, im_h = self.getAgnostic(h_name, label, image)\n",
    "        blurry_mask =  shape\n",
    "        return {'label': label_tensor, 'image': image_tensor, \n",
    "                             'edge': edge_tensor,'color': color_tensor, \n",
    "                             'mask': mask_tensor, 'name' : c_name,\n",
    "                             'colormask': mask_tensor, 'skeleton': skeleton_tensor, 'pose':pose_map,\n",
    "                             'blurry': blurry_mask}\n",
    "    def __len__(self):\n",
    "        return len(self.human_names)"
   ]
  },
  {
   "cell_type": "markdown",
   "metadata": {},
   "source": [
    "![architecture](web_data/g1_design.png)"
   ]
  },
  {
   "cell_type": "code",
   "execution_count": 4,
   "metadata": {},
   "outputs": [],
   "source": [
    "t = BaseDataset(opt)\n",
    "dataloader = torch.utils.data.DataLoader(\n",
    "            t,\n",
    "            batch_size=1,\n",
    "            shuffle=False)"
   ]
  },
  {
   "cell_type": "code",
   "execution_count": 5,
   "metadata": {},
   "outputs": [
    {
     "data": {
      "text/plain": [
       "6"
      ]
     },
     "execution_count": 5,
     "metadata": {},
     "output_type": "execute_result"
    }
   ],
   "source": [
    "len(dataloader)"
   ]
  },
  {
   "cell_type": "code",
   "execution_count": 6,
   "metadata": {
    "scrolled": true
   },
   "outputs": [
    {
     "name": "stderr",
     "output_type": "stream",
     "text": [
      "C:\\Users\\Tasin\\anaconda3\\envs\\improve\\lib\\site-packages\\ipykernel_launcher.py:5: DeprecationWarning: `np.int` is a deprecated alias for the builtin `int`. To silence this warning, use `int` by itself. Doing this will not modify any behavior and is safe. When replacing `np.int`, you may wish to use e.g. `np.int64` or `np.int32` to specify the precision. If you wish to review your current use, check the release note link for additional information.\n",
      "Deprecated in NumPy 1.20; for more details and guidance: https://numpy.org/devdocs/release/1.20.0-notes.html#deprecations\n",
      "  \"\"\"\n",
      "C:\\Users\\Tasin\\anaconda3\\envs\\improve\\lib\\site-packages\\ipykernel_launcher.py:6: DeprecationWarning: `np.int` is a deprecated alias for the builtin `int`. To silence this warning, use `int` by itself. Doing this will not modify any behavior and is safe. When replacing `np.int`, you may wish to use e.g. `np.int64` or `np.int32` to specify the precision. If you wish to review your current use, check the release note link for additional information.\n",
      "Deprecated in NumPy 1.20; for more details and guidance: https://numpy.org/devdocs/release/1.20.0-notes.html#deprecations\n",
      "  \n",
      "C:\\Users\\Tasin\\anaconda3\\envs\\improve\\lib\\site-packages\\ipykernel_launcher.py:7: DeprecationWarning: `np.int` is a deprecated alias for the builtin `int`. To silence this warning, use `int` by itself. Doing this will not modify any behavior and is safe. When replacing `np.int`, you may wish to use e.g. `np.int64` or `np.int32` to specify the precision. If you wish to review your current use, check the release note link for additional information.\n",
      "Deprecated in NumPy 1.20; for more details and guidance: https://numpy.org/devdocs/release/1.20.0-notes.html#deprecations\n",
      "  import sys\n",
      "C:\\Users\\Tasin\\anaconda3\\envs\\improve\\lib\\site-packages\\ipykernel_launcher.py:18: DeprecationWarning: `np.int` is a deprecated alias for the builtin `int`. To silence this warning, use `int` by itself. Doing this will not modify any behavior and is safe. When replacing `np.int`, you may wish to use e.g. `np.int64` or `np.int32` to specify the precision. If you wish to review your current use, check the release note link for additional information.\n",
      "Deprecated in NumPy 1.20; for more details and guidance: https://numpy.org/devdocs/release/1.20.0-notes.html#deprecations\n",
      "C:\\Users\\Tasin\\anaconda3\\envs\\improve\\lib\\site-packages\\ipykernel_launcher.py:19: DeprecationWarning: `np.int` is a deprecated alias for the builtin `int`. To silence this warning, use `int` by itself. Doing this will not modify any behavior and is safe. When replacing `np.int`, you may wish to use e.g. `np.int64` or `np.int32` to specify the precision. If you wish to review your current use, check the release note link for additional information.\n",
      "Deprecated in NumPy 1.20; for more details and guidance: https://numpy.org/devdocs/release/1.20.0-notes.html#deprecations\n"
     ]
    }
   ],
   "source": [
    "from torch.autograd import Variable\n",
    "\n",
    "def changearm(old_label):\n",
    "    label=old_label\n",
    "    arm1=torch.FloatTensor((label.cpu().numpy()==11).astype(np.int))\n",
    "    arm2=torch.FloatTensor((label.cpu().numpy()==13).astype(np.int))\n",
    "    noise=torch.FloatTensor((label.cpu().numpy()==7).astype(np.int))\n",
    "    label=label*(1-arm1)+arm1*4\n",
    "    label=label*(1-arm2)+arm2*4\n",
    "    label=label*(1-noise)+noise*4\n",
    "    return label\n",
    "\n",
    "position = -1 \n",
    "for data in dataloader:\n",
    "    position +=1\n",
    "    if position == 0:\n",
    "        all_clothes_label = changearm(data['label'])\n",
    "        mask_clothes = torch.FloatTensor((data['label'].cpu().numpy() == 4).astype(np.int))\n",
    "        mask_fore = torch.FloatTensor((data['label'].cpu().numpy() > 0).astype(np.int))\n",
    "        img_fore = data['image'] * mask_fore\n",
    "\n",
    "        in_label = Variable(data['label'].cuda())\n",
    "        in_edge = Variable(data['edge'].cuda())\n",
    "        in_img_fore = Variable(img_fore.cuda())\n",
    "        in_mask_clothes = Variable(mask_clothes.cuda())\n",
    "        in_color = Variable(data['color'].cuda())\n",
    "        in_all_clothes_label = Variable(all_clothes_label.cuda())\n",
    "        in_image = Variable(data['image'].cuda())\n",
    "        in_mask_fore = Variable(mask_fore.cuda()) \n",
    "        in_skeleton = Variable(data['skeleton'].cuda())\n",
    "        in_blurry = Variable(data['blurry'].cuda())\n",
    "        break"
   ]
  },
  {
   "cell_type": "code",
   "execution_count": 7,
   "metadata": {},
   "outputs": [
    {
     "name": "stderr",
     "output_type": "stream",
     "text": [
      "Clipping input data to the valid range for imshow with RGB data ([0..1] for floats or [0..255] for integers).\n"
     ]
    },
    {
     "data": {
      "text/plain": [
       "<matplotlib.image.AxesImage at 0x1f6d0ea7b48>"
      ]
     },
     "execution_count": 7,
     "metadata": {},
     "output_type": "execute_result"
    },
    {
     "data": {
      "image/png": "[encoded data removed]",
      "text/plain": [
       "<Figure size 432x288 with 1 Axes>"
      ]
     },
     "metadata": {
      "needs_background": "light"
     },
     "output_type": "display_data"
    }
   ],
   "source": [
    "plt.imshow(in_image[0].permute(1,2,0).detach().cpu().numpy()+0.3)"
   ]
  },
  {
   "cell_type": "markdown",
   "metadata": {},
   "source": [
    "## Architecture for G\n",
    "\n",
    "<ul>\n",
    "    <li>G1 will generate semantic labels</li>\n",
    "    <li>G3 combines everthing together to produce a final image</li>\n",
    "<ul>"
   ]
  },
  {
   "cell_type": "code",
   "execution_count": 8,
   "metadata": {},
   "outputs": [],
   "source": [
    "class G1(nn.Module):\n",
    "    def __init__(self, input_nc, output_nc=3):\n",
    "        super(G1, self).__init__()\n",
    "        nl = nn.InstanceNorm2d\n",
    "        self.conv1 = nn.Sequential(*[nn.Conv2d(input_nc, 64, kernel_size=3, stride=1, padding=1), nl(64), nn.ReLU()])\n",
    "        self.pool1 = nn.MaxPool2d(kernel_size=(2, 2))\n",
    "\n",
    "        self.conv2 = nn.Sequential(*[nn.Conv2d(64, 128, kernel_size=3, stride=1, padding=1), nl(128), nn.ReLU()])\n",
    "        self.pool2 = nn.MaxPool2d(kernel_size=(2, 2))\n",
    "\n",
    "        self.conv3 = nn.Sequential(*[nn.Conv2d(128, 256, kernel_size=3, stride=1, padding=1), nl(256), nn.ReLU()])\n",
    "        self.pool3 = nn.MaxPool2d(kernel_size=(2, 2))\n",
    "\n",
    "        self.conv4 = nn.Sequential(*[nn.Conv2d(256, 512, kernel_size=3, stride=1, padding=1), nl(512), nn.ReLU(),\n",
    "                                     nn.Conv2d(512, 512, kernel_size=3, stride=1, padding=1), nl(512), nn.ReLU()])\n",
    "        self.drop4 = nn.Dropout(0.5)\n",
    "        self.pool4 = nn.MaxPool2d(kernel_size=(2, 2))\n",
    "\n",
    "        self.conv5 = nn.Sequential(*[nn.Conv2d(512, 1024, kernel_size=3, stride=1, padding=1), nl(1024), nn.ReLU(),\n",
    "                                     nn.Conv2d(1024, 1024, kernel_size=3, stride=1, padding=1), nl(1024), nn.ReLU()])\n",
    "        self.drop5 = nn.Dropout(0.5)\n",
    "\n",
    "        self.up6 = nn.Sequential(\n",
    "            *[nn.UpsamplingNearest2d(scale_factor=2), nn.Conv2d(1024, 512, kernel_size=3, stride=1, padding=1), nl(512),\n",
    "              nn.ReLU()])\n",
    "\n",
    "        self.conv6 = nn.Sequential(*[nn.Conv2d(1024, 512, kernel_size=3, stride=1, padding=1), nl(512), nn.ReLU(),\n",
    "                                     nn.Conv2d(512, 512, kernel_size=3, stride=1, padding=1), nl(512), nn.ReLU()])\n",
    "        self.up7 = nn.Sequential(\n",
    "            *[nn.UpsamplingNearest2d(scale_factor=2), nn.Conv2d(512, 256, kernel_size=3, stride=1, padding=1), nl(256),\n",
    "              nn.ReLU()])\n",
    "        self.conv7 = nn.Sequential(*[nn.Conv2d(512, 256, kernel_size=3, stride=1, padding=1), nl(256), nn.ReLU()])\n",
    "\n",
    "        self.up8 = nn.Sequential(\n",
    "            *[nn.UpsamplingNearest2d(scale_factor=2), nn.Conv2d(256, 128, kernel_size=3, stride=1, padding=1), nl(128),\n",
    "              nn.ReLU()])\n",
    "\n",
    "        self.drop6 = nn.Dropout(0.45)\n",
    "\n",
    "        self.conv8 = nn.Sequential(*[nn.Conv2d(256, 128, kernel_size=3, stride=1, padding=1), nl(128), nn.ReLU()])\n",
    "\n",
    "        self.up9 = nn.Sequential(\n",
    "            *[nn.UpsamplingNearest2d(scale_factor=2), nn.Conv2d(128, 64, kernel_size=3, stride=1, padding=1), nl(64),\n",
    "              nn.ReLU()])\n",
    "\n",
    "        self.drop7 = nn.Dropout(0.45)\n",
    "\n",
    "        self.conv9 = nn.Sequential(*[nn.Conv2d(128, 64, kernel_size=3, stride=1, padding=1), nl(64), nn.ReLU(),\n",
    "                                     nn.Conv2d(\n",
    "                                         64, output_nc, kernel_size=3, stride=1, padding=1)\n",
    "                                     ])\n",
    "\n",
    "    def forward(self, input):\n",
    "        conv1 = self.conv1(input)\n",
    "        pool1 = self.pool1(conv1)\n",
    "\n",
    "        conv2 = self.conv2(pool1)\n",
    "        pool2 = self.pool2(conv2)\n",
    "\n",
    "        conv3 = self.conv3(pool2)\n",
    "        pool3 = self.pool3(conv3)\n",
    "\n",
    "        conv4 = self.conv4(pool3)\n",
    "        drop4 = self.drop4(conv4)\n",
    "        pool4 = self.pool4(drop4)\n",
    "\n",
    "        conv5 = self.conv5(pool4)\n",
    "        drop5 = self.drop5(conv5)\n",
    "\n",
    "        up6 = self.up6(drop5)\n",
    "        conv6 = self.conv6(torch.cat([drop4, up6], 1))\n",
    "\n",
    "        up7 = self.up7(conv6)\n",
    "        conv7 = self.conv7(torch.cat([conv3, up7], 1))\n",
    "\n",
    "        up8 = self.up8(conv7)\n",
    "\n",
    "        conv8 = self.drop6(self.conv8(torch.cat([conv2, up8], 1)))\n",
    "\n",
    "        up9 = self.up9(conv8)\n",
    "        conv9 = self.drop7(self.conv9(torch.cat([conv1, up9], 1)))\n",
    "        return conv9\n",
    "\n",
    "\n",
    "class Refine(nn.Module):\n",
    "    def __init__(self, input_nc, output_nc=3):\n",
    "        super(Refine, self).__init__()\n",
    "        nl = nn.InstanceNorm2d\n",
    "        self.conv1 = nn.Sequential(*[nn.Conv2d(input_nc, 64, kernel_size=3, stride=1, padding=1), nl(64), nn.ReLU(),\n",
    "                                     nn.Conv2d(64, 64, kernel_size=3, stride=1, padding=1), nl(64), nn.ReLU()])\n",
    "        self.pool1 = nn.MaxPool2d(kernel_size=(2, 2))\n",
    "\n",
    "        self.conv2 = nn.Sequential(*[nn.Conv2d(64, 128, kernel_size=3, stride=1, padding=1), nl(128), nn.ReLU(),\n",
    "                                     nn.Conv2d(128, 128, kernel_size=3, stride=1, padding=1), nl(128), nn.ReLU()])\n",
    "        self.pool2 = nn.MaxPool2d(kernel_size=(2, 2))\n",
    "\n",
    "        self.conv3 = nn.Sequential(*[nn.Conv2d(128, 256, kernel_size=3, stride=1, padding=1), nl(256), nn.ReLU(),\n",
    "                                     nn.Conv2d(256, 256, kernel_size=3, stride=1, padding=1), nl(256), nn.ReLU()])\n",
    "        self.pool3 = nn.MaxPool2d(kernel_size=(2, 2))\n",
    "\n",
    "        self.conv4 = nn.Sequential(*[nn.Conv2d(256, 512, kernel_size=3, stride=1, padding=1), nl(512), nn.ReLU(),\n",
    "                                     nn.Conv2d(512, 512, kernel_size=3, stride=1, padding=1), nl(512), nn.ReLU()])\n",
    "        self.drop4 = nn.Dropout(0.5)\n",
    "        self.pool4 = nn.MaxPool2d(kernel_size=(2, 2))\n",
    "\n",
    "        self.conv5 = nn.Sequential(*[nn.Conv2d(512, 1024, kernel_size=3, stride=1, padding=1), nl(1024), nn.ReLU(),\n",
    "                                     nn.Conv2d(1024, 1024, kernel_size=3, stride=1, padding=1), nl(1024), nn.ReLU()])\n",
    "        self.drop5 = nn.Dropout(0.5)\n",
    "\n",
    "        self.up6 = nn.Sequential(\n",
    "            *[nn.UpsamplingNearest2d(scale_factor=2), nn.Conv2d(1024, 512, kernel_size=3, stride=1, padding=1), nl(512),\n",
    "              nn.ReLU()])\n",
    "\n",
    "        self.conv6 = nn.Sequential(*[nn.Conv2d(1024, 512, kernel_size=3, stride=1, padding=1), nl(512), nn.ReLU(),\n",
    "                                     nn.Conv2d(512, 512, kernel_size=3, stride=1, padding=1), nl(512), nn.ReLU()])\n",
    "        self.up7 = nn.Sequential(\n",
    "            *[nn.UpsamplingNearest2d(scale_factor=2), nn.Conv2d(512, 256, kernel_size=3, stride=1, padding=1), nl(256),\n",
    "              nn.ReLU()])\n",
    "        self.conv7 = nn.Sequential(*[nn.Conv2d(512, 256, kernel_size=3, stride=1, padding=1), nl(256), nn.ReLU(),\n",
    "                                     nn.Conv2d(256, 256, kernel_size=3, stride=1, padding=1), nl(256), nn.ReLU()])\n",
    "\n",
    "        self.up8 = nn.Sequential(\n",
    "            *[nn.UpsamplingNearest2d(scale_factor=2), nn.Conv2d(256, 128, kernel_size=3, stride=1, padding=1), nl(128),\n",
    "              nn.ReLU()])\n",
    "\n",
    "        self.conv8 = nn.Sequential(*[nn.Conv2d(256, 128, kernel_size=3, stride=1, padding=1), nl(128), nn.ReLU(),\n",
    "                                     nn.Conv2d(128, 128, kernel_size=3, stride=1, padding=1), nl(128), nn.ReLU()])\n",
    "\n",
    "        self.up9 = nn.Sequential(\n",
    "            *[nn.UpsamplingNearest2d(scale_factor=2), nn.Conv2d(128, 64, kernel_size=3, stride=1, padding=1), nl(64),\n",
    "              nn.ReLU()])\n",
    "\n",
    "        self.conv9 = nn.Sequential(*[nn.Conv2d(128, 64, kernel_size=3, stride=1, padding=1), nl(64), nn.ReLU(),\n",
    "                                     nn.Conv2d(64, 64, kernel_size=3, stride=1, padding=1), nl(\n",
    "                                         64), nn.ReLU(),\n",
    "                                     nn.Conv2d(\n",
    "                                         64, output_nc, kernel_size=3, stride=1, padding=1)\n",
    "                                     ])\n",
    "\n",
    "    def refine(self, input):\n",
    "        conv1 = self.conv1(input)\n",
    "        pool1 = self.pool1(conv1)\n",
    "\n",
    "        conv2 = self.conv2(pool1)\n",
    "        pool2 = self.pool2(conv2)\n",
    "\n",
    "        conv3 = self.conv3(pool2)\n",
    "        pool3 = self.pool3(conv3)\n",
    "\n",
    "        conv4 = self.conv4(pool3)\n",
    "        drop4 = self.drop4(conv4)\n",
    "        pool4 = self.pool4(drop4)\n",
    "\n",
    "        conv5 = self.conv5(pool4)\n",
    "        drop5 = self.drop5(conv5)\n",
    "\n",
    "        up6 = self.up6(drop5)\n",
    "        conv6 = self.conv6(torch.cat([drop4, up6], 1))\n",
    "\n",
    "        up7 = self.up7(conv6)\n",
    "        conv7 = self.conv7(torch.cat([conv3, up7], 1))\n",
    "\n",
    "        up8 = self.up8(conv7)\n",
    "        conv8 = self.conv8(torch.cat([conv2, up8], 1))\n",
    "\n",
    "        up9 = self.up9(conv8)\n",
    "        conv9 = self.conv9(torch.cat([conv1, up9], 1))\n",
    "        return conv9"
   ]
  },
  {
   "cell_type": "code",
   "execution_count": 9,
   "metadata": {},
   "outputs": [],
   "source": [
    "with torch.no_grad():\n",
    "    G1n = G1(7, 14)\n",
    "    G1n.cuda(opt.gpu_ids[0])\n",
    "    G1n.load_state_dict(torch.load('../label2city/mine/best_net_G1.pth'))\n",
    "    G1n.eval()"
   ]
  },
  {
   "cell_type": "code",
   "execution_count": 10,
   "metadata": {},
   "outputs": [
    {
     "name": "stderr",
     "output_type": "stream",
     "text": [
      "C:\\Users\\Tasin\\anaconda3\\envs\\improve\\lib\\site-packages\\ipykernel_launcher.py:27: DeprecationWarning: `np.float` is a deprecated alias for the builtin `float`. To silence this warning, use `float` by itself. Doing this will not modify any behavior and is safe. If you specifically wanted the numpy scalar type, use `np.float64` here.\n",
      "Deprecated in NumPy 1.20; for more details and guidance: https://numpy.org/devdocs/release/1.20.0-notes.html#deprecations\n"
     ]
    }
   ],
   "source": [
    "import cv2\n",
    "\n",
    "def gen_noise(shape):\n",
    "    noise = np.zeros(shape, dtype=np.uint8)\n",
    "    ### noise\n",
    "    noise = cv2.randn(noise, 0, 255)\n",
    "    noise = np.asarray(noise / 255, dtype=np.uint8)\n",
    "    noise = torch.tensor(noise, dtype=torch.float32)\n",
    "    return noise.cuda()\n",
    "\n",
    "def encode_input(label_map, clothes_mask,all_clothes_label):\n",
    "    size = label_map.size()\n",
    "    oneHot_size = (size[0], 14, size[2], size[3])\n",
    "    input_label = torch.cuda.FloatTensor(torch.Size(oneHot_size)).zero_()\n",
    "    input_label = input_label.scatter_(1, label_map.data.long().cuda(), 1.0)\n",
    "\n",
    "    masked_label= torch.cuda.FloatTensor(torch.Size(oneHot_size)).zero_()\n",
    "    masked_label=masked_label.scatter_(1,(label_map*(1-clothes_mask)).data.long().cuda(), 1.0)\n",
    "\n",
    "    c_label=torch.cuda.FloatTensor(torch.Size(oneHot_size)).zero_()\n",
    "    c_label=c_label.scatter_(1,all_clothes_label.data.long().cuda(),1.0)\n",
    "\n",
    "    input_label = Variable(input_label)\n",
    "\n",
    "    return input_label,masked_label,c_label\n",
    "\n",
    "pre_clothes_mask = torch.FloatTensor((in_edge.detach().cpu().numpy() > 0.5).astype(np.float)).cuda()\n",
    "shape = pre_clothes_mask.shape\n",
    "clothes = in_color*pre_clothes_mask\n",
    "input_label,masked_label,all_clothes_label = encode_input(in_label,in_mask_clothes,in_all_clothes_label)\n",
    "shape = pre_clothes_mask.shape"
   ]
  },
  {
   "cell_type": "markdown",
   "metadata": {},
   "source": [
    "### This is the training label "
   ]
  },
  {
   "cell_type": "code",
   "execution_count": 11,
   "metadata": {},
   "outputs": [
    {
     "data": {
      "image/png": "[encoded data removed]",
      "text/plain": [
       "<Figure size 576x1440 with 14 Axes>"
      ]
     },
     "metadata": {
      "needs_background": "light"
     },
     "output_type": "display_data"
    }
   ],
   "source": [
    "# 14\n",
    "fig = plt.figure(figsize=(8, 20))\n",
    "\n",
    "for i in range(14):\n",
    "    ax = fig.add_subplot(5, 3, i+1)\n",
    "    plt.imshow(masked_label[0][i].detach().cpu().numpy(), cmap = 'gray')\n",
    "    ax.xaxis.set_visible(False)\n",
    "    ax.yaxis.set_visible(False)\n",
    "plt.show()"
   ]
  },
  {
   "cell_type": "code",
   "execution_count": 12,
   "metadata": {},
   "outputs": [],
   "source": [
    "sigmoid = nn.Sigmoid()\n",
    "G1_in = torch.cat([in_blurry, clothes, in_skeleton], dim=1)\n",
    "arm_label = G1n(G1_in)\n",
    "arm_label = sigmoid(arm_label)"
   ]
  },
  {
   "cell_type": "code",
   "execution_count": 13,
   "metadata": {},
   "outputs": [
    {
     "data": {
      "text/plain": [
       "torch.Size([1, 14, 256, 192])"
      ]
     },
     "execution_count": 13,
     "metadata": {},
     "output_type": "execute_result"
    }
   ],
   "source": [
    "arm_label.size()"
   ]
  },
  {
   "cell_type": "markdown",
   "metadata": {},
   "source": [
    "### This is the label when mixing up the clothing"
   ]
  },
  {
   "cell_type": "code",
   "execution_count": 14,
   "metadata": {},
   "outputs": [],
   "source": [
    "def generate_discrete_label(inputs, label_nc, onehot=True):\n",
    "    pred_batch = []\n",
    "    size = inputs.size()\n",
    "    for input in inputs:\n",
    "        input = input.view(1, label_nc, size[2], size[3])\n",
    "        pred = np.squeeze(input.data.max(1)[1].cpu().numpy(), axis=0)\n",
    "        pred_batch.append(pred)\n",
    "    pred_batch = np.array(pred_batch)\n",
    "    pred_batch = torch.from_numpy(pred_batch)\n",
    "    label_map = []\n",
    "    for p in pred_batch:\n",
    "        p = p.view(1, 256, 192)\n",
    "        label_map.append(p)\n",
    "    label_map = torch.stack(label_map, 0)\n",
    "    if not onehot:\n",
    "        return label_map.float().cuda()\n",
    "    size = label_map.size()\n",
    "    oneHot_size = (size[0], label_nc, size[2], size[3])\n",
    "    input_label = torch.cuda.FloatTensor(torch.Size(oneHot_size)).zero_()\n",
    "    input_label = input_label.scatter_(1, label_map.data.long().cuda(), 1.0)\n",
    "    return input_label\n",
    "\n",
    "\n",
    "armlabel_map = generate_discrete_label(arm_label.detach(), 14, False)\n",
    "dis_label = generate_discrete_label(arm_label.detach(), 14)"
   ]
  },
  {
   "cell_type": "code",
   "execution_count": 15,
   "metadata": {},
   "outputs": [
    {
     "data": {
      "image/png": "[encoded data removed]",
      "text/plain": [
       "<Figure size 576x1440 with 14 Axes>"
      ]
     },
     "metadata": {
      "needs_background": "light"
     },
     "output_type": "display_data"
    }
   ],
   "source": [
    "# 14\n",
    "fig = plt.figure(figsize=(8, 20))\n",
    "\n",
    "for i in range(14):\n",
    "    ax = fig.add_subplot(5, 3, i+1)\n",
    "    plt.imshow(dis_label[0][i].detach().cpu().numpy(),cmap='gray')\n",
    "    ax.xaxis.set_visible(False)\n",
    "    ax.yaxis.set_visible(False)\n",
    "plt.show()"
   ]
  },
  {
   "cell_type": "code",
   "execution_count": 16,
   "metadata": {},
   "outputs": [],
   "source": [
    "import fix_segmentation_spot as spot"
   ]
  },
  {
   "cell_type": "markdown",
   "metadata": {},
   "source": [
    "# Check for segmentation defects "
   ]
  },
  {
   "cell_type": "code",
   "execution_count": 17,
   "metadata": {},
   "outputs": [],
   "source": [
    "for image_index in range(dis_label.shape[0]): #check every segmentation in the batch\n",
    "    hole_hand = dis_label[image_index].detach().cpu().numpy()\n",
    "    armlabel_map_needs_updating = False\n",
    "    if (spot.checkForSpots(hole_hand[13])): # left arm\n",
    "        armlabel_map_needs_updating = True\n",
    "        fixed_segment = spot.fixSpots(hole_hand, 13)\n",
    "        hole_hand[4] = fixed_segment[4] # torso needs to be updated before checking for the other hand\n",
    "        fixed_segment = torch.from_numpy(fixed_segment).to('cuda')\n",
    "        dis_label[image_index][4] = fixed_segment[4]\n",
    "        dis_label[image_index][13] = fixed_segment[13]\n",
    "    if (spot.checkForSpots(hole_hand[11])): # right arm\n",
    "        armlabel_map_needs_updating = True\n",
    "        fixed_segment = spot.fixSpots(hole_hand, 11)\n",
    "        fixed_segment = torch.from_numpy(fixed_segment).to('cuda')\n",
    "        dis_label[image_index][4] = fixed_segment[4]\n",
    "        dis_label[image_index][11] = fixed_segment[11]\n",
    "    if armlabel_map_needs_updating == True:\n",
    "        armlabel_map = generate_discrete_label(dis_label.detach(), 14, False)"
   ]
  },
  {
   "cell_type": "code",
   "execution_count": 18,
   "metadata": {},
   "outputs": [
    {
     "data": {
      "text/plain": [
       "<matplotlib.image.AxesImage at 0x1f74584f108>"
      ]
     },
     "execution_count": 18,
     "metadata": {},
     "output_type": "execute_result"
    },
    {
     "data": {
      "image/png": "[encoded data removed]",
      "text/plain": [
       "<Figure size 432x288 with 1 Axes>"
      ]
     },
     "metadata": {
      "needs_background": "light"
     },
     "output_type": "display_data"
    }
   ],
   "source": [
    "plt.imshow(armlabel_map[0].permute(1,2,0).detach().cpu().numpy(), cmap='gray')"
   ]
  },
  {
   "cell_type": "code",
   "execution_count": 19,
   "metadata": {
    "scrolled": true
   },
   "outputs": [
    {
     "name": "stderr",
     "output_type": "stream",
     "text": [
      "Clipping input data to the valid range for imshow with RGB data ([0..1] for floats or [0..255] for integers).\n"
     ]
    },
    {
     "data": {
      "image/png": "[encoded data removed]",
      "text/plain": [
       "<Figure size 576x1440 with 2 Axes>"
      ]
     },
     "metadata": {
      "needs_background": "light"
     },
     "output_type": "display_data"
    }
   ],
   "source": [
    "fig = plt.figure(figsize=(8, 20))\n",
    "ax = fig.add_subplot(1, 2, 1)\n",
    "plt.imshow(armlabel_map[0].permute(1,2,0).detach().cpu().numpy(), cmap='gray')\n",
    "ax.xaxis.set_visible(False)\n",
    "ax.yaxis.set_visible(False)\n",
    "ax = fig.add_subplot(1, 2, 2)\n",
    "plt.imshow(in_image[0].permute(1,2,0).detach().cpu().numpy()+0.3)\n",
    "ax.xaxis.set_visible(False)\n",
    "ax.yaxis.set_visible(False)\n",
    "plt.show()"
   ]
  },
  {
   "cell_type": "code",
   "execution_count": 20,
   "metadata": {},
   "outputs": [
    {
     "name": "stderr",
     "output_type": "stream",
     "text": [
      "C:\\Users\\Tasin\\anaconda3\\envs\\improve\\lib\\site-packages\\ipykernel_launcher.py:1: DeprecationWarning: `np.float` is a deprecated alias for the builtin `float`. To silence this warning, use `float` by itself. Doing this will not modify any behavior and is safe. If you specifically wanted the numpy scalar type, use `np.float64` here.\n",
      "Deprecated in NumPy 1.20; for more details and guidance: https://numpy.org/devdocs/release/1.20.0-notes.html#deprecations\n",
      "  \"\"\"Entry point for launching an IPython kernel.\n"
     ]
    },
    {
     "data": {
      "text/plain": [
       "<matplotlib.image.AxesImage at 0x1f6e80df1c8>"
      ]
     },
     "execution_count": 20,
     "metadata": {},
     "output_type": "execute_result"
    },
    {
     "data": {
      "image/png": "[encoded data removed]",
      "text/plain": [
       "<Figure size 432x288 with 1 Axes>"
      ]
     },
     "metadata": {
      "needs_background": "light"
     },
     "output_type": "display_data"
    }
   ],
   "source": [
    "fake_cl = torch.FloatTensor((armlabel_map.cpu().numpy() == 4).astype(np.float)).cuda()\n",
    "plt.imshow(fake_cl[0].permute(1,2,0).detach().cpu().numpy(), cmap='gray')"
   ]
  },
  {
   "cell_type": "code",
   "execution_count": 21,
   "metadata": {},
   "outputs": [],
   "source": [
    "class UnetMask(nn.Module):\n",
    "    def __init__(self, input_nc, output_nc=3):\n",
    "        super(UnetMask, self).__init__()\n",
    "        self.stn = STNNet()\n",
    "        nl = nn.InstanceNorm2d\n",
    "        self.conv1 = nn.Sequential(*[nn.Conv2d(input_nc, 64, kernel_size=3, stride=1, padding=1), nl(64), nn.ReLU(),\n",
    "                                     nn.Conv2d(64, 64, kernel_size=3, stride=1, padding=1), nl(64), nn.ReLU()])\n",
    "        self.pool1 = nn.MaxPool2d(kernel_size=(2, 2))\n",
    "\n",
    "        self.conv2 = nn.Sequential(*[nn.Conv2d(64, 128, kernel_size=3, stride=1, padding=1), nl(128), nn.ReLU(),\n",
    "                                     nn.Conv2d(128, 128, kernel_size=3, stride=1, padding=1), nl(128), nn.ReLU()])\n",
    "        self.pool2 = nn.MaxPool2d(kernel_size=(2, 2))\n",
    "\n",
    "        self.conv3 = nn.Sequential(*[nn.Conv2d(128, 256, kernel_size=3, stride=1, padding=1), nl(256), nn.ReLU(),\n",
    "                                     nn.Conv2d(256, 256, kernel_size=3, stride=1, padding=1), nl(256), nn.ReLU()])\n",
    "        self.pool3 = nn.MaxPool2d(kernel_size=(2, 2))\n",
    "\n",
    "        self.conv4 = nn.Sequential(*[nn.Conv2d(256, 512, kernel_size=3, stride=1, padding=1), nl(512), nn.ReLU(),\n",
    "                                     nn.Conv2d(512, 512, kernel_size=3, stride=1, padding=1), nl(512), nn.ReLU()])\n",
    "        self.drop4 = nn.Dropout(0.5)\n",
    "        self.pool4 = nn.MaxPool2d(kernel_size=(2, 2))\n",
    "\n",
    "        self.conv5 = nn.Sequential(*[nn.Conv2d(512, 1024, kernel_size=3, stride=1, padding=1), nl(1024), nn.ReLU(),\n",
    "                                     nn.Conv2d(1024, 1024, kernel_size=3, stride=1, padding=1), nl(1024), nn.ReLU()])\n",
    "        self.drop5 = nn.Dropout(0.5)\n",
    "\n",
    "        self.up6 = nn.Sequential(\n",
    "            *[nn.UpsamplingNearest2d(scale_factor=2), nn.Conv2d(1024, 512, kernel_size=3, stride=1, padding=1), nl(512),\n",
    "              nn.ReLU()])\n",
    "\n",
    "        self.conv6 = nn.Sequential(*[nn.Conv2d(1024, 512, kernel_size=3, stride=1, padding=1), nl(512), nn.ReLU(),\n",
    "                                     nn.Conv2d(512, 512, kernel_size=3, stride=1, padding=1), nl(512), nn.ReLU()])\n",
    "        self.up7 = nn.Sequential(\n",
    "            *[nn.UpsamplingNearest2d(scale_factor=2), nn.Conv2d(512, 256, kernel_size=3, stride=1, padding=1), nl(256),\n",
    "              nn.ReLU()])\n",
    "        self.conv7 = nn.Sequential(*[nn.Conv2d(512, 256, kernel_size=3, stride=1, padding=1), nl(256), nn.ReLU(),\n",
    "                                     nn.Conv2d(256, 256, kernel_size=3, stride=1, padding=1), nl(256), nn.ReLU()])\n",
    "\n",
    "        self.up8 = nn.Sequential(\n",
    "            *[nn.UpsamplingNearest2d(scale_factor=2), nn.Conv2d(256, 128, kernel_size=3, stride=1, padding=1), nl(128),\n",
    "              nn.ReLU()])\n",
    "\n",
    "        self.conv8 = nn.Sequential(*[nn.Conv2d(256, 128, kernel_size=3, stride=1, padding=1), nl(128), nn.ReLU(),\n",
    "                                     nn.Conv2d(128, 128, kernel_size=3, stride=1, padding=1), nl(128), nn.ReLU()])\n",
    "\n",
    "        self.up9 = nn.Sequential(\n",
    "            *[nn.UpsamplingNearest2d(scale_factor=2), nn.Conv2d(128, 64, kernel_size=3, stride=1, padding=1), nl(64),\n",
    "              nn.ReLU()])\n",
    "\n",
    "        self.conv9 = nn.Sequential(*[nn.Conv2d(128, 64, kernel_size=3, stride=1, padding=1), nl(64), nn.ReLU(),\n",
    "                                     nn.Conv2d(64, 64, kernel_size=3, stride=1, padding=1), nl(64), nn.ReLU(),\n",
    "                                     nn.Conv2d(64, output_nc, kernel_size=3, stride=1, padding=1)\n",
    "                                     ])\n",
    "\n",
    "    def forward(self, input, refer, mask):\n",
    "        input, warped_mask,rx,ry,cx,cy,rg,cg = self.stn(input, torch.cat([mask, refer, input], 1), mask)\n",
    "        #ipdb.set_trace()# print(input.shape)\n",
    "\n",
    "        conv1 = self.conv1(torch.cat([refer.detach(), input.detach()], 1))\n",
    "        pool1 = self.pool1(conv1)\n",
    "\n",
    "        conv2 = self.conv2(pool1)\n",
    "        pool2 = self.pool2(conv2)\n",
    "\n",
    "        conv3 = self.conv3(pool2)\n",
    "        pool3 = self.pool3(conv3)\n",
    "\n",
    "        conv4 = self.conv4(pool3)\n",
    "        drop4 = self.drop4(conv4)\n",
    "        pool4 = self.pool4(drop4)\n",
    "\n",
    "        conv5 = self.conv5(pool4)\n",
    "        drop5 = self.drop5(conv5)\n",
    "\n",
    "        up6 = self.up6(drop5)\n",
    "        conv6 = self.conv6(torch.cat([drop4, up6], 1))\n",
    "\n",
    "        up7 = self.up7(conv6)\n",
    "        conv7 = self.conv7(torch.cat([conv3, up7], 1))\n",
    "\n",
    "        up8 = self.up8(conv7)\n",
    "        conv8 = self.conv8(torch.cat([conv2, up8], 1))\n",
    "\n",
    "        up9 = self.up9(conv8)\n",
    "        conv9 = self.conv9(torch.cat([conv1, up9], 1))\n",
    "        return conv9, input, warped_mask,rx,ry,cx,cy,rg,cg\n",
    "\n",
    "class STNNet(nn.Module):\n",
    "    def __init__(self):\n",
    "        super(STNNet, self).__init__()\n",
    "        range = 0.9\n",
    "        r1 = range\n",
    "        r2 = range\n",
    "        grid_size_h = 5\n",
    "        grid_size_w = 5\n",
    "\n",
    "        assert r1 < 1 and r2 < 1\n",
    "        target_control_points = torch.Tensor(list(itertools.product(\n",
    "            np.arange(-r1, r1 + 0.00001, 2.0 * r1 / (grid_size_h - 1)),\n",
    "            np.arange(-r2, r2 + 0.00001, 2.0 * r2 / (grid_size_w - 1)),\n",
    "        )))\n",
    "        Y, X = target_control_points.split(1, dim=1)\n",
    "        target_control_points = torch.cat([X, Y], dim=1)\n",
    "        # self.get_row(target_control_points,5)\n",
    "        GridLocNet = {\n",
    "            'bounded_stn': BoundedGridLocNet,\n",
    "        }['bounded_stn']\n",
    "        self.loc_net = GridLocNet(grid_size_h, grid_size_w, target_control_points)\n",
    "\n",
    "        self.tps = TPSGridGen(256, 192, target_control_points)\n",
    "\n",
    "    def get_row(self, coor, num):\n",
    "        for j in range(num):\n",
    "            sum = 0\n",
    "            buffer = 0\n",
    "            flag = False\n",
    "            max = -1\n",
    "            for i in range(num - 1):\n",
    "                differ = (coor[j * num + i + 1, :] - coor[j * num + i, :]) ** 2\n",
    "                if not flag:\n",
    "                    second_dif = 0\n",
    "                    flag = True\n",
    "                else:\n",
    "                    second_dif = torch.abs(differ - buffer)\n",
    "\n",
    "                buffer = differ\n",
    "                sum += second_dif\n",
    "            print(sum / num)\n",
    "    \n",
    "    def get_col(self,coor,num):\n",
    "        for i in range(num):\n",
    "            sum = 0\n",
    "            buffer = 0\n",
    "            flag = False\n",
    "            max = -1\n",
    "            for j in range(num - 1):\n",
    "                differ = (coor[ (j + 1) * num + i, :] - coor[j * num + i, :]) ** 2\n",
    "                if not flag:\n",
    "                    second_dif = 0\n",
    "                    flag = True\n",
    "                else:\n",
    "                    second_dif = torch.abs(differ-buffer)\n",
    "\n",
    "                buffer = differ\n",
    "                sum += second_dif\n",
    "            print(sum)\n",
    "\n",
    "    def forward(self, x, reference, mask):\n",
    "        batch_size = x.size(0)\n",
    "        source_control_points,rx,ry,cx,cy,rg,cg = self.loc_net(reference)\n",
    "        source_control_points=(source_control_points)\n",
    "        source_coordinate = self.tps(source_control_points)\n",
    "        grid = source_coordinate.view(batch_size, 256, 192, 2)\n",
    "        transformed_x = grid_sample(x, grid, canvas=0)\n",
    "        warped_mask = grid_sample(mask, grid, canvas=0)\n",
    "        return transformed_x, warped_mask,rx,ry,cx,cy,rg,cg\n",
    "    \n",
    "class BoundedGridLocNet(nn.Module):\n",
    "    def __init__(self, grid_height, grid_width, target_control_points):\n",
    "        super(BoundedGridLocNet, self).__init__()\n",
    "        self.cnn = CNN(grid_height * grid_width * 2)\n",
    "\n",
    "        bias = torch.from_numpy(np.arctanh(target_control_points.numpy()))\n",
    "        bias = bias.view(-1)\n",
    "        self.cnn.fc2.bias.data.copy_(bias)\n",
    "        self.cnn.fc2.weight.data.zero_()\n",
    "\n",
    "    def forward(self, x):\n",
    "        batch_size = x.size(0)\n",
    "        points = F.tanh(self.cnn(x))\n",
    "        #ipdb.set_trace()\n",
    "        coor=points.view(batch_size, -1, 2)\n",
    "        row=self.get_row(coor,5)\n",
    "        col=self.get_col(coor,5)\n",
    "        rg_loss = sum(self.grad_row(coor, 5))\n",
    "        cg_loss = sum(self.grad_col(coor, 5))\n",
    "        rg_loss = torch.max(rg_loss,torch.tensor(0.02).cuda())\n",
    "        cg_loss = torch.max(cg_loss,torch.tensor(0.02).cuda())\n",
    "        rx,ry,cx,cy=torch.tensor(0.08).cuda(),torch.tensor(0.08).cuda()\\\n",
    "            ,torch.tensor(0.08).cuda(),torch.tensor(0.08).cuda()\n",
    "        row_x,row_y=row[:,:,0],row[:,:,1]\n",
    "        col_x,col_y=col[:,:,0],col[:,:,1]\n",
    "        rx_loss=torch.max(rx,row_x).mean()\n",
    "        ry_loss=torch.max(ry,row_y).mean()\n",
    "        cx_loss=torch.max(cx,col_x).mean()\n",
    "        cy_loss=torch.max(cy,col_y).mean()\n",
    "        return  coor,rx_loss,ry_loss,cx_loss,cy_loss,rg_loss,cg_loss\n",
    "\n",
    "    def get_row(self,coor,num):\n",
    "        sec_dic=[]\n",
    "        for j in range(num):\n",
    "            sum=0\n",
    "            buffer=0\n",
    "            flag=False\n",
    "            max=-1\n",
    "            for i in range(num-1):\n",
    "                differ=(coor[:,j*num+i+1,:]-coor[:,j*num+i,:])**2\n",
    "                if not flag:\n",
    "                    second_dif=0\n",
    "                    flag=True\n",
    "                else:\n",
    "                    second_dif=torch.abs(differ-buffer)\n",
    "                    sec_dic.append(second_dif)\n",
    "\n",
    "                buffer=differ\n",
    "                sum+=second_dif\n",
    "        return torch.stack(sec_dic,dim=1)\n",
    "\n",
    "    def get_col(self,coor,num):\n",
    "        sec_dic=[]\n",
    "        for i in range(num):\n",
    "            sum = 0\n",
    "            buffer = 0\n",
    "            flag = False\n",
    "            max = -1\n",
    "            for j in range(num - 1):\n",
    "                differ = (coor[:, (j+1) * num + i , :] - coor[:, j * num + i, :]) ** 2\n",
    "                if not flag:\n",
    "                    second_dif = 0\n",
    "                    flag = True\n",
    "                else:\n",
    "                    second_dif = torch.abs(differ-buffer)\n",
    "                    sec_dic.append(second_dif)\n",
    "                buffer = differ\n",
    "                sum += second_dif\n",
    "        return torch.stack(sec_dic,dim=1)\n",
    "\n",
    "    def grad_row(self, coor, num):\n",
    "        sec_term = []\n",
    "        for j in range(num):\n",
    "            for i in range(1, num - 1):\n",
    "                x0, y0 = coor[:, j * num + i - 1, :][0]\n",
    "                x1, y1 = coor[:, j * num + i + 0, :][0]\n",
    "                x2, y2 = coor[:, j * num + i + 1, :][0]\n",
    "                grad = torch.abs((y1 - y0) * (x1 - x2) - (y1 - y2) * (x1 - x0))\n",
    "                sec_term.append(grad)\n",
    "        return sec_term\n",
    "\n",
    "    def grad_col(self, coor, num):\n",
    "        sec_term = []\n",
    "        for i in range(num):\n",
    "            for j in range(1, num - 1):\n",
    "                x0, y0 = coor[:, (j - 1) * num + i, :][0]\n",
    "                x1, y1 = coor[:, j * num + i, :][0]\n",
    "                x2, y2 = coor[:, (j + 1) * num + i, :][0]\n",
    "                grad = torch.abs((y1 - y0) * (x1 - x2) - (y1 - y2) * (x1 - x0))\n",
    "                sec_term.append(grad)\n",
    "        return sec_term\n",
    "    \n",
    "class CNN(nn.Module):\n",
    "    def __init__(self, num_output, input_nc=5, ngf=8, n_layers=5, norm_layer=nn.InstanceNorm2d, use_dropout=False):\n",
    "        super(CNN, self).__init__()\n",
    "        downconv = nn.Conv2d(5, ngf, kernel_size=4, stride=2, padding=1)\n",
    "        model = [downconv, nn.ReLU(True), norm_layer(ngf)]\n",
    "        for i in range(n_layers):\n",
    "            in_ngf = 2 ** i * ngf if 2 ** i * ngf < 1024 else 1024\n",
    "            out_ngf = 2 ** (i + 1) * ngf if 2 ** i * ngf < 1024 else 1024\n",
    "            downconv = nn.Conv2d(\n",
    "                in_ngf, out_ngf, kernel_size=4, stride=2, padding=1)\n",
    "            model += [downconv, norm_layer(out_ngf), nn.ReLU(True)]\n",
    "        model += [nn.Conv2d(256, 256, kernel_size=3, stride=1,\n",
    "                            padding=1), norm_layer(64), nn.ReLU(True)]\n",
    "        model += [nn.Conv2d(256, 256, kernel_size=3, stride=1,\n",
    "                            padding=1), norm_layer(64), nn.ReLU(True)]\n",
    "        self.maxpool = nn.MaxPool2d(kernel_size=2, stride=2)\n",
    "        self.model = nn.Sequential(*model)\n",
    "        self.fc1 = nn.Linear(512, 128)\n",
    "        self.fc2 = nn.Linear(128, num_output)\n",
    "\n",
    "    def forward(self, x):\n",
    "        x = self.model(x)\n",
    "        x = self.maxpool(x)\n",
    "        x = x.view(x.shape[0], -1)\n",
    "        x = F.relu(self.fc1(x))\n",
    "        x = F.dropout(x, training=self.training)\n",
    "        x = self.fc2(x)\n",
    "        return x\n",
    "    \n",
    "class TPSGridGen(nn.Module):\n",
    "    def compute_partial_repr(self, input_points, control_points):\n",
    "        N = input_points.size(0)\n",
    "        M = control_points.size(0)\n",
    "        pairwise_diff = input_points.view(N, 1, 2) - control_points.view(1, M, 2)\n",
    "        # original implementation, very slow\n",
    "        # pairwise_dist = torch.sum(pairwise_diff ** 2, dim = 2) # square of distance\n",
    "        pairwise_diff_square = pairwise_diff * pairwise_diff\n",
    "        pairwise_dist = pairwise_diff_square[:,\n",
    "                                             :, 0] + pairwise_diff_square[:, :, 1]\n",
    "        repr_matrix = 0.5 * pairwise_dist * torch.log(pairwise_dist)\n",
    "        # fix numerical error for 0 * log(0), substitute all nan with 0\n",
    "        mask = repr_matrix != repr_matrix\n",
    "        repr_matrix.masked_fill_(mask, 0)\n",
    "        return repr_matrix\n",
    "    \n",
    "    def __init__(self, target_height, target_width, target_control_points):\n",
    "        super(TPSGridGen, self).__init__()\n",
    "        assert target_control_points.ndimension() == 2\n",
    "        assert target_control_points.size(1) == 2\n",
    "        N = target_control_points.size(0)\n",
    "        self.num_points = N\n",
    "        target_control_points = target_control_points.float()\n",
    "\n",
    "        # create padded kernel matrix\n",
    "        forward_kernel = torch.zeros(N + 3, N + 3)\n",
    "        target_control_partial_repr = self.compute_partial_repr(\n",
    "            target_control_points, target_control_points)\n",
    "        forward_kernel[:N, :N].copy_(target_control_partial_repr)\n",
    "        forward_kernel[:N, -3].fill_(1)\n",
    "        forward_kernel[-3, :N].fill_(1)\n",
    "        forward_kernel[:N, -2:].copy_(target_control_points)\n",
    "        forward_kernel[-2:, :N].copy_(target_control_points.transpose(0, 1))\n",
    "        # compute inverse matrix\n",
    "        inverse_kernel = torch.inverse(forward_kernel)\n",
    "\n",
    "        # create target cordinate matrix\n",
    "        HW = target_height * target_width\n",
    "        target_coordinate = list(itertools.product(\n",
    "            range(target_height), range(target_width)))\n",
    "        # print(target_coordinate)\n",
    "        target_coordinate = torch.Tensor(target_coordinate)  # HW x 2\n",
    "        Y, X = target_coordinate.split(1, dim=1)\n",
    "        Y = Y * 2 / (target_height - 1) - 1\n",
    "        X = X * 2 / (target_width - 1) - 1\n",
    "        # convert from (y, x) to (x, y)\n",
    "        target_coordinate = torch.cat([X, Y], dim=1)\n",
    "        target_coordinate_partial_repr = self.compute_partial_repr(\n",
    "            target_coordinate, target_control_points)\n",
    "        target_coordinate_repr = torch.cat([\n",
    "            target_coordinate_partial_repr, torch.ones(\n",
    "                HW, 1), target_coordinate\n",
    "        ], dim=1)\n",
    "\n",
    "        # register precomputed matrices\n",
    "        self.register_buffer('inverse_kernel', inverse_kernel)\n",
    "        self.register_buffer('padding_matrix', torch.zeros(3, 2))\n",
    "        self.register_buffer('target_coordinate_repr', target_coordinate_repr)\n",
    "\n",
    "    def forward(self, source_control_points):\n",
    "        assert source_control_points.ndimension() == 3\n",
    "        assert source_control_points.size(1) == self.num_points\n",
    "        assert source_control_points.size(2) == 2\n",
    "        batch_size = source_control_points.size(0)\n",
    "\n",
    "        Y = torch.cat([source_control_points, Variable(\n",
    "            self.padding_matrix.expand(batch_size, 3, 2))], 1)\n",
    "        mapping_matrix = torch.matmul(Variable(self.inverse_kernel), Y)\n",
    "        source_coordinate = torch.matmul(\n",
    "            Variable(self.target_coordinate_repr), mapping_matrix)\n",
    "        return source_coordinate"
   ]
  },
  {
   "cell_type": "code",
   "execution_count": 22,
   "metadata": {},
   "outputs": [],
   "source": [
    "with torch.no_grad():\n",
    "    G3 = Refine(11, 3)\n",
    "    G3.cuda(opt.gpu_ids[0])\n",
    "    G3.load_state_dict(torch.load('../label2city/mine/best_net_G.pth')) #186 epochs \n",
    "    G3.eval()"
   ]
  },
  {
   "cell_type": "code",
   "execution_count": 23,
   "metadata": {},
   "outputs": [],
   "source": [
    "with torch.no_grad():\n",
    "    unet = UnetMask(4,4)\n",
    "    unet.cuda(opt.gpu_ids[0])\n",
    "    unet.load_state_dict(torch.load('../label2city/mine/latest_net_U.pth'))\n",
    "    unet.eval()"
   ]
  },
  {
   "cell_type": "code",
   "execution_count": 24,
   "metadata": {},
   "outputs": [],
   "source": [
    "def ger_average_color(mask, arms):\n",
    "    color = torch.zeros(arms.shape).cuda()\n",
    "    for i in range(arms.shape[0]):\n",
    "        count = len(torch.nonzero(mask[i, :, :, :]))\n",
    "        if count < 10:\n",
    "            color[i, 0, :, :] = 0\n",
    "            color[i, 1, :, :] = 0\n",
    "            color[i, 2, :, :] = 0\n",
    "\n",
    "        else:\n",
    "            color[i, 0, :, :] = arms[i, 0, :, :].sum() / count\n",
    "            color[i, 1, :, :] = arms[i, 1, :, :].sum() / count\n",
    "            color[i, 2, :, :] = arms[i, 2, :, :].sum() / count\n",
    "    return color"
   ]
  },
  {
   "cell_type": "code",
   "execution_count": 25,
   "metadata": {},
   "outputs": [],
   "source": [
    "def morpho(mask, iter, bigger=True):\n",
    "    kernel = cv2.getStructuringElement(cv2.MORPH_ELLIPSE, (3, 3))\n",
    "    new = []\n",
    "    for i in range(len(mask)):\n",
    "        tem = mask[i].cpu().detach().numpy().squeeze().reshape(256, 192, 1)*255\n",
    "        tem = tem.astype(np.uint8)\n",
    "        if bigger:\n",
    "            tem = cv2.dilate(tem, kernel, iterations=iter)\n",
    "        else:\n",
    "            tem = cv2.erode(tem, kernel, iterations=iter)\n",
    "        tem = tem.astype(np.float64)\n",
    "        tem = tem.reshape(1, 256, 192)\n",
    "        new.append(tem.astype(np.float64)/255.0)\n",
    "    new = np.stack(new)\n",
    "    new = torch.FloatTensor(new).cuda()\n",
    "    return new\n",
    "\n",
    "def encode(label_map, size):\n",
    "    label_nc = 14\n",
    "    oneHot_size = (size[0], label_nc, size[2], size[3])\n",
    "    input_label = torch.cuda.FloatTensor(torch.Size(oneHot_size)).zero_()\n",
    "    input_label = input_label.scatter_(1, label_map.data.long().cuda(), 1.0)\n",
    "    return input_label"
   ]
  },
  {
   "cell_type": "code",
   "execution_count": 33,
   "metadata": {},
   "outputs": [
    {
     "name": "stderr",
     "output_type": "stream",
     "text": [
      "C:\\Users\\Tasin\\anaconda3\\envs\\improve\\lib\\site-packages\\ipykernel_launcher.py:1: DeprecationWarning: `np.float` is a deprecated alias for the builtin `float`. To silence this warning, use `float` by itself. Doing this will not modify any behavior and is safe. If you specifically wanted the numpy scalar type, use `np.float64` here.\n",
      "Deprecated in NumPy 1.20; for more details and guidance: https://numpy.org/devdocs/release/1.20.0-notes.html#deprecations\n",
      "  \"\"\"Entry point for launching an IPython kernel.\n",
      "C:\\Users\\Tasin\\anaconda3\\envs\\improve\\lib\\site-packages\\ipykernel_launcher.py:2: DeprecationWarning: `np.float` is a deprecated alias for the builtin `float`. To silence this warning, use `float` by itself. Doing this will not modify any behavior and is safe. If you specifically wanted the numpy scalar type, use `np.float64` here.\n",
      "Deprecated in NumPy 1.20; for more details and guidance: https://numpy.org/devdocs/release/1.20.0-notes.html#deprecations\n",
      "  \n",
      "C:\\Users\\Tasin\\anaconda3\\envs\\improve\\lib\\site-packages\\ipykernel_launcher.py:6: DeprecationWarning: `np.float` is a deprecated alias for the builtin `float`. To silence this warning, use `float` by itself. Doing this will not modify any behavior and is safe. If you specifically wanted the numpy scalar type, use `np.float64` here.\n",
      "Deprecated in NumPy 1.20; for more details and guidance: https://numpy.org/devdocs/release/1.20.0-notes.html#deprecations\n",
      "  \n",
      "C:\\Users\\Tasin\\anaconda3\\envs\\improve\\lib\\site-packages\\ipykernel_launcher.py:8: DeprecationWarning: `np.float` is a deprecated alias for the builtin `float`. To silence this warning, use `float` by itself. Doing this will not modify any behavior and is safe. If you specifically wanted the numpy scalar type, use `np.float64` here.\n",
      "Deprecated in NumPy 1.20; for more details and guidance: https://numpy.org/devdocs/release/1.20.0-notes.html#deprecations\n",
      "  \n"
     ]
    }
   ],
   "source": [
    "arm1_mask = torch.FloatTensor((in_label.cpu().numpy() == 11).astype(np.float)).cuda()\n",
    "arm2_mask = torch.FloatTensor((in_label.cpu().numpy() == 13).astype(np.float)).cuda()\n",
    "skin_color = ger_average_color((arm1_mask + arm2_mask - arm2_mask * arm1_mask),\n",
    "            (arm1_mask + arm2_mask - arm2_mask * arm1_mask) * in_image)\n",
    "new_arm1_mask = torch.FloatTensor(\n",
    "            (armlabel_map.cpu().numpy() == 11).astype(np.float)).cuda()\n",
    "new_arm2_mask = torch.FloatTensor(\n",
    "            (armlabel_map.cpu().numpy() == 13).astype(np.float)).cuda()\n",
    "\n",
    "\n",
    "arm1_occ = in_mask_clothes * new_arm1_mask\n",
    "arm2_occ = in_mask_clothes * new_arm2_mask\n",
    "bigger_arm1_occ = morpho(arm1_occ, 10)\n",
    "bigger_arm2_occ = morpho(arm2_occ, 10)\n",
    "\n",
    "occlude = (1 - bigger_arm1_occ * (arm2_mask + arm1_mask+in_mask_clothes)) * \\\n",
    "            (1 - bigger_arm2_occ * (arm2_mask + arm1_mask+in_mask_clothes))\n",
    "img_hole_hand = in_img_fore * \\\n",
    "            (1 - in_mask_clothes) * occlude * (1 - fake_cl)\n",
    "dis_label = encode(armlabel_map, armlabel_map.shape)"
   ]
  },
  {
   "cell_type": "code",
   "execution_count": 34,
   "metadata": {},
   "outputs": [],
   "source": [
    "def grid_sample(input, grid, canvas=None):\n",
    "    output = F.grid_sample(input, grid)\n",
    "    if canvas is None:\n",
    "        return output\n",
    "    else:\n",
    "        input_mask = Variable(input.data.new(input.size()).fill_(1))\n",
    "        output_mask = F.grid_sample(input_mask, grid)\n",
    "        padded_output = output * output_mask + canvas * (1 - output_mask)\n",
    "        return padded_output\n",
    "\n",
    "tanh = torch.nn.Tanh()\n",
    "fake_c, warped, warped_mask, rx, ry, cx, cy, rg, cg = unet(clothes, fake_cl, pre_clothes_mask)\n",
    "composition_mask = fake_c[:, 3, :, :]\n",
    "composition_mask= sigmoid(composition_mask)\n",
    "\n",
    "mask = fake_c[:, 3, :, :]\n",
    "mask = sigmoid(mask)*fake_cl\n",
    "fake_c = tanh(fake_c[:, 0:3, :, :])\n",
    "fake_c = fake_c*(1-mask)+mask*warped"
   ]
  },
  {
   "cell_type": "code",
   "execution_count": 35,
   "metadata": {
    "scrolled": true
   },
   "outputs": [
    {
     "name": "stderr",
     "output_type": "stream",
     "text": [
      "Clipping input data to the valid range for imshow with RGB data ([0..1] for floats or [0..255] for integers).\n",
      "Clipping input data to the valid range for imshow with RGB data ([0..1] for floats or [0..255] for integers).\n"
     ]
    },
    {
     "data": {
      "image/png": "[encoded data removed]",
      "text/plain": [
       "<Figure size 576x576 with 4 Axes>"
      ]
     },
     "metadata": {
      "needs_background": "light"
     },
     "output_type": "display_data"
    }
   ],
   "source": [
    "fig = plt.figure(figsize=(8, 8))\n",
    "ax = fig.add_subplot(2, 3, 1)\n",
    "plt.imshow(fake_c[0].permute(1,2,0).detach().cpu().numpy()+0.3)\n",
    "ax.xaxis.set_visible(False)\n",
    "ax.yaxis.set_visible(False)\n",
    "ax = fig.add_subplot(2, 3, 2)\n",
    "plt.imshow(warped[0].permute(1,2,0).detach().cpu().numpy()+0.3)\n",
    "ax.xaxis.set_visible(False)\n",
    "ax.yaxis.set_visible(False)\n",
    "ax = fig.add_subplot(2, 3, 3)\n",
    "plt.imshow(warped_mask[0].permute(1,2,0).detach().cpu().numpy(), cmap='gray')\n",
    "ax.xaxis.set_visible(False)\n",
    "ax.yaxis.set_visible(False)\n",
    "ax = fig.add_subplot(2, 3, 4)\n",
    "plt.imshow(fake_cl[0].permute(1,2,0).detach().cpu().numpy(), cmap='gray')\n",
    "ax.xaxis.set_visible(False)\n",
    "ax.yaxis.set_visible(False)\n",
    "plt.show()\n"
   ]
  },
  {
   "cell_type": "code",
   "execution_count": 36,
   "metadata": {},
   "outputs": [],
   "source": [
    "G3_in = torch.cat([img_hole_hand, armlabel_map, fake_c, skin_color, gen_noise(shape)], 1)\n",
    "fake_image = G3.refine(G3_in.detach())\n",
    "fake_image = tanh(fake_image)"
   ]
  },
  {
   "cell_type": "code",
   "execution_count": 37,
   "metadata": {},
   "outputs": [
    {
     "name": "stderr",
     "output_type": "stream",
     "text": [
      "Clipping input data to the valid range for imshow with RGB data ([0..1] for floats or [0..255] for integers).\n"
     ]
    },
    {
     "data": {
      "text/plain": [
       "<matplotlib.image.AxesImage at 0x1f7243effc8>"
      ]
     },
     "execution_count": 37,
     "metadata": {},
     "output_type": "execute_result"
    },
    {
     "data": {
      "image/png": "[encoded data removed]",
      "text/plain": [
       "<Figure size 432x288 with 1 Axes>"
      ]
     },
     "metadata": {
      "needs_background": "light"
     },
     "output_type": "display_data"
    }
   ],
   "source": [
    "plt.imshow(img_hole_hand[0].permute(1,2,0).detach().cpu().numpy()+0.3)"
   ]
  },
  {
   "cell_type": "code",
   "execution_count": 38,
   "metadata": {},
   "outputs": [
    {
     "data": {
      "text/plain": [
       "<matplotlib.image.AxesImage at 0x1f6f4da9708>"
      ]
     },
     "execution_count": 38,
     "metadata": {},
     "output_type": "execute_result"
    },
    {
     "data": {
      "image/png": "[encoded data removed]",
      "text/plain": [
       "<Figure size 432x288 with 1 Axes>"
      ]
     },
     "metadata": {
      "needs_background": "light"
     },
     "output_type": "display_data"
    }
   ],
   "source": [
    "tensor = (fake_image[0].clone() + 1) * 0.5 * 255\n",
    "tensor = tensor.cpu().clamp(0, 255)\n",
    "array = tensor.detach().numpy().astype('uint8')\n",
    "array = array.swapaxes(0, 1).swapaxes(1, 2)\n",
    "plt.imshow(array)"
   ]
  },
  {
   "cell_type": "code",
   "execution_count": 39,
   "metadata": {},
   "outputs": [
    {
     "data": {
      "text/plain": [
       "<matplotlib.image.AxesImage at 0x1f74c2fb208>"
      ]
     },
     "execution_count": 39,
     "metadata": {},
     "output_type": "execute_result"
    },
    {
     "data": {
      "image/png": "[encoded data removed]",
      "text/plain": [
       "<Figure size 432x288 with 1 Axes>"
      ]
     },
     "metadata": {
      "needs_background": "light"
     },
     "output_type": "display_data"
    }
   ],
   "source": [
    "plt.imshow(armlabel_map[0].permute(1,2,0).detach().cpu().numpy(), cmap = 'gray')"
   ]
  },
  {
   "cell_type": "code",
   "execution_count": 31,
   "metadata": {},
   "outputs": [],
   "source": [
    "input_pool=[G1_in,G3_in,torch.cat([in_mask_clothes,clothes],1)]        ##fake_cl_dis to replace\n",
    "real_pool=[masked_label,in_image,in_image*in_mask_clothes]\n",
    "fake_pool=[arm_label,fake_image,fake_c]"
   ]
  },
  {
   "cell_type": "markdown",
   "metadata": {},
   "source": [
    "### Ground Truth Images\n",
    "\n",
    "We use this to calculate the loss against the generated ones"
   ]
  },
  {
   "cell_type": "code",
   "execution_count": 37,
   "metadata": {},
   "outputs": [
    {
     "name": "stderr",
     "output_type": "stream",
     "text": [
      "Clipping input data to the valid range for imshow with RGB data ([0..1] for floats or [0..255] for integers).\n",
      "Clipping input data to the valid range for imshow with RGB data ([0..1] for floats or [0..255] for integers).\n"
     ]
    },
    {
     "data": {
      "image/png": "[encoded data removed]",
      "text/plain": [
       "<Figure size 576x576 with 3 Axes>"
      ]
     },
     "metadata": {
      "needs_background": "light"
     },
     "output_type": "display_data"
    }
   ],
   "source": [
    "fig = plt.figure(figsize=(8, 8))\n",
    "ax = fig.add_subplot(2, 3, 1)\n",
    "plt.imshow(in_mask_clothes[0].permute(1,2,0).detach().cpu().numpy(), cmap='gray')\n",
    "ax.xaxis.set_visible(False)\n",
    "ax.yaxis.set_visible(False)\n",
    "ax = fig.add_subplot(2, 3, 2)\n",
    "plt.imshow(in_image[0].permute(1,2,0).detach().cpu().numpy()+0.3)\n",
    "ax.xaxis.set_visible(False)\n",
    "ax.yaxis.set_visible(False)\n",
    "ax = fig.add_subplot(2, 3, 3)\n",
    "plt.imshow((in_image*in_mask_clothes)[0].permute(1,2,0).detach().cpu().numpy()+0.3)\n",
    "ax.xaxis.set_visible(False)\n",
    "ax.yaxis.set_visible(False)\n",
    "plt.show()"
   ]
  },
  {
   "cell_type": "markdown",
   "metadata": {},
   "source": [
    "## Fake Images"
   ]
  },
  {
   "cell_type": "code",
   "execution_count": 38,
   "metadata": {
    "scrolled": true
   },
   "outputs": [
    {
     "name": "stderr",
     "output_type": "stream",
     "text": [
      "Clipping input data to the valid range for imshow with RGB data ([0..1] for floats or [0..255] for integers).\n",
      "Clipping input data to the valid range for imshow with RGB data ([0..1] for floats or [0..255] for integers).\n"
     ]
    },
    {
     "data": {
      "image/png": "[encoded data removed]",
      "text/plain": [
       "<Figure size 576x576 with 3 Axes>"
      ]
     },
     "metadata": {
      "needs_background": "light"
     },
     "output_type": "display_data"
    }
   ],
   "source": [
    "fig = plt.figure(figsize=(8, 8))\n",
    "ax = fig.add_subplot(2, 3, 1)\n",
    "plt.imshow(fake_c[0].permute(1,2,0).detach().cpu().numpy()+1)\n",
    "plt.title(\"Generated by STN\")\n",
    "ax.xaxis.set_visible(False)\n",
    "ax.yaxis.set_visible(False)\n",
    "ax = fig.add_subplot(2, 3, 2)\n",
    "plt.imshow(fake_cl[0].permute(1,2,0).detach().cpu().numpy())\n",
    "plt.title(\"Generated by G2\")\n",
    "ax.xaxis.set_visible(False)\n",
    "ax.yaxis.set_visible(False)\n",
    "ax = fig.add_subplot(2, 3, 3)\n",
    "plt.imshow((fake_image*in_mask_clothes)[0].permute(1,2,0).detach().cpu().numpy()+1)\n",
    "plt.title(\"Used to compare with STN\")\n",
    "\n",
    "ax.xaxis.set_visible(False)\n",
    "ax.yaxis.set_visible(False)\n",
    "plt.show()"
   ]
  },
  {
   "cell_type": "markdown",
   "metadata": {},
   "source": [
    "## How to calculate loss"
   ]
  },
  {
   "cell_type": "code",
   "execution_count": null,
   "metadata": {},
   "outputs": [],
   "source": [
    "class ImagePool():\n",
    "    def __init__(self, pool_size):\n",
    "        self.pool_size = pool_size\n",
    "        if self.pool_size > 0:\n",
    "            self.num_imgs = 0\n",
    "            self.images = []\n",
    "\n",
    "    def query(self, images):\n",
    "        if self.pool_size == 0:\n",
    "            return images\n",
    "        return_images = []\n",
    "        for image in images.data:\n",
    "            image = torch.unsqueeze(image, 0)\n",
    "            if self.num_imgs < self.pool_size:\n",
    "                self.num_imgs = self.num_imgs + 1\n",
    "                self.images.append(image)\n",
    "                return_images.append(image)\n",
    "            else:\n",
    "                p = random.uniform(0, 1)\n",
    "                if p > 0.5:\n",
    "                    random_id = random.randint(0, self.pool_size-1)\n",
    "                    tmp = self.images[random_id].clone()\n",
    "                    self.images[random_id] = image\n",
    "                    return_images.append(tmp)\n",
    "                else:\n",
    "                    return_images.append(image)\n",
    "        return_images = Variable(torch.cat(return_images, 0))\n",
    "        return return_images\n",
    "\n",
    "def discriminate(netD ,input_label, test_image, use_pool=False):\n",
    "    input_concat = torch.cat((input_label, test_image.detach()), dim=1)\n",
    "    fake_pool = ImagePool(opt.pool_size)\n",
    "    fake_query = fake_pool.query(input_concat)\n",
    "    return netD.forward(fake_query)"
   ]
  },
  {
   "cell_type": "code",
   "execution_count": null,
   "metadata": {},
   "outputs": [],
   "source": [
    "from models import networks\n",
    "D3 = networks.define_D(7, opt.ndf, opt.n_layers_D, opt.norm, opt.no_lsgan,\n",
    "                                 opt.num_D, not opt.no_ganFeat_loss, gpu_ids=opt.gpu_ids)\n",
    "\n",
    "fake_pool_for_stn = discriminate(D3, torch.cat([in_mask_clothes,in_color],1).detach(), fake_c, use_pool=True)\n",
    "real_pool_for_stn = discriminate(D3, torch.cat([in_mask_clothes,in_color],1).detach(), in_image*in_mask_clothes, use_pool=True)"
   ]
  },
  {
   "cell_type": "code",
   "execution_count": null,
   "metadata": {},
   "outputs": [],
   "source": [
    "loss_D_fake=0\n",
    "loss_D_real=0\n",
    "loss_G_GAN=0\n",
    "loss_G_VGG = 0"
   ]
  },
  {
   "cell_type": "code",
   "execution_count": null,
   "metadata": {},
   "outputs": [],
   "source": [
    "criterionGAN = networks.GANLoss(use_lsgan=not opt.no_lsgan, tensor=torch.cuda.FloatTensor) \n",
    "loss_D_fake += criterionGAN(fake_pool_for_stn, False)    \n",
    "loss_D_real += criterionGAN(real_pool_for_stn, True)"
   ]
  },
  {
   "cell_type": "code",
   "execution_count": null,
   "metadata": {},
   "outputs": [],
   "source": [
    "input_data = torch.cat([in_mask_clothes,in_color],1)\n",
    "pred_fake = D3.forward(torch.cat((input_data.detach(), fake_c), dim=1))\n",
    "loss_G_GAN += criterionGAN(pred_fake, True)"
   ]
  },
  {
   "cell_type": "code",
   "execution_count": null,
   "metadata": {},
   "outputs": [],
   "source": [
    "criterionVGG = networks.VGGLoss(opt.gpu_ids)\n",
    "comp_fake_c=fake_c.detach()*(1-composition_mask).unsqueeze(1)+(composition_mask.unsqueeze(1))*warped.detach()\n",
    "loss_G_VGG += criterionVGG.warp(warped, in_image*in_mask_clothes)+ criterionVGG.warp(comp_fake_c, in_image*in_mask_clothes) * 10\n",
    "loss_G_VGG += criterionVGG.warp(fake_c, in_image*in_mask_clothes) *20\n",
    "\n",
    "criterionFeat = torch.nn.L1Loss()\n",
    "\n",
    "L1_loss = criterionFeat(warped_mask,in_mask_clothes)+criterionFeat(warped, in_image*in_mask_clothes)\n",
    "L1_loss+= criterionFeat(fake_c, in_image*in_mask_clothes)*0.2\n",
    "L1_loss+= criterionFeat(comp_fake_c, in_image*in_mask_clothes)*10\n",
    "L1_loss+= criterionFeat(composition_mask,in_mask_clothes)"
   ]
  },
  {
   "cell_type": "code",
   "execution_count": null,
   "metadata": {},
   "outputs": [],
   "source": [
    "plt.imshow(composition_mask[0].detach().cpu().numpy()+1)\n"
   ]
  }
 ],
 "metadata": {
  "kernelspec": {
   "display_name": "improve",
   "language": "python",
   "name": "improve"
  },
  "language_info": {
   "codemirror_mode": {
    "name": "ipython",
    "version": 3
   },
   "file_extension": ".py",
   "mimetype": "text/x-python",
   "name": "python",
   "nbconvert_exporter": "python",
   "pygments_lexer": "ipython3",
   "version": "3.7.11"
  }
 },
 "nbformat": 4,
 "nbformat_minor": 4
}