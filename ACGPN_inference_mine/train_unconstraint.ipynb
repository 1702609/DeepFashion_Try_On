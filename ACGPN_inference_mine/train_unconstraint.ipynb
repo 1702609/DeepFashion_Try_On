{
 "cells": [
  {
   "cell_type": "code",
   "execution_count": 1,
   "id": "bd110ad7",
   "metadata": {},
   "outputs": [],
   "source": [
    "import torch\n",
    "import torch.nn as nn\n",
    "import os\n",
    "import os.path as osp\n",
    "from PIL import Image\n",
    "import matplotlib.pyplot as plt\n",
    "import torchvision.transforms as transforms\n",
    "import json\n",
    "import numpy as np\n",
    "from PIL import ImageDraw\n",
    "from data.base_dataset import BaseDataset, get_params, get_transform\n",
    "import torch.utils.data as data\n",
    "import itertools\n",
    "import torch.nn.functional as F"
   ]
  },
  {
   "cell_type": "code",
   "execution_count": 2,
   "id": "ad27f18b",
   "metadata": {},
   "outputs": [],
   "source": [
    "class Args:\n",
    "    name = 'label2city'\n",
    "    gpu_ids = [0, 1, 2, 3]\n",
    "    checkpoints_dir = './checkpoints'\n",
    "    model = 'pix2pixHD'\n",
    "    norm = 'instance'\n",
    "    use_dropout = True\n",
    "    verbose = True\n",
    "    batchSize = 1\n",
    "    loadSize = 512\n",
    "    fineSize = 512\n",
    "    label_nc = 20\n",
    "    input_nc = 3\n",
    "    output_nc = 3\n",
    "    dataroot = '../../after_vton_difficult_v2'\n",
    "    datapairs = 'mixed_pairs.txt'\n",
    "    resize_or_crop = 'scale_width'\n",
    "    serial_batches = True\n",
    "    no_flip = True\n",
    "    nThreads = 2\n",
    "    max_dataset_size = float(\"inf\")\n",
    "    display_winsize = 512\n",
    "    tf_log = True\n",
    "    netG = 'global'\n",
    "    ngf = 64\n",
    "    n_downsample_global = 4\n",
    "    n_blocks_global = 4\n",
    "    n_blocks_local = 3\n",
    "    n_local_enhancers = 1\n",
    "    niter_fix_global = 0\n",
    "    continue_train = True\n",
    "    display_freq = 100\n",
    "    print_freq = 100\n",
    "    save_latest_freq = 1000\n",
    "    save_epoch_freq = 10 \n",
    "    no_html = True\n",
    "    debug = True\n",
    "    load_pretrain = '../label2city'\n",
    "    which_epoch = 'latest'\n",
    "    phase = 'test'\n",
    "    niter = 100\n",
    "    niter_decay = 100\n",
    "    beta1 = 0.5\n",
    "    lr = 0.0002\n",
    "    num_D = 2\n",
    "    n_layers_D = 3\n",
    "    ndf = 64\n",
    "    lambda_feat = 10.0\n",
    "    no_ganFeat_loss = True\n",
    "    no_vgg_loss = False\n",
    "    no_lsgan = True\n",
    "    pool_size = 0\n",
    "    isTrain = True\n",
    "\n",
    "opt = Args"
   ]
  },
  {
   "cell_type": "code",
   "execution_count": 3,
   "id": "1c09395d",
   "metadata": {},
   "outputs": [],
   "source": [
    "def make_dataset(dir):\n",
    "    images = []\n",
    "    assert os.path.isdir(dir), '%s is not a valid directory' % dir\n",
    "    f = dir.split('/')[-1].split('_')[-1]\n",
    "    dirs= os.listdir(dir)\n",
    "    for img in dirs:\n",
    "        path = os.path.join(dir, img)\n",
    "        #print(path)\n",
    "        images.append(path)\n",
    "    return images\n",
    "\n",
    "def get_params(opt, size):\n",
    "    w, h = size\n",
    "    new_h = h\n",
    "    new_w = w\n",
    "    if opt.resize_or_crop == 'resize_and_crop':\n",
    "        new_h = new_w = opt.loadSize            \n",
    "    elif opt.resize_or_crop == 'scale_width_and_crop':\n",
    "        new_w = opt.loadSize\n",
    "        new_h = opt.loadSize * h // w\n",
    "\n",
    "    x = random.randint(0, np.maximum(0, new_w - opt.fineSize))\n",
    "    y = random.randint(0, np.maximum(0, new_h - opt.fineSize))\n",
    "\n",
    "def get_transform(method=Image.BICUBIC, normalize=True):\n",
    "        transform_list = []\n",
    "        transform_list += [transforms.ToTensor()]\n",
    "        if normalize:\n",
    "            transform_list += [transforms.Normalize((0.5, 0.5, 0.5),\n",
    "                                                    (0.5, 0.5, 0.5))]\n",
    "        return transforms.Compose(transform_list)\n",
    "    \n",
    "class BaseDataset(data.Dataset):\n",
    "    def __init__(self, opt):\n",
    "        self.opt = opt\n",
    "        super(BaseDataset, self).__init__()\n",
    "        \n",
    "        human_names = []\n",
    "        cloth_names = []\n",
    "        with open(os.path.join(opt.dataroot, opt.datapairs), 'r') as f:\n",
    "            for line in f.readlines():\n",
    "                h_name, c_name = line.strip().split()\n",
    "                human_names.append(h_name)\n",
    "                cloth_names.append(c_name)\n",
    "        self.human_names = human_names\n",
    "        self.cloth_names = cloth_names\n",
    "        \n",
    "    def image_for_pose(self, pose_name, transform):\n",
    "        with open(osp.join(pose_name), 'r') as f:\n",
    "            pose_label = json.load(f)\n",
    "            pose_data = pose_label['people'][0]['pose_keypoints']\n",
    "            pose_data = np.array(pose_data)\n",
    "            pose_data = pose_data.reshape((-1,3))\n",
    "        point_num = pose_data.shape[0]\n",
    "        fine_height = 256\n",
    "        fine_width = 192\n",
    "        pose_map = torch.zeros(point_num, fine_height, fine_width)\n",
    "        r = 5\n",
    "        im_pose = Image.new('L', (fine_width, fine_height))\n",
    "        pose_draw = ImageDraw.Draw(im_pose)\n",
    "        for i in range(point_num):\n",
    "            one_map = Image.new('L', (fine_width, fine_height))\n",
    "            draw = ImageDraw.Draw(one_map)\n",
    "            pointx = pose_data[i,0]\n",
    "            pointy = pose_data[i,1]\n",
    "            if pointx > 1 and pointy > 1:\n",
    "                draw.rectangle((pointx-r, pointy-r, pointx+r, pointy+r), 'white', 'white')\n",
    "                pose_draw.rectangle((pointx-r, pointy-r, pointx+r, pointy+r), 'white', 'white')\n",
    "            one_map = transform(one_map.convert('RGB'))\n",
    "            pose_map[i] = one_map[0]\n",
    "            return pose_map\n",
    "    \n",
    "    def __getitem__(self, index):        \n",
    "        c_name = self.cloth_names[index]\n",
    "        h_name = self.human_names[index]\n",
    "        A_path = osp.join(self.opt.dataroot, self.opt.phase ,'test' + '_label', h_name.replace(\".jpg\", \".png\"))\n",
    "        label = Image.open(A_path).convert('L')\n",
    "\n",
    "        B_path = osp.join(self.opt.dataroot, self.opt.phase ,'test' + '_img', h_name)\n",
    "        image = Image.open(B_path).convert('RGB') \n",
    "        mask = Image.open(B_path).convert('L')\n",
    "        \n",
    "        E_path = osp.join(self.opt.dataroot, self.opt.phase ,'test' + '_edge', c_name)\n",
    "        edge = Image.open(E_path).convert('L')\n",
    "                \n",
    "        C_path = osp.join(self.opt.dataroot, self.opt.phase ,'test' + '_color', c_name)\n",
    "        color = Image.open(C_path).convert('RGB')\n",
    "        \n",
    "        transform_A = get_transform(method=Image.NEAREST, normalize=False)\n",
    "        label_tensor = transform_A(label) * 255\n",
    "        transform_B = get_transform()      \n",
    "        image_tensor = transform_B(image)\n",
    "        mask_tensor = transform_A(image)\n",
    "        edge_tensor = transform_A(edge)\n",
    "        color_tensor = transform_B(color)\n",
    "        pose_name = osp.join(self.opt.dataroot, self.opt.phase ,'test' + '_pose', h_name.replace('.jpg', '_keypoints.json'))\n",
    "        pose_map = self.image_for_pose(pose_name, transform_B)\n",
    "        \n",
    "        return {'label': label_tensor, 'image': image_tensor, \n",
    "                             'edge': edge_tensor,'color': color_tensor, \n",
    "                             'mask': mask_tensor, 'name' : c_name,\n",
    "                             'colormask': mask_tensor,'pose':pose_map}\n",
    "    \n",
    "    def __len__(self):\n",
    "        return len(self.human_names)"
   ]
  },
  {
   "cell_type": "code",
   "execution_count": 4,
   "id": "114f3029",
   "metadata": {},
   "outputs": [],
   "source": [
    "t = BaseDataset(opt)\n",
    "dataloader = torch.utils.data.DataLoader(\n",
    "            t,\n",
    "            batch_size=1,\n",
    "            shuffle=False)"
   ]
  },
  {
   "cell_type": "code",
   "execution_count": 5,
   "id": "37275792",
   "metadata": {},
   "outputs": [
    {
     "data": {
      "text/plain": [
       "12"
      ]
     },
     "execution_count": 5,
     "metadata": {},
     "output_type": "execute_result"
    }
   ],
   "source": [
    "len(dataloader)"
   ]
  },
  {
   "cell_type": "code",
   "execution_count": 6,
   "id": "ca477317",
   "metadata": {},
   "outputs": [
    {
     "name": "stderr",
     "output_type": "stream",
     "text": [
      "<ipython-input-6-d02e573f13a5>:5: DeprecationWarning: `np.int` is a deprecated alias for the builtin `int`. To silence this warning, use `int` by itself. Doing this will not modify any behavior and is safe. When replacing `np.int`, you may wish to use e.g. `np.int64` or `np.int32` to specify the precision. If you wish to review your current use, check the release note link for additional information.\n",
      "Deprecated in NumPy 1.20; for more details and guidance: https://numpy.org/devdocs/release/1.20.0-notes.html#deprecations\n",
      "  arm1=torch.FloatTensor((label.cpu().numpy()==11).astype(np.int))\n",
      "<ipython-input-6-d02e573f13a5>:6: DeprecationWarning: `np.int` is a deprecated alias for the builtin `int`. To silence this warning, use `int` by itself. Doing this will not modify any behavior and is safe. When replacing `np.int`, you may wish to use e.g. `np.int64` or `np.int32` to specify the precision. If you wish to review your current use, check the release note link for additional information.\n",
      "Deprecated in NumPy 1.20; for more details and guidance: https://numpy.org/devdocs/release/1.20.0-notes.html#deprecations\n",
      "  arm2=torch.FloatTensor((label.cpu().numpy()==13).astype(np.int))\n",
      "<ipython-input-6-d02e573f13a5>:7: DeprecationWarning: `np.int` is a deprecated alias for the builtin `int`. To silence this warning, use `int` by itself. Doing this will not modify any behavior and is safe. When replacing `np.int`, you may wish to use e.g. `np.int64` or `np.int32` to specify the precision. If you wish to review your current use, check the release note link for additional information.\n",
      "Deprecated in NumPy 1.20; for more details and guidance: https://numpy.org/devdocs/release/1.20.0-notes.html#deprecations\n",
      "  noise=torch.FloatTensor((label.cpu().numpy()==7).astype(np.int))\n",
      "<ipython-input-6-d02e573f13a5>:15: DeprecationWarning: `np.int` is a deprecated alias for the builtin `int`. To silence this warning, use `int` by itself. Doing this will not modify any behavior and is safe. When replacing `np.int`, you may wish to use e.g. `np.int64` or `np.int32` to specify the precision. If you wish to review your current use, check the release note link for additional information.\n",
      "Deprecated in NumPy 1.20; for more details and guidance: https://numpy.org/devdocs/release/1.20.0-notes.html#deprecations\n",
      "  mask_clothes = torch.FloatTensor((data['label'].cpu().numpy() == 4).astype(np.int))\n",
      "<ipython-input-6-d02e573f13a5>:16: DeprecationWarning: `np.int` is a deprecated alias for the builtin `int`. To silence this warning, use `int` by itself. Doing this will not modify any behavior and is safe. When replacing `np.int`, you may wish to use e.g. `np.int64` or `np.int32` to specify the precision. If you wish to review your current use, check the release note link for additional information.\n",
      "Deprecated in NumPy 1.20; for more details and guidance: https://numpy.org/devdocs/release/1.20.0-notes.html#deprecations\n",
      "  mask_fore = torch.FloatTensor((data['label'].cpu().numpy() > 0).astype(np.int))\n"
     ]
    }
   ],
   "source": [
    "from torch.autograd import Variable\n",
    "\n",
    "def changearm(old_label):\n",
    "    label=old_label\n",
    "    arm1=torch.FloatTensor((label.cpu().numpy()==11).astype(np.int))\n",
    "    arm2=torch.FloatTensor((label.cpu().numpy()==13).astype(np.int))\n",
    "    noise=torch.FloatTensor((label.cpu().numpy()==7).astype(np.int))\n",
    "    label=label*(1-arm1)+arm1*4\n",
    "    label=label*(1-arm2)+arm2*4\n",
    "    label=label*(1-noise)+noise*4\n",
    "    return label\n",
    "\n",
    "for data in dataloader:\n",
    "    all_clothes_label = changearm(data['label'])\n",
    "    mask_clothes = torch.FloatTensor((data['label'].cpu().numpy() == 4).astype(np.int))\n",
    "    mask_fore = torch.FloatTensor((data['label'].cpu().numpy() > 0).astype(np.int))\n",
    "    img_fore = data['image'] * mask_fore\n",
    "\n",
    "    in_label = Variable(data['label'].cuda())\n",
    "    in_edge = Variable(data['edge'].cuda())\n",
    "    in_img_fore = Variable(img_fore.cuda())\n",
    "    in_mask_clothes = Variable(mask_clothes.cuda())\n",
    "    in_color = Variable(data['color'].cuda())\n",
    "    in_all_clothes_label = Variable(all_clothes_label.cuda())\n",
    "    in_image = Variable(data['image'].cuda())\n",
    "    in_pose = Variable(data['pose'].cuda())\n",
    "    in_mask_fore = Variable(mask_fore.cuda()) \n",
    "    break"
   ]
  },
  {
   "cell_type": "code",
   "execution_count": 7,
   "id": "35b6a2ba",
   "metadata": {},
   "outputs": [
    {
     "name": "stderr",
     "output_type": "stream",
     "text": [
      "<ipython-input-7-eced53bcccb1>:27: DeprecationWarning: `np.float` is a deprecated alias for the builtin `float`. To silence this warning, use `float` by itself. Doing this will not modify any behavior and is safe. If you specifically wanted the numpy scalar type, use `np.float64` here.\n",
      "Deprecated in NumPy 1.20; for more details and guidance: https://numpy.org/devdocs/release/1.20.0-notes.html#deprecations\n",
      "  pre_clothes_mask = torch.FloatTensor((in_edge.detach().cpu().numpy() > 0.5).astype(np.float)).cuda()\n"
     ]
    }
   ],
   "source": [
    "import cv2\n",
    "\n",
    "def gen_noise(shape):\n",
    "    noise = np.zeros(shape, dtype=np.uint8)\n",
    "    ### noise\n",
    "    noise = cv2.randn(noise, 0, 255)\n",
    "    noise = np.asarray(noise / 255, dtype=np.uint8)\n",
    "    noise = torch.tensor(noise, dtype=torch.float32)\n",
    "    return noise.cuda()\n",
    "\n",
    "def encode_input(label_map, clothes_mask,all_clothes_label):\n",
    "    size = label_map.size()\n",
    "    oneHot_size = (size[0], 14, size[2], size[3])\n",
    "    input_label = torch.cuda.FloatTensor(torch.Size(oneHot_size)).zero_()\n",
    "    input_label = input_label.scatter_(1, label_map.data.long().cuda(), 1.0)\n",
    "\n",
    "    masked_label= torch.cuda.FloatTensor(torch.Size(oneHot_size)).zero_()\n",
    "    masked_label=masked_label.scatter_(1,(label_map*(1-clothes_mask)).data.long().cuda(), 1.0)\n",
    "\n",
    "    c_label=torch.cuda.FloatTensor(torch.Size(oneHot_size)).zero_()\n",
    "    c_label=c_label.scatter_(1,all_clothes_label.data.long().cuda(),1.0)\n",
    "\n",
    "    input_label = Variable(input_label)\n",
    "\n",
    "    return input_label,masked_label,c_label\n",
    "\n",
    "pre_clothes_mask = torch.FloatTensor((in_edge.detach().cpu().numpy() > 0.5).astype(np.float)).cuda()\n",
    "shape = pre_clothes_mask.shape\n",
    "clothes = in_color*pre_clothes_mask\n",
    "input_label,masked_label,all_clothes_label = encode_input(in_label,in_mask_clothes,in_all_clothes_label)\n",
    "shape = pre_clothes_mask.shape"
   ]
  },
  {
   "cell_type": "code",
   "execution_count": 8,
   "id": "22bdc6fa",
   "metadata": {},
   "outputs": [],
   "source": [
    "sigmoid = nn.Sigmoid()\n",
    "arm_label = torch.load('../../after_vton_difficult_v2/test/msw/' + data['name'][0].replace('.jpg','.pt'), map_location=torch.device('cuda'))\n",
    "arm_label = sigmoid(arm_label)"
   ]
  },
  {
   "cell_type": "code",
   "execution_count": 9,
   "id": "832c00fc",
   "metadata": {},
   "outputs": [
    {
     "data": {
      "image/png": "[encoded data removed]",
      "text/plain": [
       "<Figure size 576x1440 with 14 Axes>"
      ]
     },
     "metadata": {
      "needs_background": "light"
     },
     "output_type": "display_data"
    }
   ],
   "source": [
    "# 14\n",
    "fig = plt.figure(figsize=(8, 20))\n",
    "\n",
    "for i in range(14):\n",
    "    ax = fig.add_subplot(5, 3, i+1)\n",
    "    plt.imshow(arm_label[0][i].detach().cpu().numpy())\n",
    "    ax.xaxis.set_visible(False)\n",
    "    ax.yaxis.set_visible(False)\n",
    "plt.show()"
   ]
  },
  {
   "cell_type": "code",
   "execution_count": 10,
   "id": "a90c1eab",
   "metadata": {},
   "outputs": [],
   "source": [
    "def generate_discrete_label(inputs, label_nc, onehot=True):\n",
    "    pred_batch = []\n",
    "    size = inputs.size()\n",
    "    for input in inputs:\n",
    "        input = input.view(1, label_nc, size[2], size[3])\n",
    "        pred = np.squeeze(input.data.max(1)[1].cpu().numpy(), axis=0)\n",
    "        pred_batch.append(pred)\n",
    "    pred_batch = np.array(pred_batch)\n",
    "    pred_batch = torch.from_numpy(pred_batch)\n",
    "    label_map = []\n",
    "    for p in pred_batch:\n",
    "        p = p.view(1, 256, 192)\n",
    "        label_map.append(p)\n",
    "    label_map = torch.stack(label_map, 0)\n",
    "    if not onehot:\n",
    "        return label_map.float().cuda()\n",
    "    size = label_map.size()\n",
    "    oneHot_size = (size[0], label_nc, size[2], size[3])\n",
    "    input_label = torch.cuda.FloatTensor(torch.Size(oneHot_size)).zero_()\n",
    "    input_label = input_label.scatter_(1, label_map.data.long().cuda(), 1.0)\n",
    "    return input_label\n",
    "\n",
    "\n",
    "armlabel_map = generate_discrete_label(arm_label.detach(), 14, False)\n",
    "dis_label = generate_discrete_label(arm_label.detach(), 14)"
   ]
  },
  {
   "cell_type": "code",
   "execution_count": 11,
   "id": "eabe31a5",
   "metadata": {},
   "outputs": [
    {
     "name": "stderr",
     "output_type": "stream",
     "text": [
      "Clipping input data to the valid range for imshow with RGB data ([0..1] for floats or [0..255] for integers).\n"
     ]
    },
    {
     "data": {
      "image/png": "[encoded data removed]",
      "text/plain": [
       "<Figure size 576x1440 with 2 Axes>"
      ]
     },
     "metadata": {
      "needs_background": "light"
     },
     "output_type": "display_data"
    }
   ],
   "source": [
    "fig = plt.figure(figsize=(8, 20))\n",
    "ax = fig.add_subplot(1, 2, 1)\n",
    "plt.imshow(armlabel_map[0].permute(1,2,0).detach().cpu().numpy())\n",
    "ax.xaxis.set_visible(False)\n",
    "ax.yaxis.set_visible(False)\n",
    "ax = fig.add_subplot(1, 2, 2)\n",
    "plt.imshow(in_image[0].permute(1,2,0).detach().cpu().numpy())\n",
    "ax.xaxis.set_visible(False)\n",
    "ax.yaxis.set_visible(False)\n",
    "plt.show()"
   ]
  },
  {
   "cell_type": "code",
   "execution_count": 12,
   "id": "fc2f51fe",
   "metadata": {},
   "outputs": [],
   "source": [
    "fake_cl = torch.load('../../after_vton_difficult_v2/test/msc/' + data['name'][0].replace('.jpg','.pt'), map_location=torch.device('cuda'))"
   ]
  },
  {
   "cell_type": "code",
   "execution_count": 13,
   "id": "346ec804",
   "metadata": {},
   "outputs": [
    {
     "data": {
      "text/plain": [
       "<matplotlib.image.AxesImage at 0x2629762a8b0>"
      ]
     },
     "execution_count": 13,
     "metadata": {},
     "output_type": "execute_result"
    },
    {
     "data": {
      "image/png": "[encoded data removed]",
      "text/plain": [
       "<Figure size 432x288 with 1 Axes>"
      ]
     },
     "metadata": {
      "needs_background": "light"
     },
     "output_type": "display_data"
    }
   ],
   "source": [
    "plt.imshow(fake_cl[0].permute(1,2,0).detach().cpu().numpy()+1)"
   ]
  },
  {
   "cell_type": "code",
   "execution_count": 14,
   "id": "ca298acf",
   "metadata": {},
   "outputs": [],
   "source": [
    "class UnetMaskWithoutConstraint(nn.Module):\n",
    "    def __init__(self, input_nc, output_nc=3):\n",
    "        super(UnetMaskWithoutConstraint, self).__init__()\n",
    "        self.stn = STNNet()\n",
    "        nl = nn.InstanceNorm2d\n",
    "        self.conv1 = nn.Sequential(*[nn.Conv2d(input_nc, 64, kernel_size=3, stride=1, padding=1), nl(64), nn.ReLU(),\n",
    "                                     nn.Conv2d(64, 64, kernel_size=3, stride=1, padding=1), nl(64), nn.ReLU()])\n",
    "        self.pool1 = nn.MaxPool2d(kernel_size=(2, 2))\n",
    "\n",
    "        self.conv2 = nn.Sequential(*[nn.Conv2d(64, 128, kernel_size=3, stride=1, padding=1), nl(128), nn.ReLU(),\n",
    "                                     nn.Conv2d(128, 128, kernel_size=3, stride=1, padding=1), nl(128), nn.ReLU()])\n",
    "        self.pool2 = nn.MaxPool2d(kernel_size=(2, 2))\n",
    "\n",
    "        self.conv3 = nn.Sequential(*[nn.Conv2d(128, 256, kernel_size=3, stride=1, padding=1), nl(256), nn.ReLU(),\n",
    "                                     nn.Conv2d(256, 256, kernel_size=3, stride=1, padding=1), nl(256), nn.ReLU()])\n",
    "        self.pool3 = nn.MaxPool2d(kernel_size=(2, 2))\n",
    "\n",
    "        self.conv4 = nn.Sequential(*[nn.Conv2d(256, 512, kernel_size=3, stride=1, padding=1), nl(512), nn.ReLU(),\n",
    "                                     nn.Conv2d(512, 512, kernel_size=3, stride=1, padding=1), nl(512), nn.ReLU()])\n",
    "        self.drop4 = nn.Dropout(0.5)\n",
    "        self.pool4 = nn.MaxPool2d(kernel_size=(2, 2))\n",
    "\n",
    "        self.conv5 = nn.Sequential(*[nn.Conv2d(512, 1024, kernel_size=3, stride=1, padding=1), nl(1024), nn.ReLU(),\n",
    "                                     nn.Conv2d(1024, 1024, kernel_size=3, stride=1, padding=1), nl(1024), nn.ReLU()])\n",
    "        self.drop5 = nn.Dropout(0.5)\n",
    "\n",
    "        self.up6 = nn.Sequential(\n",
    "            *[nn.UpsamplingNearest2d(scale_factor=2), nn.Conv2d(1024, 512, kernel_size=3, stride=1, padding=1), nl(512),\n",
    "              nn.ReLU()])\n",
    "\n",
    "        self.conv6 = nn.Sequential(*[nn.Conv2d(1024, 512, kernel_size=3, stride=1, padding=1), nl(512), nn.ReLU(),\n",
    "                                     nn.Conv2d(512, 512, kernel_size=3, stride=1, padding=1), nl(512), nn.ReLU()])\n",
    "        self.up7 = nn.Sequential(\n",
    "            *[nn.UpsamplingNearest2d(scale_factor=2), nn.Conv2d(512, 256, kernel_size=3, stride=1, padding=1), nl(256),\n",
    "              nn.ReLU()])\n",
    "        self.conv7 = nn.Sequential(*[nn.Conv2d(512, 256, kernel_size=3, stride=1, padding=1), nl(256), nn.ReLU(),\n",
    "                                     nn.Conv2d(256, 256, kernel_size=3, stride=1, padding=1), nl(256), nn.ReLU()])\n",
    "\n",
    "        self.up8 = nn.Sequential(\n",
    "            *[nn.UpsamplingNearest2d(scale_factor=2), nn.Conv2d(256, 128, kernel_size=3, stride=1, padding=1), nl(128),\n",
    "              nn.ReLU()])\n",
    "\n",
    "        self.conv8 = nn.Sequential(*[nn.Conv2d(256, 128, kernel_size=3, stride=1, padding=1), nl(128), nn.ReLU(),\n",
    "                                     nn.Conv2d(128, 128, kernel_size=3, stride=1, padding=1), nl(128), nn.ReLU()])\n",
    "\n",
    "        self.up9 = nn.Sequential(\n",
    "            *[nn.UpsamplingNearest2d(scale_factor=2), nn.Conv2d(128, 64, kernel_size=3, stride=1, padding=1), nl(64),\n",
    "              nn.ReLU()])\n",
    "\n",
    "        self.conv9 = nn.Sequential(*[nn.Conv2d(128, 64, kernel_size=3, stride=1, padding=1), nl(64), nn.ReLU(),\n",
    "                                     nn.Conv2d(64, 64, kernel_size=3, stride=1, padding=1), nl(\n",
    "                                         64), nn.ReLU(),\n",
    "                                     nn.Conv2d(\n",
    "                                         64, output_nc, kernel_size=3, stride=1, padding=1)\n",
    "                                     ])\n",
    "\n",
    "    def forward(self, input, refer, mask, grid):\n",
    "\n",
    "        input, warped_mask, rx, ry, cx, cy, grid = self.stn(\n",
    "            input, torch.cat([mask, refer, input], 1), mask, grid)\n",
    "        # print(input.shape)\n",
    "\n",
    "        conv1 = self.conv1(torch.cat([refer.detach(), input.detach()], 1))\n",
    "        pool1 = self.pool1(conv1)\n",
    "\n",
    "        conv2 = self.conv2(pool1)\n",
    "        pool2 = self.pool2(conv2)\n",
    "\n",
    "        conv3 = self.conv3(pool2)\n",
    "        pool3 = self.pool3(conv3)\n",
    "\n",
    "        conv4 = self.conv4(pool3)\n",
    "        drop4 = self.drop4(conv4)\n",
    "        pool4 = self.pool4(drop4)\n",
    "\n",
    "        conv5 = self.conv5(pool4)\n",
    "        drop5 = self.drop5(conv5)\n",
    "\n",
    "        up6 = self.up6(drop5)\n",
    "        conv6 = self.conv6(torch.cat([drop4, up6], 1))\n",
    "\n",
    "        up7 = self.up7(conv6)\n",
    "        conv7 = self.conv7(torch.cat([conv3, up7], 1))\n",
    "\n",
    "        up8 = self.up8(conv7)\n",
    "        conv8 = self.conv8(torch.cat([conv2, up8], 1))\n",
    "\n",
    "        up9 = self.up9(conv8)\n",
    "        conv9 = self.conv9(torch.cat([conv1, up9], 1))\n",
    "        return conv9, input, warped_mask, grid\n",
    "\n",
    "class STNNet(nn.Module):\n",
    "    def __init__(self):\n",
    "        super(STNNet, self).__init__()\n",
    "        range = 0.9\n",
    "        r1 = range\n",
    "        r2 = range\n",
    "        grid_size_h = 5\n",
    "        grid_size_w = 5\n",
    "\n",
    "        assert r1 < 1 and r2 < 1  # if >= 1, arctanh will cause error in BoundedGridLocNet\n",
    "        target_control_points = torch.Tensor(list(itertools.product(\n",
    "            np.arange(-r1, r1 + 0.00001, 2.0 * r1 / (grid_size_h - 1)),\n",
    "            np.arange(-r2, r2 + 0.00001, 2.0 * r2 / (grid_size_w - 1)),\n",
    "        )))\n",
    "        Y, X = target_control_points.split(1, dim=1)\n",
    "        target_control_points = torch.cat([X, Y], dim=1)\n",
    "        self.target_control_points = target_control_points\n",
    "        # self.get_row(target_control_points,5)\n",
    "        GridLocNet = UnBoundedGridLocNet\n",
    "\n",
    "        self.loc_net = GridLocNet(\n",
    "            grid_size_h, grid_size_w, target_control_points)\n",
    "\n",
    "        self.tps = TPSGridGen(256, 192, target_control_points)\n",
    "\n",
    "    def get_row(self, coor, num):\n",
    "        for j in range(num):\n",
    "            sum = 0\n",
    "            buffer = 0\n",
    "            flag = False\n",
    "            for i in range(num - 1):\n",
    "                differ = (coor[j * num + i + 1, :] - coor[j * num + i, :]) ** 2\n",
    "                if not flag:\n",
    "                    second_dif = 0\n",
    "                    flag = True\n",
    "                else:\n",
    "                    second_dif = torch.abs(differ - buffer)\n",
    "\n",
    "                buffer = differ\n",
    "                sum += second_dif\n",
    "            print(sum / num)\n",
    "\n",
    "    def get_col(self, coor, num):\n",
    "        for i in range(num):\n",
    "            sum = 0\n",
    "            buffer = 0\n",
    "            flag = False\n",
    "            for j in range(num - 1):\n",
    "                differ = (coor[(j + 1) * num + i, :] -\n",
    "                          coor[j * num + i, :]) ** 2\n",
    "                if not flag:\n",
    "                    second_dif = 0\n",
    "                    flag = True\n",
    "                else:\n",
    "                    second_dif = torch.abs(differ-buffer)\n",
    "\n",
    "                buffer = differ\n",
    "                sum += second_dif\n",
    "            print(sum)\n",
    "\n",
    "    def forward(self, x, reference, mask, grid_pic):\n",
    "        batch_size = x.size(0)\n",
    "        source_control_points, rx, ry, cx, cy = self.loc_net(reference)\n",
    "        source_control_points = (source_control_points)\n",
    "        print('control points',source_control_points.shape)\n",
    "        source_coordinate = self.tps(source_control_points)\n",
    "        grid = source_coordinate.view(batch_size, 256, 192, 2)\n",
    "        print('grid size',grid.shape)\n",
    "        transformed_x = grid_sample(x, grid, canvas=0)\n",
    "        warped_mask = grid_sample(mask, grid, canvas=0)\n",
    "        warped_gpic = grid_sample(grid_pic, grid, canvas=0)\n",
    "        return transformed_x, warped_mask, rx, ry, cx, cy, warped_gpic\n",
    "    \n",
    "class UnBoundedGridLocNet(nn.Module):\n",
    "\n",
    "    def __init__(self, grid_height, grid_width, target_control_points):\n",
    "        super(UnBoundedGridLocNet, self).__init__()\n",
    "        self.cnn = CNN(grid_height * grid_width * 2)\n",
    "\n",
    "        bias = target_control_points.view(-1)\n",
    "        self.cnn.fc2.bias.data.copy_(bias)\n",
    "        self.cnn.fc2.weight.data.zero_()\n",
    "\n",
    "    def forward(self, x):\n",
    "        batch_size = x.size(0)\n",
    "        points = self.cnn(x)\n",
    "        return points.view(batch_size, -1, 2)\n",
    "    \n",
    "class CNN(nn.Module):\n",
    "    def __init__(self, num_output, input_nc=5, ngf=8, n_layers=5, norm_layer=nn.InstanceNorm2d, use_dropout=False):\n",
    "        super(CNN, self).__init__()\n",
    "        downconv = nn.Conv2d(5, ngf, kernel_size=4, stride=2, padding=1)\n",
    "        model = [downconv, nn.ReLU(True), norm_layer(ngf)]\n",
    "        for i in range(n_layers):\n",
    "            in_ngf = 2 ** i * ngf if 2 ** i * ngf < 1024 else 1024\n",
    "            out_ngf = 2 ** (i + 1) * ngf if 2 ** i * ngf < 1024 else 1024\n",
    "            downconv = nn.Conv2d(\n",
    "                in_ngf, out_ngf, kernel_size=4, stride=2, padding=1)\n",
    "            model += [downconv, norm_layer(out_ngf), nn.ReLU(True)]\n",
    "        model += [nn.Conv2d(256, 256, kernel_size=3, stride=1,\n",
    "                            padding=1), norm_layer(64), nn.ReLU(True)]\n",
    "        model += [nn.Conv2d(256, 256, kernel_size=3, stride=1,\n",
    "                            padding=1), norm_layer(64), nn.ReLU(True)]\n",
    "        self.maxpool = nn.MaxPool2d(kernel_size=2, stride=2)\n",
    "        self.model = nn.Sequential(*model)\n",
    "        self.fc1 = nn.Linear(512, 128)\n",
    "        self.fc2 = nn.Linear(128, num_output)\n",
    "\n",
    "    def forward(self, x):\n",
    "        x = self.model(x)\n",
    "        x = self.maxpool(x)\n",
    "        x = x.view(x.shape[0], -1)\n",
    "        x = F.relu(self.fc1(x))\n",
    "        x = F.dropout(x, training=self.training)\n",
    "        x = self.fc2(x)\n",
    "        return x\n",
    "    \n",
    "class TPSGridGen(nn.Module):\n",
    "    def compute_partial_repr(self, input_points, control_points):\n",
    "        N = input_points.size(0)\n",
    "        M = control_points.size(0)\n",
    "        pairwise_diff = input_points.view(N, 1, 2) - control_points.view(1, M, 2)\n",
    "        # original implementation, very slow\n",
    "        # pairwise_dist = torch.sum(pairwise_diff ** 2, dim = 2) # square of distance\n",
    "        pairwise_diff_square = pairwise_diff * pairwise_diff\n",
    "        pairwise_dist = pairwise_diff_square[:,\n",
    "                                             :, 0] + pairwise_diff_square[:, :, 1]\n",
    "        repr_matrix = 0.5 * pairwise_dist * torch.log(pairwise_dist)\n",
    "        # fix numerical error for 0 * log(0), substitute all nan with 0\n",
    "        mask = repr_matrix != repr_matrix\n",
    "        repr_matrix.masked_fill_(mask, 0)\n",
    "        return repr_matrix\n",
    "    \n",
    "    def __init__(self, target_height, target_width, target_control_points):\n",
    "        super(TPSGridGen, self).__init__()\n",
    "        assert target_control_points.ndimension() == 2\n",
    "        assert target_control_points.size(1) == 2\n",
    "        N = target_control_points.size(0)\n",
    "        self.num_points = N\n",
    "        target_control_points = target_control_points.float()\n",
    "\n",
    "        # create padded kernel matrix\n",
    "        forward_kernel = torch.zeros(N + 3, N + 3)\n",
    "        target_control_partial_repr = self.compute_partial_repr(\n",
    "            target_control_points, target_control_points)\n",
    "        forward_kernel[:N, :N].copy_(target_control_partial_repr)\n",
    "        forward_kernel[:N, -3].fill_(1)\n",
    "        forward_kernel[-3, :N].fill_(1)\n",
    "        forward_kernel[:N, -2:].copy_(target_control_points)\n",
    "        forward_kernel[-2:, :N].copy_(target_control_points.transpose(0, 1))\n",
    "        # compute inverse matrix\n",
    "        inverse_kernel = torch.inverse(forward_kernel)\n",
    "\n",
    "        # create target cordinate matrix\n",
    "        HW = target_height * target_width\n",
    "        target_coordinate = list(itertools.product(\n",
    "            range(target_height), range(target_width)))\n",
    "        # print(target_coordinate)\n",
    "        target_coordinate = torch.Tensor(target_coordinate)  # HW x 2\n",
    "        Y, X = target_coordinate.split(1, dim=1)\n",
    "        Y = Y * 2 / (target_height - 1) - 1\n",
    "        X = X * 2 / (target_width - 1) - 1\n",
    "        # convert from (y, x) to (x, y)\n",
    "        target_coordinate = torch.cat([X, Y], dim=1)\n",
    "        target_coordinate_partial_repr = self.compute_partial_repr(\n",
    "            target_coordinate, target_control_points)\n",
    "        target_coordinate_repr = torch.cat([\n",
    "            target_coordinate_partial_repr, torch.ones(\n",
    "                HW, 1), target_coordinate\n",
    "        ], dim=1)\n",
    "\n",
    "        # register precomputed matrices\n",
    "        self.register_buffer('inverse_kernel', inverse_kernel)\n",
    "        self.register_buffer('padding_matrix', torch.zeros(3, 2))\n",
    "        self.register_buffer('target_coordinate_repr', target_coordinate_repr)\n",
    "\n",
    "    def forward(self, source_control_points):\n",
    "        assert source_control_points.ndimension() == 3\n",
    "        assert source_control_points.size(1) == self.num_points\n",
    "        assert source_control_points.size(2) == 2\n",
    "        batch_size = source_control_points.size(0)\n",
    "\n",
    "        Y = torch.cat([source_control_points, Variable(\n",
    "            self.padding_matrix.expand(batch_size, 3, 2))], 1)\n",
    "        mapping_matrix = torch.matmul(Variable(self.inverse_kernel), Y)\n",
    "        source_coordinate = torch.matmul(\n",
    "            Variable(self.target_coordinate_repr), mapping_matrix)\n",
    "        return source_coordinate"
   ]
  },
  {
   "cell_type": "code",
   "execution_count": 15,
   "id": "84ef3390",
   "metadata": {},
   "outputs": [],
   "source": [
    "with torch.no_grad():\n",
    "    unet = UnetMaskWithoutConstraint(4,4)"
   ]
  },
  {
   "cell_type": "code",
   "execution_count": 16,
   "id": "ef416b47",
   "metadata": {},
   "outputs": [
    {
     "data": {
      "text/plain": [
       "CNN(\n",
       "  (maxpool): MaxPool2d(kernel_size=2, stride=2, padding=0, dilation=1, ceil_mode=False)\n",
       "  (model): Sequential(\n",
       "    (0): Conv2d(5, 8, kernel_size=(4, 4), stride=(2, 2), padding=(1, 1))\n",
       "    (1): ReLU(inplace=True)\n",
       "    (2): InstanceNorm2d(8, eps=1e-05, momentum=0.1, affine=False, track_running_stats=False)\n",
       "    (3): Conv2d(8, 16, kernel_size=(4, 4), stride=(2, 2), padding=(1, 1))\n",
       "    (4): InstanceNorm2d(16, eps=1e-05, momentum=0.1, affine=False, track_running_stats=False)\n",
       "    (5): ReLU(inplace=True)\n",
       "    (6): Conv2d(16, 32, kernel_size=(4, 4), stride=(2, 2), padding=(1, 1))\n",
       "    (7): InstanceNorm2d(32, eps=1e-05, momentum=0.1, affine=False, track_running_stats=False)\n",
       "    (8): ReLU(inplace=True)\n",
       "    (9): Conv2d(32, 64, kernel_size=(4, 4), stride=(2, 2), padding=(1, 1))\n",
       "    (10): InstanceNorm2d(64, eps=1e-05, momentum=0.1, affine=False, track_running_stats=False)\n",
       "    (11): ReLU(inplace=True)\n",
       "    (12): Conv2d(64, 128, kernel_size=(4, 4), stride=(2, 2), padding=(1, 1))\n",
       "    (13): InstanceNorm2d(128, eps=1e-05, momentum=0.1, affine=False, track_running_stats=False)\n",
       "    (14): ReLU(inplace=True)\n",
       "    (15): Conv2d(128, 256, kernel_size=(4, 4), stride=(2, 2), padding=(1, 1))\n",
       "    (16): InstanceNorm2d(256, eps=1e-05, momentum=0.1, affine=False, track_running_stats=False)\n",
       "    (17): ReLU(inplace=True)\n",
       "    (18): Conv2d(256, 256, kernel_size=(3, 3), stride=(1, 1), padding=(1, 1))\n",
       "    (19): InstanceNorm2d(64, eps=1e-05, momentum=0.1, affine=False, track_running_stats=False)\n",
       "    (20): ReLU(inplace=True)\n",
       "    (21): Conv2d(256, 256, kernel_size=(3, 3), stride=(1, 1), padding=(1, 1))\n",
       "    (22): InstanceNorm2d(64, eps=1e-05, momentum=0.1, affine=False, track_running_stats=False)\n",
       "    (23): ReLU(inplace=True)\n",
       "  )\n",
       "  (fc1): Linear(in_features=512, out_features=128, bias=True)\n",
       "  (fc2): Linear(in_features=128, out_features=50, bias=True)\n",
       ")"
      ]
     },
     "execution_count": 16,
     "metadata": {},
     "output_type": "execute_result"
    }
   ],
   "source": [
    "r1 = 0.9\n",
    "r2 = 0.9\n",
    "grid_size_h = 5\n",
    "grid_size_w = 5\n",
    "target_control_points = torch.Tensor(list(itertools.product(np.arange(-r1, r1 + 0.00001, 2.0 * r1 / (\n",
    "            grid_size_h - 1)),            np.arange(-r2, r2 + 0.00001, 2.0 * r2 / (grid_size_w - 1)),)))\n",
    "Y, X = target_control_points.split(1, dim=1)\n",
    "target_control_points = torch.cat([X, Y], dim=1)\n",
    "from models.networks import CNN\n",
    "cnn = CNN(5 * 5 * 2)\n",
    "bias = torch.from_numpy(np.arctanh(target_control_points.numpy()))\n",
    "bias = bias.view(-1)\n",
    "cnn.fc2.bias.data.copy_(bias) \n",
    "cnn.fc2.weight.data.zero_()\n",
    "cnn.cuda()"
   ]
  },
  {
   "cell_type": "code",
   "execution_count": 17,
   "id": "5c6246e0",
   "metadata": {},
   "outputs": [
    {
     "name": "stderr",
     "output_type": "stream",
     "text": [
      "<ipython-input-17-d62500cf3eab>:18: DeprecationWarning: `np.float` is a deprecated alias for the builtin `float`. To silence this warning, use `float` by itself. Doing this will not modify any behavior and is safe. If you specifically wanted the numpy scalar type, use `np.float64` here.\n",
      "Deprecated in NumPy 1.20; for more details and guidance: https://numpy.org/devdocs/release/1.20.0-notes.html#deprecations\n",
      "  fake_cl_dis = torch.FloatTensor((fake_cl.detach().cpu().numpy() > 0.5).astype(np.float)).cuda()\n"
     ]
    }
   ],
   "source": [
    "def morpho(mask, iter, bigger=True):\n",
    "    kernel = cv2.getStructuringElement(cv2.MORPH_ELLIPSE, (3, 3))\n",
    "    new = []\n",
    "    for i in range(len(mask)):\n",
    "        tem = mask[i].cpu().detach().numpy().squeeze().reshape(256, 192, 1)*255\n",
    "        tem = tem.astype(np.uint8)\n",
    "        if bigger:\n",
    "            tem = cv2.dilate(tem, kernel, iterations=iter)\n",
    "        else:\n",
    "            tem = cv2.erode(tem, kernel, iterations=iter)\n",
    "        tem = tem.astype(np.float64)\n",
    "        tem = tem.reshape(1, 256, 192)\n",
    "        new.append(tem.astype(np.float64)/255.0)\n",
    "    new = np.stack(new)\n",
    "    new = torch.FloatTensor(new).cuda()\n",
    "    return new\n",
    "\n",
    "fake_cl_dis = torch.FloatTensor((fake_cl.detach().cpu().numpy() > 0.5).astype(np.float)).cuda()\n",
    "fake_cl_dis = morpho(fake_cl_dis, 1, True)"
   ]
  },
  {
   "cell_type": "code",
   "execution_count": 18,
   "id": "841de575",
   "metadata": {},
   "outputs": [
    {
     "name": "stderr",
     "output_type": "stream",
     "text": [
      "C:\\Users\\Tasin\\anaconda3\\envs\\improve\\lib\\site-packages\\torch\\nn\\functional.py:1698: UserWarning: nn.functional.tanh is deprecated. Use torch.tanh instead.\n",
      "  warnings.warn(\"nn.functional.tanh is deprecated. Use torch.tanh instead.\")\n"
     ]
    }
   ],
   "source": [
    "x = torch.cat([pre_clothes_mask, fake_cl_dis, clothes], 1)\n",
    "points = F.tanh(cnn(x))"
   ]
  },
  {
   "cell_type": "code",
   "execution_count": 19,
   "id": "e0080153",
   "metadata": {},
   "outputs": [],
   "source": [
    "coor = points.view(1, -1, 2)"
   ]
  },
  {
   "cell_type": "code",
   "execution_count": 20,
   "id": "92ef729e",
   "metadata": {},
   "outputs": [],
   "source": [
    "def get_row(coor, num):\n",
    "    sec_dic = []\n",
    "    for j in range(num):\n",
    "        sum = 0\n",
    "        buffer = 0\n",
    "        flag = False\n",
    "        max = -1\n",
    "        for i in range(num-1):\n",
    "            differ = (coor[:, j*num+i+1, :]-coor[:, j*num+i, :])**2\n",
    "            if not flag:\n",
    "                second_dif = 0\n",
    "                flag = True\n",
    "            else:\n",
    "                second_dif = torch.abs(differ-buffer)\n",
    "                sec_dic.append(second_dif)\n",
    "\n",
    "            buffer = differ\n",
    "            sum += second_dif\n",
    "    return torch.stack(sec_dic, dim=1)\n",
    "\n",
    "def get_col(coor, num):\n",
    "    sec_dic = []\n",
    "    for i in range(num):\n",
    "        sum = 0\n",
    "        buffer = 0\n",
    "        flag = False\n",
    "        max = -1\n",
    "        for j in range(num - 1):\n",
    "            differ = (coor[:, (j+1) * num + i, :] -\n",
    "                      coor[:, j * num + i, :]) ** 2\n",
    "            if not flag:\n",
    "                second_dif = 0\n",
    "                flag = True\n",
    "            else:\n",
    "                second_dif = torch.abs(differ-buffer)\n",
    "                sec_dic.append(second_dif)\n",
    "            buffer = differ\n",
    "            sum += second_dif\n",
    "    return torch.stack(sec_dic, dim=1)\n",
    "\n",
    "row = get_row(coor, 5)\n",
    "col = get_col(coor, 5)"
   ]
  },
  {
   "cell_type": "code",
   "execution_count": 21,
   "id": "bf6f44e9",
   "metadata": {},
   "outputs": [
    {
     "name": "stdout",
     "output_type": "stream",
     "text": [
      "torch.Size([1, 15, 2])\n",
      "torch.Size([1, 15, 2])\n"
     ]
    }
   ],
   "source": [
    "print(row.size())\n",
    "print(col.size())"
   ]
  },
  {
   "cell_type": "code",
   "execution_count": 22,
   "id": "dd03df7e",
   "metadata": {},
   "outputs": [],
   "source": [
    "rx, ry, cx, cy = torch.tensor(0.08).cuda(), torch.tensor(\n",
    "            0.08).cuda(), torch.tensor(0.08).cuda(), torch.tensor(0.08).cuda()\n",
    "row_x, row_y = row[:, :, 0], row[:, :, 1]\n",
    "col_x, col_y = col[:, :, 0], col[:, :, 1]"
   ]
  },
  {
   "cell_type": "code",
   "execution_count": 23,
   "id": "de2ebd29",
   "metadata": {},
   "outputs": [],
   "source": [
    "rx_loss = torch.max(rx, row_x).mean()\n",
    "ry_loss = torch.max(ry, row_y).mean()\n",
    "cx_loss = torch.max(cx, col_x).mean()\n",
    "cy_loss = torch.max(cy, col_y).mean()"
   ]
  },
  {
   "cell_type": "code",
   "execution_count": 28,
   "id": "1ae42cbf",
   "metadata": {},
   "outputs": [
    {
     "data": {
      "text/plain": [
       "TPSGridGen()"
      ]
     },
     "execution_count": 28,
     "metadata": {},
     "output_type": "execute_result"
    }
   ],
   "source": [
    "tps = TPSGridGen(256, 192, target_control_points)\n",
    "tps.cuda()"
   ]
  },
  {
   "cell_type": "code",
   "execution_count": 32,
   "id": "0eae6f51",
   "metadata": {},
   "outputs": [
    {
     "data": {
      "text/plain": [
       "torch.Size([1, 25, 2])"
      ]
     },
     "execution_count": 32,
     "metadata": {},
     "output_type": "execute_result"
    }
   ],
   "source": [
    "coor.size()"
   ]
  },
  {
   "cell_type": "code",
   "execution_count": 29,
   "id": "92260e10",
   "metadata": {},
   "outputs": [],
   "source": [
    "source_coordinate = tps(coor)"
   ]
  },
  {
   "cell_type": "code",
   "execution_count": 31,
   "id": "45345c02",
   "metadata": {},
   "outputs": [
    {
     "data": {
      "text/plain": [
       "torch.Size([1, 49152, 2])"
      ]
     },
     "execution_count": 31,
     "metadata": {},
     "output_type": "execute_result"
    }
   ],
   "source": [
    "source_coordinate.size()"
   ]
  },
  {
   "cell_type": "code",
   "execution_count": 34,
   "id": "2d66eee4",
   "metadata": {},
   "outputs": [],
   "source": [
    "grid = source_coordinate.view(1, 256, 192, 2)"
   ]
  },
  {
   "cell_type": "code",
   "execution_count": 43,
   "id": "efa57561",
   "metadata": {},
   "outputs": [],
   "source": [
    "def grid_sample(input, grid, canvas=None):\n",
    "    output = F.grid_sample(input, grid)\n",
    "    if canvas is None:\n",
    "        return output\n",
    "    else:\n",
    "        input_mask = Variable(input.data.new(input.size()).fill_(1))\n",
    "        output_mask = F.grid_sample(input_mask, grid)\n",
    "        padded_output = output * output_mask + canvas * (1 - output_mask)\n",
    "        return padded_output"
   ]
  },
  {
   "cell_type": "code",
   "execution_count": 44,
   "id": "9790ceeb",
   "metadata": {},
   "outputs": [
    {
     "name": "stderr",
     "output_type": "stream",
     "text": [
      "C:\\Users\\Tasin\\anaconda3\\envs\\improve\\lib\\site-packages\\torch\\nn\\functional.py:3828: UserWarning: Default grid_sample and affine_grid behavior has changed to align_corners=False since 1.3.0. Please specify align_corners=True if the old behavior is desired. See the documentation of grid_sample for details.\n",
      "  warnings.warn(\n"
     ]
    }
   ],
   "source": [
    "transformed_x = grid_sample(clothes, grid, canvas=0)"
   ]
  },
  {
   "cell_type": "code",
   "execution_count": 46,
   "id": "1b9c53b8",
   "metadata": {},
   "outputs": [
    {
     "name": "stderr",
     "output_type": "stream",
     "text": [
      "Clipping input data to the valid range for imshow with RGB data ([0..1] for floats or [0..255] for integers).\n"
     ]
    },
    {
     "data": {
      "text/plain": [
       "<matplotlib.image.AxesImage at 0x26287e6d430>"
      ]
     },
     "execution_count": 46,
     "metadata": {},
     "output_type": "execute_result"
    },
    {
     "data": {
      "image/png": "[encoded data removed]",
      "text/plain": [
       "<Figure size 432x288 with 1 Axes>"
      ]
     },
     "metadata": {
      "needs_background": "light"
     },
     "output_type": "display_data"
    }
   ],
   "source": [
    "plt.imshow(transformed_x[0].permute(1,2,0).detach().cpu().numpy()+1)"
   ]
  },
  {
   "cell_type": "code",
   "execution_count": 50,
   "id": "982398ab",
   "metadata": {},
   "outputs": [
    {
     "data": {
      "text/plain": [
       "<matplotlib.image.AxesImage at 0x262c19e8100>"
      ]
     },
     "execution_count": 50,
     "metadata": {},
     "output_type": "execute_result"
    },
    {
     "data": {
      "image/png": "[encoded data removed]",
      "text/plain": [
       "<Figure size 432x288 with 1 Axes>"
      ]
     },
     "metadata": {
      "needs_background": "light"
     },
     "output_type": "display_data"
    }
   ],
   "source": [
    "warped_gpic = grid_sample(in_pose, grid, canvas=0)\n",
    "plt.imshow(warped_gpic[0].permute(2,1,0)[2].detach().cpu().numpy()+1)"
   ]
  }
 ],
 "metadata": {
  "kernelspec": {
   "display_name": "improve",
   "language": "python",
   "name": "improve"
  },
  "language_info": {
   "codemirror_mode": {
    "name": "ipython",
    "version": 3
   },
   "file_extension": ".py",
   "mimetype": "text/x-python",
   "name": "python",
   "nbconvert_exporter": "python",
   "pygments_lexer": "ipython3",
   "version": "3.9.2"
  }
 },
 "nbformat": 4,
 "nbformat_minor": 5
}
