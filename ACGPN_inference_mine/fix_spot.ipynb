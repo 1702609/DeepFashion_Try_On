{
 "cells": [
  {
   "cell_type": "code",
   "execution_count": 1,
   "id": "a81a463a",
   "metadata": {},
   "outputs": [],
   "source": [
    "import numpy as np\n",
    "from skimage import measure\n",
    "import fix_segmentation_spot as spot\n",
    "\n",
    "def splitSpots(image):\n",
    "    labels = measure.label(image, background=0)\n",
    "    list_of_spots = []\n",
    "    for label in np.unique(labels):\n",
    "        if label == 0:\n",
    "            continue\n",
    "        labelMask = np.zeros(image.shape, dtype=\"uint8\")\n",
    "        labelMask[labels == label] = 1\n",
    "        list_of_spots.append(labelMask)\n",
    "    return list_of_spots\n",
    "\n",
    "def checkForSpots(image):\n",
    "    spots = splitSpots(image)\n",
    "    number = len(spots)\n",
    "    if number > 1:\n",
    "        return True\n",
    "    else:\n",
    "        return False\n",
    "\n",
    "def spotArea(spots):\n",
    "    area = []\n",
    "    i = 0\n",
    "    for spot in spots:\n",
    "        count = (spot == 1).sum()\n",
    "        area.append([count, i])\n",
    "        i += 1\n",
    "    area.sort()\n",
    "    sort_index = []\n",
    "    for x in area:\n",
    "        sort_index.append(x[1])\n",
    "    return sort_index\n",
    "\n",
    "def fixSpots(image, arm):\n",
    "    main_image = image\n",
    "    image = image[arm]\n",
    "    size = image.shape\n",
    "    image = image.astype(int)\n",
    "    list_of_spots = splitSpots(image)\n",
    "    number_of_spots = len(list_of_spots)\n",
    "    small_big_spot_index = spotArea(list_of_spots)\n",
    "\n",
    "    unwanted_spot = []\n",
    "    for i in range(number_of_spots - 1):\n",
    "        small_index = small_big_spot_index[i]\n",
    "        unwanted_spot.append(list_of_spots[small_index])\n",
    "\n",
    "    wanted_spot = list_of_spots[small_big_spot_index[-1]]\n",
    "\n",
    "    torso = main_image[1]\n",
    "    for t in range(number_of_spots - 1):\n",
    "        for i in range(size[0]):\n",
    "            for j in range(size[1]):\n",
    "                if unwanted_spot[t][i][j] == 1:\n",
    "                    torso[i][j] = 1\n",
    "    main_image[1] = torso\n",
    "    main_image[arm] = wanted_spot\n",
    "    return main_image"
   ]
  },
  {
   "cell_type": "code",
   "execution_count": 2,
   "id": "9c928afe",
   "metadata": {},
   "outputs": [],
   "source": [
    "with open('defect.npy', 'rb') as f:\n",
    "    hole_hand = np.load(f)"
   ]
  },
  {
   "cell_type": "code",
   "execution_count": 6,
   "id": "e691540d",
   "metadata": {},
   "outputs": [
    {
     "data": {
      "image/png": "[encoded data removed]",
      "text/plain": [
       "<Figure size 576x1440 with 4 Axes>"
      ]
     },
     "metadata": {
      "needs_background": "light"
     },
     "output_type": "display_data"
    }
   ],
   "source": [
    "import matplotlib.pyplot as plt\n",
    "\n",
    "fig = plt.figure(figsize=(8, 20))\n",
    "\n",
    "for i in range(4):\n",
    "    ax = fig.add_subplot(5, 3, i+1)\n",
    "    plt.imshow(hole_hand[0][i],cmap='gray')\n",
    "    ax.xaxis.set_visible(False)\n",
    "    ax.yaxis.set_visible(False)\n",
    "plt.show()"
   ]
  },
  {
   "cell_type": "code",
   "execution_count": 5,
   "id": "cd23173b",
   "metadata": {},
   "outputs": [
    {
     "name": "stdout",
     "output_type": "stream",
     "text": [
      "Right arm needs fixing\n"
     ]
    }
   ],
   "source": [
    "if (spot.checkForSpots(hole_hand[0][2])): # right arm\n",
    "    print(\"Right arm needs fixing\")\n",
    "    armlabel_map_needs_updating = True\n",
    "    fixed_segment = fixSpots(hole_hand[0], 2)\n",
    "    hole_hand[0][1] = fixed_segment[1]\n",
    "\n",
    "#checkForSpots(hole_hand[0])"
   ]
  },
  {
   "cell_type": "code",
   "execution_count": null,
   "id": "204a7a18",
   "metadata": {},
   "outputs": [],
   "source": []
  },
  {
   "cell_type": "code",
   "execution_count": null,
   "id": "a4d305bc",
   "metadata": {},
   "outputs": [],
   "source": [
    "fixSpots"
   ]
  }
 ],
 "metadata": {
  "kernelspec": {
   "display_name": "improve",
   "language": "python",
   "name": "improve"
  },
  "language_info": {
   "codemirror_mode": {
    "name": "ipython",
    "version": 3
   },
   "file_extension": ".py",
   "mimetype": "text/x-python",
   "name": "python",
   "nbconvert_exporter": "python",
   "pygments_lexer": "ipython3",
   "version": "3.7.11"
  }
 },
 "nbformat": 4,
 "nbformat_minor": 5
}