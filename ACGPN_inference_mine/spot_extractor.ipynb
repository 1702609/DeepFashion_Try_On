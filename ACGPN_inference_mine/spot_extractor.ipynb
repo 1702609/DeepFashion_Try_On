{
 "cells": [
  {
   "cell_type": "code",
   "execution_count": 1,
   "id": "18d8008e",
   "metadata": {
    "pycharm": {
     "is_executing": true
    }
   },
   "outputs": [],
   "source": [
    "import numpy as np\n",
    "import matplotlib.pyplot as plt\n",
    "import cv2\n",
    "from skimage import measure\n",
    "from imutils import contours\n",
    "import imutils"
   ]
  },
  {
   "cell_type": "code",
   "execution_count": 2,
   "id": "9cbdf76b",
   "metadata": {},
   "outputs": [],
   "source": [
    "with open('multiple_spots.npy', 'rb') as f:\n",
    "    hole_hand = np.load(f)"
   ]
  },
  {
   "cell_type": "code",
   "execution_count": 3,
   "id": "42d80e26",
   "metadata": {},
   "outputs": [
    {
     "data": {
      "text/plain": [
       "(14, 256, 192)"
      ]
     },
     "execution_count": 3,
     "metadata": {},
     "output_type": "execute_result"
    }
   ],
   "source": [
    "hole_hand.shape"
   ]
  },
  {
   "cell_type": "code",
   "execution_count": 3,
   "id": "2c5509c5",
   "metadata": {},
   "outputs": [],
   "source": [
    "#hole_hand = np.transpose(hole_hand, (2, 0, 1))"
   ]
  },
  {
   "cell_type": "code",
   "execution_count": 4,
   "id": "6ce30790",
   "metadata": {},
   "outputs": [
    {
     "data": {
      "image/png": "[encoded data removed]",
      "text/plain": [
       "<Figure size 576x1440 with 14 Axes>"
      ]
     },
     "metadata": {
      "needs_background": "light"
     },
     "output_type": "display_data"
    }
   ],
   "source": [
    "# 14\n",
    "fig = plt.figure(figsize=(8, 20))\n",
    "\n",
    "for i in range(14):\n",
    "    ax = fig.add_subplot(5, 3, i+1)\n",
    "    plt.imshow(hole_hand[i],cmap='gray')\n",
    "    ax.xaxis.set_visible(False)\n",
    "    ax.yaxis.set_visible(False)\n",
    "plt.show()"
   ]
  },
  {
   "cell_type": "code",
   "execution_count": 5,
   "id": "1da8fbd6",
   "metadata": {},
   "outputs": [
    {
     "data": {
      "text/plain": [
       "<matplotlib.image.AxesImage at 0x1701fc1dcc8>"
      ]
     },
     "execution_count": 5,
     "metadata": {},
     "output_type": "execute_result"
    },
    {
     "data": {
      "image/png": "[encoded data removed]",
      "text/plain": [
       "<Figure size 432x288 with 1 Axes>"
      ]
     },
     "metadata": {
      "needs_background": "light"
     },
     "output_type": "display_data"
    }
   ],
   "source": [
    "left_arm = hole_hand[13]\n",
    "plt.imshow(left_arm, cmap='gray')"
   ]
  },
  {
   "cell_type": "code",
   "execution_count": 6,
   "id": "d1044cff",
   "metadata": {},
   "outputs": [],
   "source": [
    "left_arm = left_arm.astype(int)"
   ]
  },
  {
   "cell_type": "code",
   "execution_count": 7,
   "id": "a5cdaab3",
   "metadata": {},
   "outputs": [
    {
     "data": {
      "text/plain": [
       "(256, 192)"
      ]
     },
     "execution_count": 7,
     "metadata": {},
     "output_type": "execute_result"
    }
   ],
   "source": [
    "left_arm.shape"
   ]
  },
  {
   "cell_type": "code",
   "execution_count": 8,
   "id": "2f906a80",
   "metadata": {},
   "outputs": [],
   "source": [
    "labels = measure.label(left_arm, background=0)\n",
    "# loop over the unique components\n",
    "list_of_spots = []\n",
    "for label in np.unique(labels):\n",
    "# if this is the background label, ignore it\n",
    "    if label == 0:\n",
    "        continue\n",
    "\n",
    "    labelMask = np.zeros(left_arm.shape, dtype=\"uint8\")\n",
    "    labelMask[labels == label] = 1\n",
    "    list_of_spots.append(labelMask)"
   ]
  },
  {
   "cell_type": "code",
   "execution_count": 9,
   "id": "fa9c030c",
   "metadata": {},
   "outputs": [
    {
     "data": {
      "text/plain": [
       "array([0, 1, 2, 3], dtype=int64)"
      ]
     },
     "execution_count": 9,
     "metadata": {},
     "output_type": "execute_result"
    }
   ],
   "source": [
    "np.unique(labels)"
   ]
  },
  {
   "cell_type": "code",
   "execution_count": 10,
   "id": "3913e788",
   "metadata": {},
   "outputs": [
    {
     "name": "stdout",
     "output_type": "stream",
     "text": [
      "3\n"
     ]
    }
   ],
   "source": [
    "number_of_spots = len(list_of_spots)\n",
    "print(number_of_spots)"
   ]
  },
  {
   "cell_type": "code",
   "execution_count": 11,
   "id": "ea211a14",
   "metadata": {},
   "outputs": [
    {
     "data": {
      "text/plain": [
       "<matplotlib.image.AxesImage at 0x1701f51a348>"
      ]
     },
     "execution_count": 11,
     "metadata": {},
     "output_type": "execute_result"
    },
    {
     "data": {
      "image/png": "[encoded data removed]",
      "text/plain": [
       "<Figure size 432x288 with 1 Axes>"
      ]
     },
     "metadata": {
      "needs_background": "light"
     },
     "output_type": "display_data"
    }
   ],
   "source": [
    "plt.imshow(list_of_spots[0], cmap='gray')"
   ]
  },
  {
   "cell_type": "code",
   "execution_count": 12,
   "id": "83eaccd1",
   "metadata": {},
   "outputs": [
    {
     "data": {
      "text/plain": [
       "<matplotlib.image.AxesImage at 0x1701f588408>"
      ]
     },
     "execution_count": 12,
     "metadata": {},
     "output_type": "execute_result"
    },
    {
     "data": {
      "image/png": "[encoded data removed]",
      "text/plain": [
       "<Figure size 432x288 with 1 Axes>"
      ]
     },
     "metadata": {
      "needs_background": "light"
     },
     "output_type": "display_data"
    }
   ],
   "source": [
    "plt.imshow(list_of_spots[1], cmap='gray')"
   ]
  },
  {
   "cell_type": "markdown",
   "id": "5d6771ad",
   "metadata": {},
   "source": [
    "# Calculate Area "
   ]
  },
  {
   "cell_type": "code",
   "execution_count": 13,
   "id": "63b1ab7c",
   "metadata": {},
   "outputs": [],
   "source": [
    "def spotArea(spots):\n",
    "    area = []\n",
    "    i = 0\n",
    "    for spot in spots:\n",
    "        count = (spot == 1).sum()\n",
    "        area.append([count, i])\n",
    "        i += 1\n",
    "    area.sort()\n",
    "    sort_index = []\n",
    "    for x in area:\n",
    "        sort_index.append(x[1])\n",
    "    return sort_index\n",
    "\n",
    "small_big_spot_index = spotArea(list_of_spots)"
   ]
  },
  {
   "cell_type": "code",
   "execution_count": 14,
   "id": "b76e1200",
   "metadata": {},
   "outputs": [],
   "source": [
    "unwanted_spot = []\n",
    "for i in range(number_of_spots-1):\n",
    "    small_index = small_big_spot_index[i]\n",
    "    unwanted_spot.append(list_of_spots[small_index])\n",
    "    \n",
    "wanted_spot = list_of_spots[small_big_spot_index[-1]]"
   ]
  },
  {
   "cell_type": "code",
   "execution_count": 16,
   "id": "343f799d",
   "metadata": {},
   "outputs": [
    {
     "data": {
      "text/plain": [
       "[1, 0, 2]"
      ]
     },
     "execution_count": 16,
     "metadata": {},
     "output_type": "execute_result"
    }
   ],
   "source": [
    "small_big_spot_index"
   ]
  },
  {
   "cell_type": "code",
   "execution_count": 37,
   "id": "0e93dcc7",
   "metadata": {},
   "outputs": [
    {
     "data": {
      "image/png": "[encoded data removed]",
      "text/plain": [
       "<Figure size 576x1440 with 2 Axes>"
      ]
     },
     "metadata": {
      "needs_background": "light"
     },
     "output_type": "display_data"
    }
   ],
   "source": [
    "fig = plt.figure(figsize=(8, 20))\n",
    "\n",
    "for i in range(len(unwanted_spot)):\n",
    "    ax = fig.add_subplot(5, 3, i+1)\n",
    "    plt.imshow(unwanted_spot[i], cmap = 'gray')\n",
    "    ax.xaxis.set_visible(False)\n",
    "    ax.yaxis.set_visible(False)\n",
    "plt.show()"
   ]
  },
  {
   "cell_type": "code",
   "execution_count": 38,
   "id": "2e6b7e20",
   "metadata": {},
   "outputs": [
    {
     "data": {
      "text/plain": [
       "<matplotlib.image.AxesImage at 0x1a8f018bd48>"
      ]
     },
     "execution_count": 38,
     "metadata": {},
     "output_type": "execute_result"
    },
    {
     "data": {
      "image/png": "[encoded data removed]",
      "text/plain": [
       "<Figure size 432x288 with 1 Axes>"
      ]
     },
     "metadata": {
      "needs_background": "light"
     },
     "output_type": "display_data"
    }
   ],
   "source": [
    "plt.imshow(wanted_spot, cmap='gray')"
   ]
  },
  {
   "cell_type": "code",
   "execution_count": 48,
   "id": "c0caf38b",
   "metadata": {},
   "outputs": [
    {
     "data": {
      "text/plain": [
       "<matplotlib.image.AxesImage at 0x1a8ecadec88>"
      ]
     },
     "execution_count": 48,
     "metadata": {},
     "output_type": "execute_result"
    },
    {
     "data": {
      "image/png": "[encoded data removed]",
      "text/plain": [
       "<Figure size 432x288 with 1 Axes>"
      ]
     },
     "metadata": {
      "needs_background": "light"
     },
     "output_type": "display_data"
    }
   ],
   "source": [
    "torso = hole_hand[4]\n",
    "plt.imshow(torso, cmap='gray')"
   ]
  },
  {
   "cell_type": "code",
   "execution_count": 49,
   "id": "6f2be027",
   "metadata": {},
   "outputs": [],
   "source": [
    "size = hole_hand.shape[1:3]\n",
    "\n",
    "for t in range(number_of_spots-1):\n",
    "    for i in range(size[0]):\n",
    "        for j in range(size[1]):\n",
    "            if unwanted_spot[t][i][j] == 1:\n",
    "                torso[i][j] = 1"
   ]
  },
  {
   "cell_type": "code",
   "execution_count": 50,
   "id": "9f1859a2",
   "metadata": {},
   "outputs": [
    {
     "data": {
      "text/plain": [
       "<matplotlib.image.AxesImage at 0x1a8f01d10c8>"
      ]
     },
     "execution_count": 50,
     "metadata": {},
     "output_type": "execute_result"
    },
    {
     "data": {
      "image/png": "[encoded data removed]",
      "text/plain": [
       "<Figure size 432x288 with 1 Axes>"
      ]
     },
     "metadata": {
      "needs_background": "light"
     },
     "output_type": "display_data"
    }
   ],
   "source": [
    "plt.imshow(torso, cmap='gray')"
   ]
  },
  {
   "cell_type": "code",
   "execution_count": 51,
   "id": "2471ae5d",
   "metadata": {},
   "outputs": [],
   "source": [
    "hole_hand[4] = torso"
   ]
  },
  {
   "cell_type": "code",
   "execution_count": 52,
   "id": "d3e1a86c",
   "metadata": {},
   "outputs": [],
   "source": [
    "hole_hand[13] = wanted_spot"
   ]
  },
  {
   "cell_type": "code",
   "execution_count": 53,
   "id": "5c806f41",
   "metadata": {},
   "outputs": [
    {
     "data": {
      "image/png": "[encoded data removed]",
      "text/plain": [
       "<Figure size 576x1440 with 14 Axes>"
      ]
     },
     "metadata": {
      "needs_background": "light"
     },
     "output_type": "display_data"
    }
   ],
   "source": [
    "fig = plt.figure(figsize=(8, 20))\n",
    "\n",
    "for i in range(14):\n",
    "    ax = fig.add_subplot(5, 3, i+1)\n",
    "    plt.imshow(hole_hand[i],cmap='gray')\n",
    "    ax.xaxis.set_visible(False)\n",
    "    ax.yaxis.set_visible(False)\n",
    "plt.show()"
   ]
  }
 ],
 "metadata": {
  "kernelspec": {
   "display_name": "improve",
   "language": "python",
   "name": "improve"
  },
  "language_info": {
   "codemirror_mode": {
    "name": "ipython",
    "version": 3
   },
   "file_extension": ".py",
   "mimetype": "text/x-python",
   "name": "python",
   "nbconvert_exporter": "python",
   "pygments_lexer": "ipython3",
   "version": "3.7.11"
  }
 },
 "nbformat": 4,
 "nbformat_minor": 5
}