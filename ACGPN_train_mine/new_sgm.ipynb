{
 "cells": [
  {
   "cell_type": "code",
   "execution_count": 1,
   "metadata": {},
   "outputs": [],
   "source": [
    "import torch\n",
    "import os\n",
    "from PIL import Image\n",
    "import matplotlib.pyplot as plt\n",
    "import torchvision.transforms as transforms\n",
    "import json\n",
    "import numpy as np\n",
    "from PIL import ImageDraw\n",
    "from data.base_dataset import BaseDataset, get_params, get_transform\n",
    "import models.networks as networks\n",
    "import torch.utils.data as data\n",
    "from torch.autograd import Variable"
   ]
  },
  {
   "cell_type": "code",
   "execution_count": 7,
   "metadata": {},
   "outputs": [],
   "source": [
    "class Args:\n",
    "    name = 'label2city'\n",
    "    gpu_ids = [0, 1, 2, 3]\n",
    "    checkpoints_dir = './checkpoints'\n",
    "    model = 'pix2pixHD'\n",
    "    norm = 'instance'\n",
    "    use_dropout = True\n",
    "    verbose = True\n",
    "    batchSize = 1\n",
    "    loadSAize = 512\n",
    "    fineSize = 512\n",
    "    label_nc = 20\n",
    "    input_nc = 3\n",
    "    output_nc = 3\n",
    "    dataroot = '../../longshortV2'\n",
    "    datapairs = 'train_pairs.txt'\n",
    "    resize_or_crop = 'scale_width'\n",
    "    serial_batches = True\n",
    "    no_flip = True\n",
    "    nThreads = 2\n",
    "    max_dataset_size = float(\"inf\")\n",
    "    display_winsize = 512\n",
    "    tf_log = True\n",
    "    netG = 'global'\n",
    "    ngf = 64\n",
    "    n_downsample_global = 4\n",
    "    n_blocks_global = 4\n",
    "    n_blocks_local = 3\n",
    "    n_local_enhancers = 1\n",
    "    niter_fix_global = 0\n",
    "    continue_train = True\n",
    "    display_freq = 100\n",
    "    print_freq = 100\n",
    "    save_latest_freq = 1000\n",
    "    save_epoch_freq = 10 \n",
    "    no_html = True\n",
    "    debug = True\n",
    "    load_pretrain = '../label2city'\n",
    "    which_epoch = 'latest'\n",
    "    phase = 'test'\n",
    "    niter = 100\n",
    "    niter_decay = 100\n",
    "    beta1 = 0.5\n",
    "    lr = 0.0002\n",
    "    num_D = 2\n",
    "    n_layers_D = 3\n",
    "    ndf = 64\n",
    "    lambda_feat = 10.0\n",
    "    no_ganFeat_loss = True\n",
    "    no_vgg_loss = False\n",
    "    no_lsgan = True\n",
    "    pool_size = 0\n",
    "    isTrain = True\n",
    "\n",
    "opt = Args"
   ]
  },
  {
   "cell_type": "code",
   "execution_count": 17,
   "metadata": {},
   "outputs": [],
   "source": [
    "def make_dataset(dir):\n",
    "    images = []\n",
    "    assert os.path.isdir(dir), '%s is not a valid directory' % dir\n",
    "\n",
    "    f = dir.split('/')[-1].split('_')[-1]\n",
    "    dirs= os.listdir(dir)\n",
    "    for img in dirs:\n",
    "\n",
    "        path = os.path.join(dir, img)\n",
    "        #print(path)\n",
    "        images.append(path)\n",
    "    return images\n",
    "\n",
    "def get_params(opt, size):\n",
    "    w, h = size\n",
    "    new_h = h\n",
    "    new_w = w\n",
    "    if opt.resize_or_crop == 'resize_and_crop':\n",
    "        new_h = new_w = opt.loadSize            \n",
    "    elif opt.resize_or_crop == 'scale_width_and_crop':\n",
    "        new_w = opt.loadSize\n",
    "        new_h = opt.loadSize * h // w\n",
    "\n",
    "    x = random.randint(0, np.maximum(0, new_w - opt.fineSize))\n",
    "    y = random.randint(0, np.maximum(0, new_h - opt.fineSize))\n",
    "\n",
    "def get_transform(method=Image.BICUBIC, normalize=True):\n",
    "        transform_list = []\n",
    "        transform_list += [transforms.ToTensor()]\n",
    "        if normalize:\n",
    "            transform_list += [transforms.Normalize((0.5, 0.5, 0.5),\n",
    "                                                    (0.5, 0.5, 0.5))]\n",
    "        return transforms.Compose(transform_list)\n",
    "    \n",
    "class BaseDataset(data.Dataset):\n",
    "    def __init__(self, opt):\n",
    "        self.opt = opt\n",
    "        super(BaseDataset, self).__init__()\n",
    "        dir_label = os.path.join(opt.dataroot, 'test', opt.phase + '_label')\n",
    "        self.labels = make_dataset(dir_label)\n",
    "        dir_img = os.path.join(opt.dataroot, 'test',opt.phase + '_img')\n",
    "        self.images = make_dataset(dir_img)\n",
    "        dir_edge = os.path.join(opt.dataroot, 'test',opt.phase + '_edge')\n",
    "        self.edges = make_dataset(dir_edge)\n",
    "        dir_color = os.path.join(opt.dataroot,'test', opt.phase + '_color')\n",
    "        self.colors = make_dataset(dir_color)\n",
    "        dir_pose = os.path.join(opt.dataroot,'test', opt.phase + '_pose')\n",
    "        self.pose = make_dataset(dir_pose)\n",
    "        dir_cwarp = os.path.join(opt.dataroot,'test', opt.phase + '_cwarp')\n",
    "        self.cwarp = make_dataset(dir_cwarp)\n",
    "        dir_mwarp = os.path.join(opt.dataroot, 'test',opt.phase + '_mwarp')\n",
    "        self.mwarp = make_dataset(dir_mwarp)\n",
    "        \n",
    "    def image_for_pose(self, index, transform):\n",
    "        with open(self.pose[index], 'r') as f:\n",
    "            pose_label = json.load(f)\n",
    "            pose_data = pose_label['people'][0]['pose_keypoints']\n",
    "            pose_data = np.array(pose_data)\n",
    "            pose_data = pose_data.reshape((-1,3))\n",
    "        point_num = pose_data.shape[0]\n",
    "        fine_height = 256\n",
    "        fine_width = 192\n",
    "        pose_map = torch.zeros(point_num, fine_height, fine_width)\n",
    "        r = 5\n",
    "        im_pose = Image.new('L', (fine_width, fine_height))\n",
    "        pose_draw = ImageDraw.Draw(im_pose)\n",
    "        for i in range(point_num):\n",
    "            one_map = Image.new('L', (fine_width, fine_height))\n",
    "            draw = ImageDraw.Draw(one_map)\n",
    "            pointx = pose_data[i,0]\n",
    "            pointy = pose_data[i,1]\n",
    "            if pointx > 1 and pointy > 1:\n",
    "                draw.rectangle((pointx-r, pointy-r, pointx+r, pointy+r), 'white', 'white')\n",
    "                pose_draw.rectangle((pointx-r, pointy-r, pointx+r, pointy+r), 'white', 'white')\n",
    "            one_map = transform(one_map.convert('RGB'))\n",
    "            pose_map[i] = one_map[0]\n",
    "            return pose_map\n",
    "    \n",
    "    def __getitem__(self, index):        \n",
    "        label = Image.open(self.labels[index]).convert('L')\n",
    "        image = Image.open(self.images[index]).convert('RGB')\n",
    "        mask = Image.open(self.images[index]).convert('L')\n",
    "        edge = Image.open(self.edges[index]).convert('L')\n",
    "        wedge = Image.open(self.mwarp[index]).convert('L')\n",
    "        color = Image.open(self.colors[index]).convert('RGB')\n",
    "        wcolor = Image.open(self.cwarp[index]).convert('RGB')\n",
    "        \n",
    "        transform_A = get_transform(method=Image.NEAREST, normalize=False)\n",
    "        label_tensor = transform_A(label) * 255\n",
    "        transform_B = get_transform()      \n",
    "        image_tensor = transform_B(image)\n",
    "        mask_tensor = transform_A(image)\n",
    "        edge_tensor = transform_A(edge)\n",
    "        wedge_tensor = transform_A(wedge)\n",
    "        color_tensor = transform_B(color)\n",
    "        wcolor_tensor = transform_B(wcolor)\n",
    "        pose_map = self.image_for_pose(index, transform_B)\n",
    "        \n",
    "        return {'label': label_tensor, 'image': image_tensor, \n",
    "                             'edge': edge_tensor,'color': color_tensor, \n",
    "                             'mask': mask_tensor, \n",
    "                             'colormask': mask_tensor,'pose':pose_map,\n",
    "                             'wedge' : wedge_tensor, 'wcolor' : wcolor_tensor}\n",
    "    \n",
    "    def __len__(self):\n",
    "        return len(self.labels)"
   ]
  },
  {
   "cell_type": "code",
   "execution_count": 9,
   "metadata": {},
   "outputs": [
    {
     "data": {
      "text/plain": [
       "<All keys matched successfully>"
      ]
     },
     "execution_count": 9,
     "metadata": {},
     "output_type": "execute_result"
    }
   ],
   "source": [
    "with torch.no_grad():\n",
    "    G1_old = networks.define_Refine(37, 14, opt.gpu_ids).eval()\n",
    "save_filename = '%s_net_%s.pth' % (opt.which_epoch, 'G1')\n",
    "save_path = os.path.join(opt.load_pretrain, save_filename)\n",
    "G1_old.load_state_dict(torch.load(save_path))"
   ]
  },
  {
   "cell_type": "code",
   "execution_count": 10,
   "metadata": {},
   "outputs": [
    {
     "data": {
      "text/plain": [
       "<All keys matched successfully>"
      ]
     },
     "execution_count": 10,
     "metadata": {},
     "output_type": "execute_result"
    }
   ],
   "source": [
    "with torch.no_grad():\n",
    "    G1_new = networks.define_Refine(37, 14, opt.gpu_ids).eval()\n",
    "save_filename = 'custom_G1.pth'\n",
    "save_path = os.path.join(opt.load_pretrain, save_filename)\n",
    "G1_new.load_state_dict(torch.load(save_path))"
   ]
  },
  {
   "cell_type": "code",
   "execution_count": 18,
   "metadata": {},
   "outputs": [],
   "source": [
    "t = BaseDataset(opt)\n",
    "dataloader = torch.utils.data.DataLoader(\n",
    "    t,\n",
    "    batch_size=opt.batchSize,\n",
    "    shuffle=False)"
   ]
  },
  {
   "cell_type": "code",
   "execution_count": 19,
   "metadata": {},
   "outputs": [],
   "source": [
    "def changearm(old_label):\n",
    "    label=old_label\n",
    "    arm1=torch.FloatTensor((label.cpu().numpy()==11).astype(np.int))\n",
    "    arm2=torch.FloatTensor((label.cpu().numpy()==13).astype(np.int))\n",
    "    noise=torch.FloatTensor((label.cpu().numpy()==7).astype(np.int))\n",
    "    label=label*(1-arm1)+arm1*4\n",
    "    label=label*(1-arm2)+arm2*4\n",
    "    label=label*(1-noise)+noise*4\n",
    "    return label"
   ]
  },
  {
   "cell_type": "code",
   "execution_count": 20,
   "metadata": {},
   "outputs": [
    {
     "name": "stderr",
     "output_type": "stream",
     "text": [
      "<ipython-input-19-c5e6cbd117a1>:3: DeprecationWarning: `np.int` is a deprecated alias for the builtin `int`. To silence this warning, use `int` by itself. Doing this will not modify any behavior and is safe. When replacing `np.int`, you may wish to use e.g. `np.int64` or `np.int32` to specify the precision. If you wish to review your current use, check the release note link for additional information.\n",
      "Deprecated in NumPy 1.20; for more details and guidance: https://numpy.org/devdocs/release/1.20.0-notes.html#deprecations\n",
      "  arm1=torch.FloatTensor((label.cpu().numpy()==11).astype(np.int))\n",
      "<ipython-input-19-c5e6cbd117a1>:4: DeprecationWarning: `np.int` is a deprecated alias for the builtin `int`. To silence this warning, use `int` by itself. Doing this will not modify any behavior and is safe. When replacing `np.int`, you may wish to use e.g. `np.int64` or `np.int32` to specify the precision. If you wish to review your current use, check the release note link for additional information.\n",
      "Deprecated in NumPy 1.20; for more details and guidance: https://numpy.org/devdocs/release/1.20.0-notes.html#deprecations\n",
      "  arm2=torch.FloatTensor((label.cpu().numpy()==13).astype(np.int))\n",
      "<ipython-input-19-c5e6cbd117a1>:5: DeprecationWarning: `np.int` is a deprecated alias for the builtin `int`. To silence this warning, use `int` by itself. Doing this will not modify any behavior and is safe. When replacing `np.int`, you may wish to use e.g. `np.int64` or `np.int32` to specify the precision. If you wish to review your current use, check the release note link for additional information.\n",
      "Deprecated in NumPy 1.20; for more details and guidance: https://numpy.org/devdocs/release/1.20.0-notes.html#deprecations\n",
      "  noise=torch.FloatTensor((label.cpu().numpy()==7).astype(np.int))\n"
     ]
    }
   ],
   "source": [
    "for data in dataloader:\n",
    "    all_clothes_label = changearm(data['label'])\n",
    "    mask_clothes = torch.FloatTensor((data['label'].cpu().numpy() == 4).astype(np.int))\n",
    "    mask_fore = torch.FloatTensor((data['label'].cpu().numpy() > 0).astype(np.int))\n",
    "    img_fore = data['image'] * mask_fore\n",
    "\n",
    "    in_label = Variable(data['label'].cuda())\n",
    "    in_edge = Variable(data['edge'].cuda())\n",
    "    in_wedge = Variable(data['wedge'].cuda())\n",
    "    in_img_fore = Variable(img_fore.cuda())\n",
    "    in_mask_clothes = Variable(mask_clothes.cuda())\n",
    "    in_color = Variable(data['color'].cuda())\n",
    "    in_wcolor = Variable(data['wcolor'].cuda())\n",
    "    in_all_clothes_label = Variable(all_clothes_label.cuda())\n",
    "    in_image = Variable(data['image'].cuda())\n",
    "    in_pose = Variable(data['pose'].cuda())\n",
    "    in_image2 = Variable(data['image'].cuda())\n",
    "    in_mask_fore = Variable(mask_fore.cuda()) \n",
    "    break"
   ]
  },
  {
   "cell_type": "code",
   "execution_count": 21,
   "metadata": {},
   "outputs": [],
   "source": [
    "def encode_input(label_map, clothes_mask, all_clothes_label):\n",
    "\n",
    "    size = label_map.size()\n",
    "    oneHot_size = (size[0], 14, size[2], size[3])\n",
    "    input_label = torch.cuda.FloatTensor(torch.Size(oneHot_size)).zero_()\n",
    "    input_label = input_label.scatter_(1, label_map.data.long().cuda(), 1.0)\n",
    "\n",
    "    masked_label = torch.cuda.FloatTensor(torch.Size(oneHot_size)).zero_()\n",
    "    masked_label = masked_label.scatter_(1, (label_map * (1 - clothes_mask)).data.long().cuda(), 1.0)\n",
    "\n",
    "    c_label = torch.cuda.FloatTensor(torch.Size(oneHot_size)).zero_()\n",
    "    c_label = c_label.scatter_(1, all_clothes_label.data.long().cuda(), 1.0)\n",
    "\n",
    "    input_label = Variable(input_label)\n",
    "\n",
    "    return input_label, masked_label, c_label\n",
    "\n",
    "input_label, masked_label, all_clothes_label = encode_input(in_label, in_mask_clothes, in_all_clothes_label)"
   ]
  },
  {
   "cell_type": "code",
   "execution_count": 22,
   "metadata": {},
   "outputs": [],
   "source": [
    "import cv2\n",
    "def gen_noise(shape):\n",
    "    noise = np.zeros(shape, dtype=np.uint8)\n",
    "    ### noise\n",
    "    noise = cv2.randn(noise, 0, 255)\n",
    "    noise = np.asarray(noise / 255, dtype=np.uint8)\n",
    "    noise = torch.tensor(noise, dtype=torch.float32)\n",
    "    return noise.cuda()"
   ]
  },
  {
   "cell_type": "code",
   "execution_count": 23,
   "metadata": {},
   "outputs": [
    {
     "name": "stderr",
     "output_type": "stream",
     "text": [
      "<ipython-input-23-f06f26415afe>:1: DeprecationWarning: `np.float` is a deprecated alias for the builtin `float`. To silence this warning, use `float` by itself. Doing this will not modify any behavior and is safe. If you specifically wanted the numpy scalar type, use `np.float64` here.\n",
      "Deprecated in NumPy 1.20; for more details and guidance: https://numpy.org/devdocs/release/1.20.0-notes.html#deprecations\n",
      "  arm1_mask = torch.FloatTensor((in_label.cpu().numpy() == 11).astype(np.float)).cuda()\n",
      "<ipython-input-23-f06f26415afe>:2: DeprecationWarning: `np.float` is a deprecated alias for the builtin `float`. To silence this warning, use `float` by itself. Doing this will not modify any behavior and is safe. If you specifically wanted the numpy scalar type, use `np.float64` here.\n",
      "Deprecated in NumPy 1.20; for more details and guidance: https://numpy.org/devdocs/release/1.20.0-notes.html#deprecations\n",
      "  arm2_mask = torch.FloatTensor((in_label.cpu().numpy() == 13).astype(np.float)).cuda()\n",
      "<ipython-input-23-f06f26415afe>:3: DeprecationWarning: `np.float` is a deprecated alias for the builtin `float`. To silence this warning, use `float` by itself. Doing this will not modify any behavior and is safe. If you specifically wanted the numpy scalar type, use `np.float64` here.\n",
      "Deprecated in NumPy 1.20; for more details and guidance: https://numpy.org/devdocs/release/1.20.0-notes.html#deprecations\n",
      "  pre_clothes_mask=torch.FloatTensor((in_edge.detach().cpu().numpy() > 0.5).astype(np.float)).cuda()\n"
     ]
    }
   ],
   "source": [
    "arm1_mask = torch.FloatTensor((in_label.cpu().numpy() == 11).astype(np.float)).cuda()\n",
    "arm2_mask = torch.FloatTensor((in_label.cpu().numpy() == 13).astype(np.float)).cuda()\n",
    "pre_clothes_mask=torch.FloatTensor((in_edge.detach().cpu().numpy() > 0.5).astype(np.float)).cuda()\n",
    "clothes = in_color * pre_clothes_mask\n",
    "\n",
    "shape = pre_clothes_mask.shape\n",
    "\n",
    "G1_in = torch.cat([pre_clothes_mask, clothes, all_clothes_label, in_pose, gen_noise(shape)], dim=1)\n",
    "arm_label = G1_old.refine(G1_in) #input data into G1 (cGAN)"
   ]
  },
  {
   "cell_type": "code",
   "execution_count": 24,
   "metadata": {},
   "outputs": [
    {
     "name": "stderr",
     "output_type": "stream",
     "text": [
      "<ipython-input-24-de18bc9c1467>:1: DeprecationWarning: `np.float` is a deprecated alias for the builtin `float`. To silence this warning, use `float` by itself. Doing this will not modify any behavior and is safe. If you specifically wanted the numpy scalar type, use `np.float64` here.\n",
      "Deprecated in NumPy 1.20; for more details and guidance: https://numpy.org/devdocs/release/1.20.0-notes.html#deprecations\n",
      "  pre_clothes_mask=torch.FloatTensor((in_wedge.detach().cpu().numpy() > 0.5).astype(np.float)).cuda()\n"
     ]
    }
   ],
   "source": [
    "pre_clothes_mask=torch.FloatTensor((in_wedge.detach().cpu().numpy() > 0.5).astype(np.float)).cuda()\n",
    "clothes = in_wcolor * pre_clothes_mask\n",
    "G1_new_in = torch.cat([pre_clothes_mask, clothes, all_clothes_label, in_pose, gen_noise(shape)], dim=1)"
   ]
  },
  {
   "cell_type": "code",
   "execution_count": 25,
   "metadata": {},
   "outputs": [],
   "source": [
    "arm_label_new = G1_new.refine(G1_new_in) #input data into G1 (cGAN)"
   ]
  },
  {
   "cell_type": "code",
   "execution_count": 26,
   "metadata": {},
   "outputs": [],
   "source": [
    "def generate_label_plain(inputs):\n",
    "    size = inputs.size()\n",
    "    pred_batch = []\n",
    "    for input in inputs:\n",
    "        input = input.view(1, 14, 256,192)\n",
    "        pred = np.squeeze(input.data.max(1)[1].cpu().numpy(), axis=0)\n",
    "        pred_batch.append(pred)\n",
    "\n",
    "    pred_batch = np.array(pred_batch)\n",
    "    pred_batch = torch.from_numpy(pred_batch)\n",
    "    label_batch = pred_batch.view(size[0], 1, 256,192)\n",
    "\n",
    "    return label_batch\n",
    "\n",
    "def generate_label_color(inputs):\n",
    "    label_batch = []\n",
    "    for i in range(len(inputs)):\n",
    "        label_batch.append(util.tensor2label(inputs[i], opt.label_nc))\n",
    "    label_batch = np.array(label_batch)\n",
    "    label_batch = label_batch * 2 - 1\n",
    "    input_label = torch.from_numpy(label_batch)\n",
    "    return input_label\n",
    "\n",
    "def generate_discrete_label(inputs, label_nc, onehot=True, encode=True):\n",
    "    pred_batch = []\n",
    "    size = inputs.size()\n",
    "    for input in inputs:\n",
    "        input = input.view(1, label_nc, size[2], size[3])\n",
    "        pred = np.squeeze(input.data.max(1)[1].cpu().numpy(), axis=0)\n",
    "        pred_batch.append(pred)\n",
    "    pred_batch = np.array(pred_batch)\n",
    "    pred_batch = torch.from_numpy(pred_batch)\n",
    "    label_map = []\n",
    "    for p in pred_batch:\n",
    "        p = p.view(1, 256, 192)\n",
    "        label_map.append(p)\n",
    "    label_map = torch.stack(label_map, 0)\n",
    "    if not onehot:\n",
    "        return label_map.float().cuda()\n",
    "    size = label_map.size()\n",
    "    oneHot_size = (size[0], label_nc, size[2], size[3])\n",
    "    input_label = torch.cuda.FloatTensor(torch.Size(oneHot_size)).zero_()\n",
    "    input_label = input_label.scatter_(1, label_map.data.long().cuda(), 1.0)\n",
    "    return input_label\n",
    "\n",
    "armlabel_map = generate_discrete_label(arm_label.detach(), 14, False)\n",
    "armlabel_map_new = generate_discrete_label(arm_label_new.detach(), 14, False)"
   ]
  },
  {
   "cell_type": "code",
   "execution_count": 27,
   "metadata": {},
   "outputs": [
    {
     "data": {
      "image/png": "[encoded data removed]",
      "text/plain": [
       "<Figure size 432x288 with 3 Axes>"
      ]
     },
     "metadata": {
      "needs_background": "light"
     },
     "output_type": "display_data"
    }
   ],
   "source": [
    "secondInput = (in_label * (1 - in_mask_clothes)).transpose(0, 1)[0].long()\n",
    "\n",
    "figure = plt.figure()\n",
    "figure.add_subplot(1,3, 1).set_title('old sgm')\n",
    "plt.imshow((armlabel_map[0].permute(1,2,0).detach().cpu().numpy() + 1)/2)\n",
    "figure.add_subplot(1,3, 2).set_title('new sgm')\n",
    "plt.imshow((armlabel_map_new[0].permute(1,2,0).detach().cpu().numpy() + 1)/2)\n",
    "figure.add_subplot(1,3, 3).set_title('gt')\n",
    "plt.imshow((secondInput.permute(1,2,0).detach().cpu().numpy() + 1)/2)\n",
    "plt.show(block=True)"
   ]
  },
  {
   "cell_type": "code",
   "execution_count": 28,
   "metadata": {},
   "outputs": [
    {
     "name": "stdout",
     "output_type": "stream",
     "text": [
      "The old sgm scores: 2.000629\n",
      "The new sgm scores: 2.357079\n"
     ]
    },
    {
     "name": "stderr",
     "output_type": "stream",
     "text": [
      "C:\\Users\\Tasin\\anaconda3\\envs\\improve\\lib\\site-packages\\torch\\nn\\_reduction.py:42: UserWarning: size_average and reduce args will be deprecated, please use reduction='mean' instead.\n",
      "  warnings.warn(warning.format(ret))\n"
     ]
    }
   ],
   "source": [
    "import torch.nn.functional as F\n",
    "\n",
    "def cross_entropy2d(input, target, weight=None, size_average=True):\n",
    "    n, c, h, w = input.size()\n",
    "    nt, ht, wt = target.size()\n",
    "\n",
    "    # Handle inconsistent size between input and target\n",
    "    if h != ht or w != wt:\n",
    "        input = F.interpolate(input, size=(ht, wt), mode=\"bilinear\", align_corners=True)\n",
    "\n",
    "    input = input.transpose(1, 2).transpose(2, 3).contiguous().view(-1, c)\n",
    "    target = target.view(-1)\n",
    "    loss = F.cross_entropy(\n",
    "        input, target, weight=weight, size_average=size_average, ignore_index=250\n",
    "    )\n",
    "\n",
    "    return loss\n",
    "\n",
    "old_sgm_score = cross_entropy2d(arm_label, secondInput)\n",
    "new_sgm_score = cross_entropy2d(arm_label_new, secondInput)\n",
    "print(\"The old sgm scores: %f\" % old_sgm_score.item())\n",
    "print(\"The new sgm scores: %f\" % new_sgm_score.item())"
   ]
  },
  {
   "cell_type": "code",
   "execution_count": 29,
   "metadata": {},
   "outputs": [],
   "source": [
    "torch.save(armlabel_map_new, 'sgm.pt')"
   ]
  }
 ],
 "metadata": {
  "kernelspec": {
   "display_name": "improve",
   "language": "python",
   "name": "improve"
  },
  "language_info": {
   "codemirror_mode": {
    "name": "ipython",
    "version": 3
   },
   "file_extension": ".py",
   "mimetype": "text/x-python",
   "name": "python",
   "nbconvert_exporter": "python",
   "pygments_lexer": "ipython3",
   "version": "3.9.2"
  }
 },
 "nbformat": 4,
 "nbformat_minor": 4
}
